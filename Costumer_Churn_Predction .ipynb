{
  "nbformat": 4,
  "nbformat_minor": 0,
  "metadata": {
    "colab": {
      "provenance": []
    },
    "kernelspec": {
      "name": "python3",
      "display_name": "Python 3"
    },
    "language_info": {
      "name": "python"
    }
  },
  "cells": [
    {
      "cell_type": "code",
      "execution_count": 1,
      "metadata": {
        "id": "_1zggeEgSMvi"
      },
      "outputs": [],
      "source": [
        "import pandas as pd\n",
        "import seaborn as sns\n",
        "import matplotlib.pyplot as plt\n",
        "import plotly.express as px\n",
        "from sklearn.metrics import classification_report"
      ]
    },
    {
      "cell_type": "code",
      "source": [
        "df = pd.read_csv(\"/content/Churn_Modelling.csv\");"
      ],
      "metadata": {
        "id": "r8_e0GVWSyqh"
      },
      "execution_count": 2,
      "outputs": []
    },
    {
      "cell_type": "markdown",
      "source": [
        "**1.Display Top 5 rows of the Dataset**"
      ],
      "metadata": {
        "id": "K9b9ljjETG7T"
      }
    },
    {
      "cell_type": "code",
      "source": [
        "df.head()"
      ],
      "metadata": {
        "colab": {
          "base_uri": "https://localhost:8080/",
          "height": 226
        },
        "id": "jCC2zC9OSypX",
        "outputId": "6749450c-59bf-442c-93a6-c82105a7538c"
      },
      "execution_count": 3,
      "outputs": [
        {
          "output_type": "execute_result",
          "data": {
            "text/plain": [
              "   RowNumber  CustomerId   Surname  CreditScore Geography  Gender  Age  \\\n",
              "0          1    15634602  Hargrave          619    France  Female   42   \n",
              "1          2    15647311      Hill          608     Spain  Female   41   \n",
              "2          3    15619304      Onio          502    France  Female   42   \n",
              "3          4    15701354      Boni          699    France  Female   39   \n",
              "4          5    15737888  Mitchell          850     Spain  Female   43   \n",
              "\n",
              "   Tenure    Balance  NumOfProducts  HasCrCard  IsActiveMember  \\\n",
              "0       2       0.00              1          1               1   \n",
              "1       1   83807.86              1          0               1   \n",
              "2       8  159660.80              3          1               0   \n",
              "3       1       0.00              2          0               0   \n",
              "4       2  125510.82              1          1               1   \n",
              "\n",
              "   EstimatedSalary  Exited  \n",
              "0        101348.88       1  \n",
              "1        112542.58       0  \n",
              "2        113931.57       1  \n",
              "3         93826.63       0  \n",
              "4         79084.10       0  "
            ],
            "text/html": [
              "\n",
              "  <div id=\"df-a3d007f9-027e-44d4-adf1-a0d4ecc24661\" class=\"colab-df-container\">\n",
              "    <div>\n",
              "<style scoped>\n",
              "    .dataframe tbody tr th:only-of-type {\n",
              "        vertical-align: middle;\n",
              "    }\n",
              "\n",
              "    .dataframe tbody tr th {\n",
              "        vertical-align: top;\n",
              "    }\n",
              "\n",
              "    .dataframe thead th {\n",
              "        text-align: right;\n",
              "    }\n",
              "</style>\n",
              "<table border=\"1\" class=\"dataframe\">\n",
              "  <thead>\n",
              "    <tr style=\"text-align: right;\">\n",
              "      <th></th>\n",
              "      <th>RowNumber</th>\n",
              "      <th>CustomerId</th>\n",
              "      <th>Surname</th>\n",
              "      <th>CreditScore</th>\n",
              "      <th>Geography</th>\n",
              "      <th>Gender</th>\n",
              "      <th>Age</th>\n",
              "      <th>Tenure</th>\n",
              "      <th>Balance</th>\n",
              "      <th>NumOfProducts</th>\n",
              "      <th>HasCrCard</th>\n",
              "      <th>IsActiveMember</th>\n",
              "      <th>EstimatedSalary</th>\n",
              "      <th>Exited</th>\n",
              "    </tr>\n",
              "  </thead>\n",
              "  <tbody>\n",
              "    <tr>\n",
              "      <th>0</th>\n",
              "      <td>1</td>\n",
              "      <td>15634602</td>\n",
              "      <td>Hargrave</td>\n",
              "      <td>619</td>\n",
              "      <td>France</td>\n",
              "      <td>Female</td>\n",
              "      <td>42</td>\n",
              "      <td>2</td>\n",
              "      <td>0.00</td>\n",
              "      <td>1</td>\n",
              "      <td>1</td>\n",
              "      <td>1</td>\n",
              "      <td>101348.88</td>\n",
              "      <td>1</td>\n",
              "    </tr>\n",
              "    <tr>\n",
              "      <th>1</th>\n",
              "      <td>2</td>\n",
              "      <td>15647311</td>\n",
              "      <td>Hill</td>\n",
              "      <td>608</td>\n",
              "      <td>Spain</td>\n",
              "      <td>Female</td>\n",
              "      <td>41</td>\n",
              "      <td>1</td>\n",
              "      <td>83807.86</td>\n",
              "      <td>1</td>\n",
              "      <td>0</td>\n",
              "      <td>1</td>\n",
              "      <td>112542.58</td>\n",
              "      <td>0</td>\n",
              "    </tr>\n",
              "    <tr>\n",
              "      <th>2</th>\n",
              "      <td>3</td>\n",
              "      <td>15619304</td>\n",
              "      <td>Onio</td>\n",
              "      <td>502</td>\n",
              "      <td>France</td>\n",
              "      <td>Female</td>\n",
              "      <td>42</td>\n",
              "      <td>8</td>\n",
              "      <td>159660.80</td>\n",
              "      <td>3</td>\n",
              "      <td>1</td>\n",
              "      <td>0</td>\n",
              "      <td>113931.57</td>\n",
              "      <td>1</td>\n",
              "    </tr>\n",
              "    <tr>\n",
              "      <th>3</th>\n",
              "      <td>4</td>\n",
              "      <td>15701354</td>\n",
              "      <td>Boni</td>\n",
              "      <td>699</td>\n",
              "      <td>France</td>\n",
              "      <td>Female</td>\n",
              "      <td>39</td>\n",
              "      <td>1</td>\n",
              "      <td>0.00</td>\n",
              "      <td>2</td>\n",
              "      <td>0</td>\n",
              "      <td>0</td>\n",
              "      <td>93826.63</td>\n",
              "      <td>0</td>\n",
              "    </tr>\n",
              "    <tr>\n",
              "      <th>4</th>\n",
              "      <td>5</td>\n",
              "      <td>15737888</td>\n",
              "      <td>Mitchell</td>\n",
              "      <td>850</td>\n",
              "      <td>Spain</td>\n",
              "      <td>Female</td>\n",
              "      <td>43</td>\n",
              "      <td>2</td>\n",
              "      <td>125510.82</td>\n",
              "      <td>1</td>\n",
              "      <td>1</td>\n",
              "      <td>1</td>\n",
              "      <td>79084.10</td>\n",
              "      <td>0</td>\n",
              "    </tr>\n",
              "  </tbody>\n",
              "</table>\n",
              "</div>\n",
              "    <div class=\"colab-df-buttons\">\n",
              "\n",
              "  <div class=\"colab-df-container\">\n",
              "    <button class=\"colab-df-convert\" onclick=\"convertToInteractive('df-a3d007f9-027e-44d4-adf1-a0d4ecc24661')\"\n",
              "            title=\"Convert this dataframe to an interactive table.\"\n",
              "            style=\"display:none;\">\n",
              "\n",
              "  <svg xmlns=\"http://www.w3.org/2000/svg\" height=\"24px\" viewBox=\"0 -960 960 960\">\n",
              "    <path d=\"M120-120v-720h720v720H120Zm60-500h600v-160H180v160Zm220 220h160v-160H400v160Zm0 220h160v-160H400v160ZM180-400h160v-160H180v160Zm440 0h160v-160H620v160ZM180-180h160v-160H180v160Zm440 0h160v-160H620v160Z\"/>\n",
              "  </svg>\n",
              "    </button>\n",
              "\n",
              "  <style>\n",
              "    .colab-df-container {\n",
              "      display:flex;\n",
              "      gap: 12px;\n",
              "    }\n",
              "\n",
              "    .colab-df-convert {\n",
              "      background-color: #E8F0FE;\n",
              "      border: none;\n",
              "      border-radius: 50%;\n",
              "      cursor: pointer;\n",
              "      display: none;\n",
              "      fill: #1967D2;\n",
              "      height: 32px;\n",
              "      padding: 0 0 0 0;\n",
              "      width: 32px;\n",
              "    }\n",
              "\n",
              "    .colab-df-convert:hover {\n",
              "      background-color: #E2EBFA;\n",
              "      box-shadow: 0px 1px 2px rgba(60, 64, 67, 0.3), 0px 1px 3px 1px rgba(60, 64, 67, 0.15);\n",
              "      fill: #174EA6;\n",
              "    }\n",
              "\n",
              "    .colab-df-buttons div {\n",
              "      margin-bottom: 4px;\n",
              "    }\n",
              "\n",
              "    [theme=dark] .colab-df-convert {\n",
              "      background-color: #3B4455;\n",
              "      fill: #D2E3FC;\n",
              "    }\n",
              "\n",
              "    [theme=dark] .colab-df-convert:hover {\n",
              "      background-color: #434B5C;\n",
              "      box-shadow: 0px 1px 3px 1px rgba(0, 0, 0, 0.15);\n",
              "      filter: drop-shadow(0px 1px 2px rgba(0, 0, 0, 0.3));\n",
              "      fill: #FFFFFF;\n",
              "    }\n",
              "  </style>\n",
              "\n",
              "    <script>\n",
              "      const buttonEl =\n",
              "        document.querySelector('#df-a3d007f9-027e-44d4-adf1-a0d4ecc24661 button.colab-df-convert');\n",
              "      buttonEl.style.display =\n",
              "        google.colab.kernel.accessAllowed ? 'block' : 'none';\n",
              "\n",
              "      async function convertToInteractive(key) {\n",
              "        const element = document.querySelector('#df-a3d007f9-027e-44d4-adf1-a0d4ecc24661');\n",
              "        const dataTable =\n",
              "          await google.colab.kernel.invokeFunction('convertToInteractive',\n",
              "                                                    [key], {});\n",
              "        if (!dataTable) return;\n",
              "\n",
              "        const docLinkHtml = 'Like what you see? Visit the ' +\n",
              "          '<a target=\"_blank\" href=https://colab.research.google.com/notebooks/data_table.ipynb>data table notebook</a>'\n",
              "          + ' to learn more about interactive tables.';\n",
              "        element.innerHTML = '';\n",
              "        dataTable['output_type'] = 'display_data';\n",
              "        await google.colab.output.renderOutput(dataTable, element);\n",
              "        const docLink = document.createElement('div');\n",
              "        docLink.innerHTML = docLinkHtml;\n",
              "        element.appendChild(docLink);\n",
              "      }\n",
              "    </script>\n",
              "  </div>\n",
              "\n",
              "\n",
              "<div id=\"df-17b0fba5-f61d-4113-a658-d58f41aa4017\">\n",
              "  <button class=\"colab-df-quickchart\" onclick=\"quickchart('df-17b0fba5-f61d-4113-a658-d58f41aa4017')\"\n",
              "            title=\"Suggest charts\"\n",
              "            style=\"display:none;\">\n",
              "\n",
              "<svg xmlns=\"http://www.w3.org/2000/svg\" height=\"24px\"viewBox=\"0 0 24 24\"\n",
              "     width=\"24px\">\n",
              "    <g>\n",
              "        <path d=\"M19 3H5c-1.1 0-2 .9-2 2v14c0 1.1.9 2 2 2h14c1.1 0 2-.9 2-2V5c0-1.1-.9-2-2-2zM9 17H7v-7h2v7zm4 0h-2V7h2v10zm4 0h-2v-4h2v4z\"/>\n",
              "    </g>\n",
              "</svg>\n",
              "  </button>\n",
              "\n",
              "<style>\n",
              "  .colab-df-quickchart {\n",
              "      --bg-color: #E8F0FE;\n",
              "      --fill-color: #1967D2;\n",
              "      --hover-bg-color: #E2EBFA;\n",
              "      --hover-fill-color: #174EA6;\n",
              "      --disabled-fill-color: #AAA;\n",
              "      --disabled-bg-color: #DDD;\n",
              "  }\n",
              "\n",
              "  [theme=dark] .colab-df-quickchart {\n",
              "      --bg-color: #3B4455;\n",
              "      --fill-color: #D2E3FC;\n",
              "      --hover-bg-color: #434B5C;\n",
              "      --hover-fill-color: #FFFFFF;\n",
              "      --disabled-bg-color: #3B4455;\n",
              "      --disabled-fill-color: #666;\n",
              "  }\n",
              "\n",
              "  .colab-df-quickchart {\n",
              "    background-color: var(--bg-color);\n",
              "    border: none;\n",
              "    border-radius: 50%;\n",
              "    cursor: pointer;\n",
              "    display: none;\n",
              "    fill: var(--fill-color);\n",
              "    height: 32px;\n",
              "    padding: 0;\n",
              "    width: 32px;\n",
              "  }\n",
              "\n",
              "  .colab-df-quickchart:hover {\n",
              "    background-color: var(--hover-bg-color);\n",
              "    box-shadow: 0 1px 2px rgba(60, 64, 67, 0.3), 0 1px 3px 1px rgba(60, 64, 67, 0.15);\n",
              "    fill: var(--button-hover-fill-color);\n",
              "  }\n",
              "\n",
              "  .colab-df-quickchart-complete:disabled,\n",
              "  .colab-df-quickchart-complete:disabled:hover {\n",
              "    background-color: var(--disabled-bg-color);\n",
              "    fill: var(--disabled-fill-color);\n",
              "    box-shadow: none;\n",
              "  }\n",
              "\n",
              "  .colab-df-spinner {\n",
              "    border: 2px solid var(--fill-color);\n",
              "    border-color: transparent;\n",
              "    border-bottom-color: var(--fill-color);\n",
              "    animation:\n",
              "      spin 1s steps(1) infinite;\n",
              "  }\n",
              "\n",
              "  @keyframes spin {\n",
              "    0% {\n",
              "      border-color: transparent;\n",
              "      border-bottom-color: var(--fill-color);\n",
              "      border-left-color: var(--fill-color);\n",
              "    }\n",
              "    20% {\n",
              "      border-color: transparent;\n",
              "      border-left-color: var(--fill-color);\n",
              "      border-top-color: var(--fill-color);\n",
              "    }\n",
              "    30% {\n",
              "      border-color: transparent;\n",
              "      border-left-color: var(--fill-color);\n",
              "      border-top-color: var(--fill-color);\n",
              "      border-right-color: var(--fill-color);\n",
              "    }\n",
              "    40% {\n",
              "      border-color: transparent;\n",
              "      border-right-color: var(--fill-color);\n",
              "      border-top-color: var(--fill-color);\n",
              "    }\n",
              "    60% {\n",
              "      border-color: transparent;\n",
              "      border-right-color: var(--fill-color);\n",
              "    }\n",
              "    80% {\n",
              "      border-color: transparent;\n",
              "      border-right-color: var(--fill-color);\n",
              "      border-bottom-color: var(--fill-color);\n",
              "    }\n",
              "    90% {\n",
              "      border-color: transparent;\n",
              "      border-bottom-color: var(--fill-color);\n",
              "    }\n",
              "  }\n",
              "</style>\n",
              "\n",
              "  <script>\n",
              "    async function quickchart(key) {\n",
              "      const quickchartButtonEl =\n",
              "        document.querySelector('#' + key + ' button');\n",
              "      quickchartButtonEl.disabled = true;  // To prevent multiple clicks.\n",
              "      quickchartButtonEl.classList.add('colab-df-spinner');\n",
              "      try {\n",
              "        const charts = await google.colab.kernel.invokeFunction(\n",
              "            'suggestCharts', [key], {});\n",
              "      } catch (error) {\n",
              "        console.error('Error during call to suggestCharts:', error);\n",
              "      }\n",
              "      quickchartButtonEl.classList.remove('colab-df-spinner');\n",
              "      quickchartButtonEl.classList.add('colab-df-quickchart-complete');\n",
              "    }\n",
              "    (() => {\n",
              "      let quickchartButtonEl =\n",
              "        document.querySelector('#df-17b0fba5-f61d-4113-a658-d58f41aa4017 button');\n",
              "      quickchartButtonEl.style.display =\n",
              "        google.colab.kernel.accessAllowed ? 'block' : 'none';\n",
              "    })();\n",
              "  </script>\n",
              "</div>\n",
              "    </div>\n",
              "  </div>\n"
            ]
          },
          "metadata": {},
          "execution_count": 3
        }
      ]
    },
    {
      "cell_type": "markdown",
      "source": [
        "**2.Display Bottom 5 rows of the Dataset**"
      ],
      "metadata": {
        "id": "F7TaX_2lTW9s"
      }
    },
    {
      "cell_type": "code",
      "source": [
        "df.tail()"
      ],
      "metadata": {
        "colab": {
          "base_uri": "https://localhost:8080/",
          "height": 226
        },
        "id": "KRL7LcedSyn5",
        "outputId": "eab0696a-2a52-4b93-fce9-5e7cadb2680a"
      },
      "execution_count": 4,
      "outputs": [
        {
          "output_type": "execute_result",
          "data": {
            "text/plain": [
              "      RowNumber  CustomerId    Surname  CreditScore Geography  Gender  Age  \\\n",
              "9995       9996    15606229   Obijiaku          771    France    Male   39   \n",
              "9996       9997    15569892  Johnstone          516    France    Male   35   \n",
              "9997       9998    15584532        Liu          709    France  Female   36   \n",
              "9998       9999    15682355  Sabbatini          772   Germany    Male   42   \n",
              "9999      10000    15628319     Walker          792    France  Female   28   \n",
              "\n",
              "      Tenure    Balance  NumOfProducts  HasCrCard  IsActiveMember  \\\n",
              "9995       5       0.00              2          1               0   \n",
              "9996      10   57369.61              1          1               1   \n",
              "9997       7       0.00              1          0               1   \n",
              "9998       3   75075.31              2          1               0   \n",
              "9999       4  130142.79              1          1               0   \n",
              "\n",
              "      EstimatedSalary  Exited  \n",
              "9995         96270.64       0  \n",
              "9996        101699.77       0  \n",
              "9997         42085.58       1  \n",
              "9998         92888.52       1  \n",
              "9999         38190.78       0  "
            ],
            "text/html": [
              "\n",
              "  <div id=\"df-5ad2cfe2-fea4-4bd8-99a4-53f084ec1416\" class=\"colab-df-container\">\n",
              "    <div>\n",
              "<style scoped>\n",
              "    .dataframe tbody tr th:only-of-type {\n",
              "        vertical-align: middle;\n",
              "    }\n",
              "\n",
              "    .dataframe tbody tr th {\n",
              "        vertical-align: top;\n",
              "    }\n",
              "\n",
              "    .dataframe thead th {\n",
              "        text-align: right;\n",
              "    }\n",
              "</style>\n",
              "<table border=\"1\" class=\"dataframe\">\n",
              "  <thead>\n",
              "    <tr style=\"text-align: right;\">\n",
              "      <th></th>\n",
              "      <th>RowNumber</th>\n",
              "      <th>CustomerId</th>\n",
              "      <th>Surname</th>\n",
              "      <th>CreditScore</th>\n",
              "      <th>Geography</th>\n",
              "      <th>Gender</th>\n",
              "      <th>Age</th>\n",
              "      <th>Tenure</th>\n",
              "      <th>Balance</th>\n",
              "      <th>NumOfProducts</th>\n",
              "      <th>HasCrCard</th>\n",
              "      <th>IsActiveMember</th>\n",
              "      <th>EstimatedSalary</th>\n",
              "      <th>Exited</th>\n",
              "    </tr>\n",
              "  </thead>\n",
              "  <tbody>\n",
              "    <tr>\n",
              "      <th>9995</th>\n",
              "      <td>9996</td>\n",
              "      <td>15606229</td>\n",
              "      <td>Obijiaku</td>\n",
              "      <td>771</td>\n",
              "      <td>France</td>\n",
              "      <td>Male</td>\n",
              "      <td>39</td>\n",
              "      <td>5</td>\n",
              "      <td>0.00</td>\n",
              "      <td>2</td>\n",
              "      <td>1</td>\n",
              "      <td>0</td>\n",
              "      <td>96270.64</td>\n",
              "      <td>0</td>\n",
              "    </tr>\n",
              "    <tr>\n",
              "      <th>9996</th>\n",
              "      <td>9997</td>\n",
              "      <td>15569892</td>\n",
              "      <td>Johnstone</td>\n",
              "      <td>516</td>\n",
              "      <td>France</td>\n",
              "      <td>Male</td>\n",
              "      <td>35</td>\n",
              "      <td>10</td>\n",
              "      <td>57369.61</td>\n",
              "      <td>1</td>\n",
              "      <td>1</td>\n",
              "      <td>1</td>\n",
              "      <td>101699.77</td>\n",
              "      <td>0</td>\n",
              "    </tr>\n",
              "    <tr>\n",
              "      <th>9997</th>\n",
              "      <td>9998</td>\n",
              "      <td>15584532</td>\n",
              "      <td>Liu</td>\n",
              "      <td>709</td>\n",
              "      <td>France</td>\n",
              "      <td>Female</td>\n",
              "      <td>36</td>\n",
              "      <td>7</td>\n",
              "      <td>0.00</td>\n",
              "      <td>1</td>\n",
              "      <td>0</td>\n",
              "      <td>1</td>\n",
              "      <td>42085.58</td>\n",
              "      <td>1</td>\n",
              "    </tr>\n",
              "    <tr>\n",
              "      <th>9998</th>\n",
              "      <td>9999</td>\n",
              "      <td>15682355</td>\n",
              "      <td>Sabbatini</td>\n",
              "      <td>772</td>\n",
              "      <td>Germany</td>\n",
              "      <td>Male</td>\n",
              "      <td>42</td>\n",
              "      <td>3</td>\n",
              "      <td>75075.31</td>\n",
              "      <td>2</td>\n",
              "      <td>1</td>\n",
              "      <td>0</td>\n",
              "      <td>92888.52</td>\n",
              "      <td>1</td>\n",
              "    </tr>\n",
              "    <tr>\n",
              "      <th>9999</th>\n",
              "      <td>10000</td>\n",
              "      <td>15628319</td>\n",
              "      <td>Walker</td>\n",
              "      <td>792</td>\n",
              "      <td>France</td>\n",
              "      <td>Female</td>\n",
              "      <td>28</td>\n",
              "      <td>4</td>\n",
              "      <td>130142.79</td>\n",
              "      <td>1</td>\n",
              "      <td>1</td>\n",
              "      <td>0</td>\n",
              "      <td>38190.78</td>\n",
              "      <td>0</td>\n",
              "    </tr>\n",
              "  </tbody>\n",
              "</table>\n",
              "</div>\n",
              "    <div class=\"colab-df-buttons\">\n",
              "\n",
              "  <div class=\"colab-df-container\">\n",
              "    <button class=\"colab-df-convert\" onclick=\"convertToInteractive('df-5ad2cfe2-fea4-4bd8-99a4-53f084ec1416')\"\n",
              "            title=\"Convert this dataframe to an interactive table.\"\n",
              "            style=\"display:none;\">\n",
              "\n",
              "  <svg xmlns=\"http://www.w3.org/2000/svg\" height=\"24px\" viewBox=\"0 -960 960 960\">\n",
              "    <path d=\"M120-120v-720h720v720H120Zm60-500h600v-160H180v160Zm220 220h160v-160H400v160Zm0 220h160v-160H400v160ZM180-400h160v-160H180v160Zm440 0h160v-160H620v160ZM180-180h160v-160H180v160Zm440 0h160v-160H620v160Z\"/>\n",
              "  </svg>\n",
              "    </button>\n",
              "\n",
              "  <style>\n",
              "    .colab-df-container {\n",
              "      display:flex;\n",
              "      gap: 12px;\n",
              "    }\n",
              "\n",
              "    .colab-df-convert {\n",
              "      background-color: #E8F0FE;\n",
              "      border: none;\n",
              "      border-radius: 50%;\n",
              "      cursor: pointer;\n",
              "      display: none;\n",
              "      fill: #1967D2;\n",
              "      height: 32px;\n",
              "      padding: 0 0 0 0;\n",
              "      width: 32px;\n",
              "    }\n",
              "\n",
              "    .colab-df-convert:hover {\n",
              "      background-color: #E2EBFA;\n",
              "      box-shadow: 0px 1px 2px rgba(60, 64, 67, 0.3), 0px 1px 3px 1px rgba(60, 64, 67, 0.15);\n",
              "      fill: #174EA6;\n",
              "    }\n",
              "\n",
              "    .colab-df-buttons div {\n",
              "      margin-bottom: 4px;\n",
              "    }\n",
              "\n",
              "    [theme=dark] .colab-df-convert {\n",
              "      background-color: #3B4455;\n",
              "      fill: #D2E3FC;\n",
              "    }\n",
              "\n",
              "    [theme=dark] .colab-df-convert:hover {\n",
              "      background-color: #434B5C;\n",
              "      box-shadow: 0px 1px 3px 1px rgba(0, 0, 0, 0.15);\n",
              "      filter: drop-shadow(0px 1px 2px rgba(0, 0, 0, 0.3));\n",
              "      fill: #FFFFFF;\n",
              "    }\n",
              "  </style>\n",
              "\n",
              "    <script>\n",
              "      const buttonEl =\n",
              "        document.querySelector('#df-5ad2cfe2-fea4-4bd8-99a4-53f084ec1416 button.colab-df-convert');\n",
              "      buttonEl.style.display =\n",
              "        google.colab.kernel.accessAllowed ? 'block' : 'none';\n",
              "\n",
              "      async function convertToInteractive(key) {\n",
              "        const element = document.querySelector('#df-5ad2cfe2-fea4-4bd8-99a4-53f084ec1416');\n",
              "        const dataTable =\n",
              "          await google.colab.kernel.invokeFunction('convertToInteractive',\n",
              "                                                    [key], {});\n",
              "        if (!dataTable) return;\n",
              "\n",
              "        const docLinkHtml = 'Like what you see? Visit the ' +\n",
              "          '<a target=\"_blank\" href=https://colab.research.google.com/notebooks/data_table.ipynb>data table notebook</a>'\n",
              "          + ' to learn more about interactive tables.';\n",
              "        element.innerHTML = '';\n",
              "        dataTable['output_type'] = 'display_data';\n",
              "        await google.colab.output.renderOutput(dataTable, element);\n",
              "        const docLink = document.createElement('div');\n",
              "        docLink.innerHTML = docLinkHtml;\n",
              "        element.appendChild(docLink);\n",
              "      }\n",
              "    </script>\n",
              "  </div>\n",
              "\n",
              "\n",
              "<div id=\"df-7712f785-0461-4775-85c8-f7d7f676bee4\">\n",
              "  <button class=\"colab-df-quickchart\" onclick=\"quickchart('df-7712f785-0461-4775-85c8-f7d7f676bee4')\"\n",
              "            title=\"Suggest charts\"\n",
              "            style=\"display:none;\">\n",
              "\n",
              "<svg xmlns=\"http://www.w3.org/2000/svg\" height=\"24px\"viewBox=\"0 0 24 24\"\n",
              "     width=\"24px\">\n",
              "    <g>\n",
              "        <path d=\"M19 3H5c-1.1 0-2 .9-2 2v14c0 1.1.9 2 2 2h14c1.1 0 2-.9 2-2V5c0-1.1-.9-2-2-2zM9 17H7v-7h2v7zm4 0h-2V7h2v10zm4 0h-2v-4h2v4z\"/>\n",
              "    </g>\n",
              "</svg>\n",
              "  </button>\n",
              "\n",
              "<style>\n",
              "  .colab-df-quickchart {\n",
              "      --bg-color: #E8F0FE;\n",
              "      --fill-color: #1967D2;\n",
              "      --hover-bg-color: #E2EBFA;\n",
              "      --hover-fill-color: #174EA6;\n",
              "      --disabled-fill-color: #AAA;\n",
              "      --disabled-bg-color: #DDD;\n",
              "  }\n",
              "\n",
              "  [theme=dark] .colab-df-quickchart {\n",
              "      --bg-color: #3B4455;\n",
              "      --fill-color: #D2E3FC;\n",
              "      --hover-bg-color: #434B5C;\n",
              "      --hover-fill-color: #FFFFFF;\n",
              "      --disabled-bg-color: #3B4455;\n",
              "      --disabled-fill-color: #666;\n",
              "  }\n",
              "\n",
              "  .colab-df-quickchart {\n",
              "    background-color: var(--bg-color);\n",
              "    border: none;\n",
              "    border-radius: 50%;\n",
              "    cursor: pointer;\n",
              "    display: none;\n",
              "    fill: var(--fill-color);\n",
              "    height: 32px;\n",
              "    padding: 0;\n",
              "    width: 32px;\n",
              "  }\n",
              "\n",
              "  .colab-df-quickchart:hover {\n",
              "    background-color: var(--hover-bg-color);\n",
              "    box-shadow: 0 1px 2px rgba(60, 64, 67, 0.3), 0 1px 3px 1px rgba(60, 64, 67, 0.15);\n",
              "    fill: var(--button-hover-fill-color);\n",
              "  }\n",
              "\n",
              "  .colab-df-quickchart-complete:disabled,\n",
              "  .colab-df-quickchart-complete:disabled:hover {\n",
              "    background-color: var(--disabled-bg-color);\n",
              "    fill: var(--disabled-fill-color);\n",
              "    box-shadow: none;\n",
              "  }\n",
              "\n",
              "  .colab-df-spinner {\n",
              "    border: 2px solid var(--fill-color);\n",
              "    border-color: transparent;\n",
              "    border-bottom-color: var(--fill-color);\n",
              "    animation:\n",
              "      spin 1s steps(1) infinite;\n",
              "  }\n",
              "\n",
              "  @keyframes spin {\n",
              "    0% {\n",
              "      border-color: transparent;\n",
              "      border-bottom-color: var(--fill-color);\n",
              "      border-left-color: var(--fill-color);\n",
              "    }\n",
              "    20% {\n",
              "      border-color: transparent;\n",
              "      border-left-color: var(--fill-color);\n",
              "      border-top-color: var(--fill-color);\n",
              "    }\n",
              "    30% {\n",
              "      border-color: transparent;\n",
              "      border-left-color: var(--fill-color);\n",
              "      border-top-color: var(--fill-color);\n",
              "      border-right-color: var(--fill-color);\n",
              "    }\n",
              "    40% {\n",
              "      border-color: transparent;\n",
              "      border-right-color: var(--fill-color);\n",
              "      border-top-color: var(--fill-color);\n",
              "    }\n",
              "    60% {\n",
              "      border-color: transparent;\n",
              "      border-right-color: var(--fill-color);\n",
              "    }\n",
              "    80% {\n",
              "      border-color: transparent;\n",
              "      border-right-color: var(--fill-color);\n",
              "      border-bottom-color: var(--fill-color);\n",
              "    }\n",
              "    90% {\n",
              "      border-color: transparent;\n",
              "      border-bottom-color: var(--fill-color);\n",
              "    }\n",
              "  }\n",
              "</style>\n",
              "\n",
              "  <script>\n",
              "    async function quickchart(key) {\n",
              "      const quickchartButtonEl =\n",
              "        document.querySelector('#' + key + ' button');\n",
              "      quickchartButtonEl.disabled = true;  // To prevent multiple clicks.\n",
              "      quickchartButtonEl.classList.add('colab-df-spinner');\n",
              "      try {\n",
              "        const charts = await google.colab.kernel.invokeFunction(\n",
              "            'suggestCharts', [key], {});\n",
              "      } catch (error) {\n",
              "        console.error('Error during call to suggestCharts:', error);\n",
              "      }\n",
              "      quickchartButtonEl.classList.remove('colab-df-spinner');\n",
              "      quickchartButtonEl.classList.add('colab-df-quickchart-complete');\n",
              "    }\n",
              "    (() => {\n",
              "      let quickchartButtonEl =\n",
              "        document.querySelector('#df-7712f785-0461-4775-85c8-f7d7f676bee4 button');\n",
              "      quickchartButtonEl.style.display =\n",
              "        google.colab.kernel.accessAllowed ? 'block' : 'none';\n",
              "    })();\n",
              "  </script>\n",
              "</div>\n",
              "    </div>\n",
              "  </div>\n"
            ]
          },
          "metadata": {},
          "execution_count": 4
        }
      ]
    },
    {
      "cell_type": "markdown",
      "source": [
        "**3.Find Shape Of Dataset**"
      ],
      "metadata": {
        "id": "5zv48jkFTrTf"
      }
    },
    {
      "cell_type": "code",
      "source": [
        "df.shape"
      ],
      "metadata": {
        "colab": {
          "base_uri": "https://localhost:8080/"
        },
        "id": "4sZTCYM0Symd",
        "outputId": "233f5b36-53a0-4a66-c0be-f24fe282676c"
      },
      "execution_count": 5,
      "outputs": [
        {
          "output_type": "execute_result",
          "data": {
            "text/plain": [
              "(10000, 14)"
            ]
          },
          "metadata": {},
          "execution_count": 5
        }
      ]
    },
    {
      "cell_type": "code",
      "source": [
        "print(\"Number of Rows\", df.shape[0])\n",
        "print(\"Number of Coloumns\", df.shape[1])"
      ],
      "metadata": {
        "colab": {
          "base_uri": "https://localhost:8080/"
        },
        "id": "QQ3ku3axSyk_",
        "outputId": "5a6f4e5a-6504-4ca1-ecae-917e9409f9da"
      },
      "execution_count": 6,
      "outputs": [
        {
          "output_type": "stream",
          "name": "stdout",
          "text": [
            "Number of Rows 10000\n",
            "Number of Coloumns 14\n"
          ]
        }
      ]
    },
    {
      "cell_type": "markdown",
      "source": [
        "**4.Get Total Information about the Dataset**"
      ],
      "metadata": {
        "id": "C4P5YhVOUEm3"
      }
    },
    {
      "cell_type": "code",
      "source": [
        "df.info()"
      ],
      "metadata": {
        "colab": {
          "base_uri": "https://localhost:8080/"
        },
        "id": "l8ximziNSyjn",
        "outputId": "85a039b1-cee8-4e86-e08b-dd38daccb516"
      },
      "execution_count": 7,
      "outputs": [
        {
          "output_type": "stream",
          "name": "stdout",
          "text": [
            "<class 'pandas.core.frame.DataFrame'>\n",
            "RangeIndex: 10000 entries, 0 to 9999\n",
            "Data columns (total 14 columns):\n",
            " #   Column           Non-Null Count  Dtype  \n",
            "---  ------           --------------  -----  \n",
            " 0   RowNumber        10000 non-null  int64  \n",
            " 1   CustomerId       10000 non-null  int64  \n",
            " 2   Surname          10000 non-null  object \n",
            " 3   CreditScore      10000 non-null  int64  \n",
            " 4   Geography        10000 non-null  object \n",
            " 5   Gender           10000 non-null  object \n",
            " 6   Age              10000 non-null  int64  \n",
            " 7   Tenure           10000 non-null  int64  \n",
            " 8   Balance          10000 non-null  float64\n",
            " 9   NumOfProducts    10000 non-null  int64  \n",
            " 10  HasCrCard        10000 non-null  int64  \n",
            " 11  IsActiveMember   10000 non-null  int64  \n",
            " 12  EstimatedSalary  10000 non-null  float64\n",
            " 13  Exited           10000 non-null  int64  \n",
            "dtypes: float64(2), int64(9), object(3)\n",
            "memory usage: 1.1+ MB\n"
          ]
        }
      ]
    },
    {
      "cell_type": "markdown",
      "source": [
        "**5.Check NULL values in Dataset**"
      ],
      "metadata": {
        "id": "GZBKfWsAUck1"
      }
    },
    {
      "cell_type": "code",
      "source": [
        "df.isnull().sum()"
      ],
      "metadata": {
        "colab": {
          "base_uri": "https://localhost:8080/"
        },
        "id": "MLg3HJ8hSyh1",
        "outputId": "f737da64-3394-4fcc-e968-c7261be1418d"
      },
      "execution_count": 8,
      "outputs": [
        {
          "output_type": "execute_result",
          "data": {
            "text/plain": [
              "RowNumber          0\n",
              "CustomerId         0\n",
              "Surname            0\n",
              "CreditScore        0\n",
              "Geography          0\n",
              "Gender             0\n",
              "Age                0\n",
              "Tenure             0\n",
              "Balance            0\n",
              "NumOfProducts      0\n",
              "HasCrCard          0\n",
              "IsActiveMember     0\n",
              "EstimatedSalary    0\n",
              "Exited             0\n",
              "dtype: int64"
            ]
          },
          "metadata": {},
          "execution_count": 8
        }
      ]
    },
    {
      "cell_type": "markdown",
      "source": [
        "**6.Get Overall Stastics About the Dataset**"
      ],
      "metadata": {
        "id": "bHtGDd62UnDa"
      }
    },
    {
      "cell_type": "code",
      "source": [
        "df.describe()"
      ],
      "metadata": {
        "colab": {
          "base_uri": "https://localhost:8080/",
          "height": 320
        },
        "id": "BH21vLdnSygl",
        "outputId": "e0516bba-abf9-4ed7-c4af-f6258203c345"
      },
      "execution_count": 9,
      "outputs": [
        {
          "output_type": "execute_result",
          "data": {
            "text/plain": [
              "         RowNumber    CustomerId   CreditScore           Age        Tenure  \\\n",
              "count  10000.00000  1.000000e+04  10000.000000  10000.000000  10000.000000   \n",
              "mean    5000.50000  1.569094e+07    650.528800     38.921800      5.012800   \n",
              "std     2886.89568  7.193619e+04     96.653299     10.487806      2.892174   \n",
              "min        1.00000  1.556570e+07    350.000000     18.000000      0.000000   \n",
              "25%     2500.75000  1.562853e+07    584.000000     32.000000      3.000000   \n",
              "50%     5000.50000  1.569074e+07    652.000000     37.000000      5.000000   \n",
              "75%     7500.25000  1.575323e+07    718.000000     44.000000      7.000000   \n",
              "max    10000.00000  1.581569e+07    850.000000     92.000000     10.000000   \n",
              "\n",
              "             Balance  NumOfProducts    HasCrCard  IsActiveMember  \\\n",
              "count   10000.000000   10000.000000  10000.00000    10000.000000   \n",
              "mean    76485.889288       1.530200      0.70550        0.515100   \n",
              "std     62397.405202       0.581654      0.45584        0.499797   \n",
              "min         0.000000       1.000000      0.00000        0.000000   \n",
              "25%         0.000000       1.000000      0.00000        0.000000   \n",
              "50%     97198.540000       1.000000      1.00000        1.000000   \n",
              "75%    127644.240000       2.000000      1.00000        1.000000   \n",
              "max    250898.090000       4.000000      1.00000        1.000000   \n",
              "\n",
              "       EstimatedSalary        Exited  \n",
              "count     10000.000000  10000.000000  \n",
              "mean     100090.239881      0.203700  \n",
              "std       57510.492818      0.402769  \n",
              "min          11.580000      0.000000  \n",
              "25%       51002.110000      0.000000  \n",
              "50%      100193.915000      0.000000  \n",
              "75%      149388.247500      0.000000  \n",
              "max      199992.480000      1.000000  "
            ],
            "text/html": [
              "\n",
              "  <div id=\"df-df15deec-663c-45c0-b38d-27565c971128\" class=\"colab-df-container\">\n",
              "    <div>\n",
              "<style scoped>\n",
              "    .dataframe tbody tr th:only-of-type {\n",
              "        vertical-align: middle;\n",
              "    }\n",
              "\n",
              "    .dataframe tbody tr th {\n",
              "        vertical-align: top;\n",
              "    }\n",
              "\n",
              "    .dataframe thead th {\n",
              "        text-align: right;\n",
              "    }\n",
              "</style>\n",
              "<table border=\"1\" class=\"dataframe\">\n",
              "  <thead>\n",
              "    <tr style=\"text-align: right;\">\n",
              "      <th></th>\n",
              "      <th>RowNumber</th>\n",
              "      <th>CustomerId</th>\n",
              "      <th>CreditScore</th>\n",
              "      <th>Age</th>\n",
              "      <th>Tenure</th>\n",
              "      <th>Balance</th>\n",
              "      <th>NumOfProducts</th>\n",
              "      <th>HasCrCard</th>\n",
              "      <th>IsActiveMember</th>\n",
              "      <th>EstimatedSalary</th>\n",
              "      <th>Exited</th>\n",
              "    </tr>\n",
              "  </thead>\n",
              "  <tbody>\n",
              "    <tr>\n",
              "      <th>count</th>\n",
              "      <td>10000.00000</td>\n",
              "      <td>1.000000e+04</td>\n",
              "      <td>10000.000000</td>\n",
              "      <td>10000.000000</td>\n",
              "      <td>10000.000000</td>\n",
              "      <td>10000.000000</td>\n",
              "      <td>10000.000000</td>\n",
              "      <td>10000.00000</td>\n",
              "      <td>10000.000000</td>\n",
              "      <td>10000.000000</td>\n",
              "      <td>10000.000000</td>\n",
              "    </tr>\n",
              "    <tr>\n",
              "      <th>mean</th>\n",
              "      <td>5000.50000</td>\n",
              "      <td>1.569094e+07</td>\n",
              "      <td>650.528800</td>\n",
              "      <td>38.921800</td>\n",
              "      <td>5.012800</td>\n",
              "      <td>76485.889288</td>\n",
              "      <td>1.530200</td>\n",
              "      <td>0.70550</td>\n",
              "      <td>0.515100</td>\n",
              "      <td>100090.239881</td>\n",
              "      <td>0.203700</td>\n",
              "    </tr>\n",
              "    <tr>\n",
              "      <th>std</th>\n",
              "      <td>2886.89568</td>\n",
              "      <td>7.193619e+04</td>\n",
              "      <td>96.653299</td>\n",
              "      <td>10.487806</td>\n",
              "      <td>2.892174</td>\n",
              "      <td>62397.405202</td>\n",
              "      <td>0.581654</td>\n",
              "      <td>0.45584</td>\n",
              "      <td>0.499797</td>\n",
              "      <td>57510.492818</td>\n",
              "      <td>0.402769</td>\n",
              "    </tr>\n",
              "    <tr>\n",
              "      <th>min</th>\n",
              "      <td>1.00000</td>\n",
              "      <td>1.556570e+07</td>\n",
              "      <td>350.000000</td>\n",
              "      <td>18.000000</td>\n",
              "      <td>0.000000</td>\n",
              "      <td>0.000000</td>\n",
              "      <td>1.000000</td>\n",
              "      <td>0.00000</td>\n",
              "      <td>0.000000</td>\n",
              "      <td>11.580000</td>\n",
              "      <td>0.000000</td>\n",
              "    </tr>\n",
              "    <tr>\n",
              "      <th>25%</th>\n",
              "      <td>2500.75000</td>\n",
              "      <td>1.562853e+07</td>\n",
              "      <td>584.000000</td>\n",
              "      <td>32.000000</td>\n",
              "      <td>3.000000</td>\n",
              "      <td>0.000000</td>\n",
              "      <td>1.000000</td>\n",
              "      <td>0.00000</td>\n",
              "      <td>0.000000</td>\n",
              "      <td>51002.110000</td>\n",
              "      <td>0.000000</td>\n",
              "    </tr>\n",
              "    <tr>\n",
              "      <th>50%</th>\n",
              "      <td>5000.50000</td>\n",
              "      <td>1.569074e+07</td>\n",
              "      <td>652.000000</td>\n",
              "      <td>37.000000</td>\n",
              "      <td>5.000000</td>\n",
              "      <td>97198.540000</td>\n",
              "      <td>1.000000</td>\n",
              "      <td>1.00000</td>\n",
              "      <td>1.000000</td>\n",
              "      <td>100193.915000</td>\n",
              "      <td>0.000000</td>\n",
              "    </tr>\n",
              "    <tr>\n",
              "      <th>75%</th>\n",
              "      <td>7500.25000</td>\n",
              "      <td>1.575323e+07</td>\n",
              "      <td>718.000000</td>\n",
              "      <td>44.000000</td>\n",
              "      <td>7.000000</td>\n",
              "      <td>127644.240000</td>\n",
              "      <td>2.000000</td>\n",
              "      <td>1.00000</td>\n",
              "      <td>1.000000</td>\n",
              "      <td>149388.247500</td>\n",
              "      <td>0.000000</td>\n",
              "    </tr>\n",
              "    <tr>\n",
              "      <th>max</th>\n",
              "      <td>10000.00000</td>\n",
              "      <td>1.581569e+07</td>\n",
              "      <td>850.000000</td>\n",
              "      <td>92.000000</td>\n",
              "      <td>10.000000</td>\n",
              "      <td>250898.090000</td>\n",
              "      <td>4.000000</td>\n",
              "      <td>1.00000</td>\n",
              "      <td>1.000000</td>\n",
              "      <td>199992.480000</td>\n",
              "      <td>1.000000</td>\n",
              "    </tr>\n",
              "  </tbody>\n",
              "</table>\n",
              "</div>\n",
              "    <div class=\"colab-df-buttons\">\n",
              "\n",
              "  <div class=\"colab-df-container\">\n",
              "    <button class=\"colab-df-convert\" onclick=\"convertToInteractive('df-df15deec-663c-45c0-b38d-27565c971128')\"\n",
              "            title=\"Convert this dataframe to an interactive table.\"\n",
              "            style=\"display:none;\">\n",
              "\n",
              "  <svg xmlns=\"http://www.w3.org/2000/svg\" height=\"24px\" viewBox=\"0 -960 960 960\">\n",
              "    <path d=\"M120-120v-720h720v720H120Zm60-500h600v-160H180v160Zm220 220h160v-160H400v160Zm0 220h160v-160H400v160ZM180-400h160v-160H180v160Zm440 0h160v-160H620v160ZM180-180h160v-160H180v160Zm440 0h160v-160H620v160Z\"/>\n",
              "  </svg>\n",
              "    </button>\n",
              "\n",
              "  <style>\n",
              "    .colab-df-container {\n",
              "      display:flex;\n",
              "      gap: 12px;\n",
              "    }\n",
              "\n",
              "    .colab-df-convert {\n",
              "      background-color: #E8F0FE;\n",
              "      border: none;\n",
              "      border-radius: 50%;\n",
              "      cursor: pointer;\n",
              "      display: none;\n",
              "      fill: #1967D2;\n",
              "      height: 32px;\n",
              "      padding: 0 0 0 0;\n",
              "      width: 32px;\n",
              "    }\n",
              "\n",
              "    .colab-df-convert:hover {\n",
              "      background-color: #E2EBFA;\n",
              "      box-shadow: 0px 1px 2px rgba(60, 64, 67, 0.3), 0px 1px 3px 1px rgba(60, 64, 67, 0.15);\n",
              "      fill: #174EA6;\n",
              "    }\n",
              "\n",
              "    .colab-df-buttons div {\n",
              "      margin-bottom: 4px;\n",
              "    }\n",
              "\n",
              "    [theme=dark] .colab-df-convert {\n",
              "      background-color: #3B4455;\n",
              "      fill: #D2E3FC;\n",
              "    }\n",
              "\n",
              "    [theme=dark] .colab-df-convert:hover {\n",
              "      background-color: #434B5C;\n",
              "      box-shadow: 0px 1px 3px 1px rgba(0, 0, 0, 0.15);\n",
              "      filter: drop-shadow(0px 1px 2px rgba(0, 0, 0, 0.3));\n",
              "      fill: #FFFFFF;\n",
              "    }\n",
              "  </style>\n",
              "\n",
              "    <script>\n",
              "      const buttonEl =\n",
              "        document.querySelector('#df-df15deec-663c-45c0-b38d-27565c971128 button.colab-df-convert');\n",
              "      buttonEl.style.display =\n",
              "        google.colab.kernel.accessAllowed ? 'block' : 'none';\n",
              "\n",
              "      async function convertToInteractive(key) {\n",
              "        const element = document.querySelector('#df-df15deec-663c-45c0-b38d-27565c971128');\n",
              "        const dataTable =\n",
              "          await google.colab.kernel.invokeFunction('convertToInteractive',\n",
              "                                                    [key], {});\n",
              "        if (!dataTable) return;\n",
              "\n",
              "        const docLinkHtml = 'Like what you see? Visit the ' +\n",
              "          '<a target=\"_blank\" href=https://colab.research.google.com/notebooks/data_table.ipynb>data table notebook</a>'\n",
              "          + ' to learn more about interactive tables.';\n",
              "        element.innerHTML = '';\n",
              "        dataTable['output_type'] = 'display_data';\n",
              "        await google.colab.output.renderOutput(dataTable, element);\n",
              "        const docLink = document.createElement('div');\n",
              "        docLink.innerHTML = docLinkHtml;\n",
              "        element.appendChild(docLink);\n",
              "      }\n",
              "    </script>\n",
              "  </div>\n",
              "\n",
              "\n",
              "<div id=\"df-f2b8565f-8911-40f6-9245-b53428989a1f\">\n",
              "  <button class=\"colab-df-quickchart\" onclick=\"quickchart('df-f2b8565f-8911-40f6-9245-b53428989a1f')\"\n",
              "            title=\"Suggest charts\"\n",
              "            style=\"display:none;\">\n",
              "\n",
              "<svg xmlns=\"http://www.w3.org/2000/svg\" height=\"24px\"viewBox=\"0 0 24 24\"\n",
              "     width=\"24px\">\n",
              "    <g>\n",
              "        <path d=\"M19 3H5c-1.1 0-2 .9-2 2v14c0 1.1.9 2 2 2h14c1.1 0 2-.9 2-2V5c0-1.1-.9-2-2-2zM9 17H7v-7h2v7zm4 0h-2V7h2v10zm4 0h-2v-4h2v4z\"/>\n",
              "    </g>\n",
              "</svg>\n",
              "  </button>\n",
              "\n",
              "<style>\n",
              "  .colab-df-quickchart {\n",
              "      --bg-color: #E8F0FE;\n",
              "      --fill-color: #1967D2;\n",
              "      --hover-bg-color: #E2EBFA;\n",
              "      --hover-fill-color: #174EA6;\n",
              "      --disabled-fill-color: #AAA;\n",
              "      --disabled-bg-color: #DDD;\n",
              "  }\n",
              "\n",
              "  [theme=dark] .colab-df-quickchart {\n",
              "      --bg-color: #3B4455;\n",
              "      --fill-color: #D2E3FC;\n",
              "      --hover-bg-color: #434B5C;\n",
              "      --hover-fill-color: #FFFFFF;\n",
              "      --disabled-bg-color: #3B4455;\n",
              "      --disabled-fill-color: #666;\n",
              "  }\n",
              "\n",
              "  .colab-df-quickchart {\n",
              "    background-color: var(--bg-color);\n",
              "    border: none;\n",
              "    border-radius: 50%;\n",
              "    cursor: pointer;\n",
              "    display: none;\n",
              "    fill: var(--fill-color);\n",
              "    height: 32px;\n",
              "    padding: 0;\n",
              "    width: 32px;\n",
              "  }\n",
              "\n",
              "  .colab-df-quickchart:hover {\n",
              "    background-color: var(--hover-bg-color);\n",
              "    box-shadow: 0 1px 2px rgba(60, 64, 67, 0.3), 0 1px 3px 1px rgba(60, 64, 67, 0.15);\n",
              "    fill: var(--button-hover-fill-color);\n",
              "  }\n",
              "\n",
              "  .colab-df-quickchart-complete:disabled,\n",
              "  .colab-df-quickchart-complete:disabled:hover {\n",
              "    background-color: var(--disabled-bg-color);\n",
              "    fill: var(--disabled-fill-color);\n",
              "    box-shadow: none;\n",
              "  }\n",
              "\n",
              "  .colab-df-spinner {\n",
              "    border: 2px solid var(--fill-color);\n",
              "    border-color: transparent;\n",
              "    border-bottom-color: var(--fill-color);\n",
              "    animation:\n",
              "      spin 1s steps(1) infinite;\n",
              "  }\n",
              "\n",
              "  @keyframes spin {\n",
              "    0% {\n",
              "      border-color: transparent;\n",
              "      border-bottom-color: var(--fill-color);\n",
              "      border-left-color: var(--fill-color);\n",
              "    }\n",
              "    20% {\n",
              "      border-color: transparent;\n",
              "      border-left-color: var(--fill-color);\n",
              "      border-top-color: var(--fill-color);\n",
              "    }\n",
              "    30% {\n",
              "      border-color: transparent;\n",
              "      border-left-color: var(--fill-color);\n",
              "      border-top-color: var(--fill-color);\n",
              "      border-right-color: var(--fill-color);\n",
              "    }\n",
              "    40% {\n",
              "      border-color: transparent;\n",
              "      border-right-color: var(--fill-color);\n",
              "      border-top-color: var(--fill-color);\n",
              "    }\n",
              "    60% {\n",
              "      border-color: transparent;\n",
              "      border-right-color: var(--fill-color);\n",
              "    }\n",
              "    80% {\n",
              "      border-color: transparent;\n",
              "      border-right-color: var(--fill-color);\n",
              "      border-bottom-color: var(--fill-color);\n",
              "    }\n",
              "    90% {\n",
              "      border-color: transparent;\n",
              "      border-bottom-color: var(--fill-color);\n",
              "    }\n",
              "  }\n",
              "</style>\n",
              "\n",
              "  <script>\n",
              "    async function quickchart(key) {\n",
              "      const quickchartButtonEl =\n",
              "        document.querySelector('#' + key + ' button');\n",
              "      quickchartButtonEl.disabled = true;  // To prevent multiple clicks.\n",
              "      quickchartButtonEl.classList.add('colab-df-spinner');\n",
              "      try {\n",
              "        const charts = await google.colab.kernel.invokeFunction(\n",
              "            'suggestCharts', [key], {});\n",
              "      } catch (error) {\n",
              "        console.error('Error during call to suggestCharts:', error);\n",
              "      }\n",
              "      quickchartButtonEl.classList.remove('colab-df-spinner');\n",
              "      quickchartButtonEl.classList.add('colab-df-quickchart-complete');\n",
              "    }\n",
              "    (() => {\n",
              "      let quickchartButtonEl =\n",
              "        document.querySelector('#df-f2b8565f-8911-40f6-9245-b53428989a1f button');\n",
              "      quickchartButtonEl.style.display =\n",
              "        google.colab.kernel.accessAllowed ? 'block' : 'none';\n",
              "    })();\n",
              "  </script>\n",
              "</div>\n",
              "    </div>\n",
              "  </div>\n"
            ]
          },
          "metadata": {},
          "execution_count": 9
        }
      ]
    },
    {
      "cell_type": "markdown",
      "source": [
        "**7.Dropping Irravelent Features**"
      ],
      "metadata": {
        "id": "ZXN43sVXUzAD"
      }
    },
    {
      "cell_type": "code",
      "source": [
        "df.columns"
      ],
      "metadata": {
        "colab": {
          "base_uri": "https://localhost:8080/"
        },
        "id": "6Khw30qvSyfY",
        "outputId": "ff552779-1c70-463c-8380-7143874157c1"
      },
      "execution_count": 10,
      "outputs": [
        {
          "output_type": "execute_result",
          "data": {
            "text/plain": [
              "Index(['RowNumber', 'CustomerId', 'Surname', 'CreditScore', 'Geography',\n",
              "       'Gender', 'Age', 'Tenure', 'Balance', 'NumOfProducts', 'HasCrCard',\n",
              "       'IsActiveMember', 'EstimatedSalary', 'Exited'],\n",
              "      dtype='object')"
            ]
          },
          "metadata": {},
          "execution_count": 10
        }
      ]
    },
    {
      "cell_type": "code",
      "source": [
        "data=df.copy()"
      ],
      "metadata": {
        "id": "iltcKJA6wpvi"
      },
      "execution_count": 11,
      "outputs": []
    },
    {
      "cell_type": "code",
      "source": [
        "data=data.drop(['RowNumber', 'CustomerId', 'Surname',],axis=1)"
      ],
      "metadata": {
        "id": "hO_mgvM0Syd1"
      },
      "execution_count": 12,
      "outputs": []
    },
    {
      "cell_type": "markdown",
      "source": [
        "**8.Encoding Categorical Data**"
      ],
      "metadata": {
        "id": "g8NNWa8aVTi-"
      }
    },
    {
      "cell_type": "code",
      "source": [
        "data['Geography'].unique()"
      ],
      "metadata": {
        "colab": {
          "base_uri": "https://localhost:8080/"
        },
        "id": "l78tf9Q0VTJV",
        "outputId": "2852410f-2620-4ffa-e818-100a0b3085b4"
      },
      "execution_count": 13,
      "outputs": [
        {
          "output_type": "execute_result",
          "data": {
            "text/plain": [
              "array(['France', 'Spain', 'Germany'], dtype=object)"
            ]
          },
          "metadata": {},
          "execution_count": 13
        }
      ]
    },
    {
      "cell_type": "code",
      "source": [
        "data['Gender'].unique()"
      ],
      "metadata": {
        "colab": {
          "base_uri": "https://localhost:8080/"
        },
        "id": "8KgRGY0GWMV2",
        "outputId": "310303f9-81d7-4657-b017-5bc03f91f1a6"
      },
      "execution_count": 14,
      "outputs": [
        {
          "output_type": "execute_result",
          "data": {
            "text/plain": [
              "array(['Female', 'Male'], dtype=object)"
            ]
          },
          "metadata": {},
          "execution_count": 14
        }
      ]
    },
    {
      "cell_type": "code",
      "source": [
        "pd.get_dummies(data,drop_first=True)"
      ],
      "metadata": {
        "colab": {
          "base_uri": "https://localhost:8080/",
          "height": 443
        },
        "id": "1vyNXegFSycn",
        "outputId": "2f3c684f-4c7d-425b-93b0-103254777ed6"
      },
      "execution_count": 15,
      "outputs": [
        {
          "output_type": "execute_result",
          "data": {
            "text/plain": [
              "      CreditScore  Age  Tenure    Balance  NumOfProducts  HasCrCard  \\\n",
              "0             619   42       2       0.00              1          1   \n",
              "1             608   41       1   83807.86              1          0   \n",
              "2             502   42       8  159660.80              3          1   \n",
              "3             699   39       1       0.00              2          0   \n",
              "4             850   43       2  125510.82              1          1   \n",
              "...           ...  ...     ...        ...            ...        ...   \n",
              "9995          771   39       5       0.00              2          1   \n",
              "9996          516   35      10   57369.61              1          1   \n",
              "9997          709   36       7       0.00              1          0   \n",
              "9998          772   42       3   75075.31              2          1   \n",
              "9999          792   28       4  130142.79              1          1   \n",
              "\n",
              "      IsActiveMember  EstimatedSalary  Exited  Geography_Germany  \\\n",
              "0                  1        101348.88       1                  0   \n",
              "1                  1        112542.58       0                  0   \n",
              "2                  0        113931.57       1                  0   \n",
              "3                  0         93826.63       0                  0   \n",
              "4                  1         79084.10       0                  0   \n",
              "...              ...              ...     ...                ...   \n",
              "9995               0         96270.64       0                  0   \n",
              "9996               1        101699.77       0                  0   \n",
              "9997               1         42085.58       1                  0   \n",
              "9998               0         92888.52       1                  1   \n",
              "9999               0         38190.78       0                  0   \n",
              "\n",
              "      Geography_Spain  Gender_Male  \n",
              "0                   0            0  \n",
              "1                   1            0  \n",
              "2                   0            0  \n",
              "3                   0            0  \n",
              "4                   1            0  \n",
              "...               ...          ...  \n",
              "9995                0            1  \n",
              "9996                0            1  \n",
              "9997                0            0  \n",
              "9998                0            1  \n",
              "9999                0            0  \n",
              "\n",
              "[10000 rows x 12 columns]"
            ],
            "text/html": [
              "\n",
              "  <div id=\"df-c937b392-3283-4f54-aade-bc778eb2c3cb\" class=\"colab-df-container\">\n",
              "    <div>\n",
              "<style scoped>\n",
              "    .dataframe tbody tr th:only-of-type {\n",
              "        vertical-align: middle;\n",
              "    }\n",
              "\n",
              "    .dataframe tbody tr th {\n",
              "        vertical-align: top;\n",
              "    }\n",
              "\n",
              "    .dataframe thead th {\n",
              "        text-align: right;\n",
              "    }\n",
              "</style>\n",
              "<table border=\"1\" class=\"dataframe\">\n",
              "  <thead>\n",
              "    <tr style=\"text-align: right;\">\n",
              "      <th></th>\n",
              "      <th>CreditScore</th>\n",
              "      <th>Age</th>\n",
              "      <th>Tenure</th>\n",
              "      <th>Balance</th>\n",
              "      <th>NumOfProducts</th>\n",
              "      <th>HasCrCard</th>\n",
              "      <th>IsActiveMember</th>\n",
              "      <th>EstimatedSalary</th>\n",
              "      <th>Exited</th>\n",
              "      <th>Geography_Germany</th>\n",
              "      <th>Geography_Spain</th>\n",
              "      <th>Gender_Male</th>\n",
              "    </tr>\n",
              "  </thead>\n",
              "  <tbody>\n",
              "    <tr>\n",
              "      <th>0</th>\n",
              "      <td>619</td>\n",
              "      <td>42</td>\n",
              "      <td>2</td>\n",
              "      <td>0.00</td>\n",
              "      <td>1</td>\n",
              "      <td>1</td>\n",
              "      <td>1</td>\n",
              "      <td>101348.88</td>\n",
              "      <td>1</td>\n",
              "      <td>0</td>\n",
              "      <td>0</td>\n",
              "      <td>0</td>\n",
              "    </tr>\n",
              "    <tr>\n",
              "      <th>1</th>\n",
              "      <td>608</td>\n",
              "      <td>41</td>\n",
              "      <td>1</td>\n",
              "      <td>83807.86</td>\n",
              "      <td>1</td>\n",
              "      <td>0</td>\n",
              "      <td>1</td>\n",
              "      <td>112542.58</td>\n",
              "      <td>0</td>\n",
              "      <td>0</td>\n",
              "      <td>1</td>\n",
              "      <td>0</td>\n",
              "    </tr>\n",
              "    <tr>\n",
              "      <th>2</th>\n",
              "      <td>502</td>\n",
              "      <td>42</td>\n",
              "      <td>8</td>\n",
              "      <td>159660.80</td>\n",
              "      <td>3</td>\n",
              "      <td>1</td>\n",
              "      <td>0</td>\n",
              "      <td>113931.57</td>\n",
              "      <td>1</td>\n",
              "      <td>0</td>\n",
              "      <td>0</td>\n",
              "      <td>0</td>\n",
              "    </tr>\n",
              "    <tr>\n",
              "      <th>3</th>\n",
              "      <td>699</td>\n",
              "      <td>39</td>\n",
              "      <td>1</td>\n",
              "      <td>0.00</td>\n",
              "      <td>2</td>\n",
              "      <td>0</td>\n",
              "      <td>0</td>\n",
              "      <td>93826.63</td>\n",
              "      <td>0</td>\n",
              "      <td>0</td>\n",
              "      <td>0</td>\n",
              "      <td>0</td>\n",
              "    </tr>\n",
              "    <tr>\n",
              "      <th>4</th>\n",
              "      <td>850</td>\n",
              "      <td>43</td>\n",
              "      <td>2</td>\n",
              "      <td>125510.82</td>\n",
              "      <td>1</td>\n",
              "      <td>1</td>\n",
              "      <td>1</td>\n",
              "      <td>79084.10</td>\n",
              "      <td>0</td>\n",
              "      <td>0</td>\n",
              "      <td>1</td>\n",
              "      <td>0</td>\n",
              "    </tr>\n",
              "    <tr>\n",
              "      <th>...</th>\n",
              "      <td>...</td>\n",
              "      <td>...</td>\n",
              "      <td>...</td>\n",
              "      <td>...</td>\n",
              "      <td>...</td>\n",
              "      <td>...</td>\n",
              "      <td>...</td>\n",
              "      <td>...</td>\n",
              "      <td>...</td>\n",
              "      <td>...</td>\n",
              "      <td>...</td>\n",
              "      <td>...</td>\n",
              "    </tr>\n",
              "    <tr>\n",
              "      <th>9995</th>\n",
              "      <td>771</td>\n",
              "      <td>39</td>\n",
              "      <td>5</td>\n",
              "      <td>0.00</td>\n",
              "      <td>2</td>\n",
              "      <td>1</td>\n",
              "      <td>0</td>\n",
              "      <td>96270.64</td>\n",
              "      <td>0</td>\n",
              "      <td>0</td>\n",
              "      <td>0</td>\n",
              "      <td>1</td>\n",
              "    </tr>\n",
              "    <tr>\n",
              "      <th>9996</th>\n",
              "      <td>516</td>\n",
              "      <td>35</td>\n",
              "      <td>10</td>\n",
              "      <td>57369.61</td>\n",
              "      <td>1</td>\n",
              "      <td>1</td>\n",
              "      <td>1</td>\n",
              "      <td>101699.77</td>\n",
              "      <td>0</td>\n",
              "      <td>0</td>\n",
              "      <td>0</td>\n",
              "      <td>1</td>\n",
              "    </tr>\n",
              "    <tr>\n",
              "      <th>9997</th>\n",
              "      <td>709</td>\n",
              "      <td>36</td>\n",
              "      <td>7</td>\n",
              "      <td>0.00</td>\n",
              "      <td>1</td>\n",
              "      <td>0</td>\n",
              "      <td>1</td>\n",
              "      <td>42085.58</td>\n",
              "      <td>1</td>\n",
              "      <td>0</td>\n",
              "      <td>0</td>\n",
              "      <td>0</td>\n",
              "    </tr>\n",
              "    <tr>\n",
              "      <th>9998</th>\n",
              "      <td>772</td>\n",
              "      <td>42</td>\n",
              "      <td>3</td>\n",
              "      <td>75075.31</td>\n",
              "      <td>2</td>\n",
              "      <td>1</td>\n",
              "      <td>0</td>\n",
              "      <td>92888.52</td>\n",
              "      <td>1</td>\n",
              "      <td>1</td>\n",
              "      <td>0</td>\n",
              "      <td>1</td>\n",
              "    </tr>\n",
              "    <tr>\n",
              "      <th>9999</th>\n",
              "      <td>792</td>\n",
              "      <td>28</td>\n",
              "      <td>4</td>\n",
              "      <td>130142.79</td>\n",
              "      <td>1</td>\n",
              "      <td>1</td>\n",
              "      <td>0</td>\n",
              "      <td>38190.78</td>\n",
              "      <td>0</td>\n",
              "      <td>0</td>\n",
              "      <td>0</td>\n",
              "      <td>0</td>\n",
              "    </tr>\n",
              "  </tbody>\n",
              "</table>\n",
              "<p>10000 rows × 12 columns</p>\n",
              "</div>\n",
              "    <div class=\"colab-df-buttons\">\n",
              "\n",
              "  <div class=\"colab-df-container\">\n",
              "    <button class=\"colab-df-convert\" onclick=\"convertToInteractive('df-c937b392-3283-4f54-aade-bc778eb2c3cb')\"\n",
              "            title=\"Convert this dataframe to an interactive table.\"\n",
              "            style=\"display:none;\">\n",
              "\n",
              "  <svg xmlns=\"http://www.w3.org/2000/svg\" height=\"24px\" viewBox=\"0 -960 960 960\">\n",
              "    <path d=\"M120-120v-720h720v720H120Zm60-500h600v-160H180v160Zm220 220h160v-160H400v160Zm0 220h160v-160H400v160ZM180-400h160v-160H180v160Zm440 0h160v-160H620v160ZM180-180h160v-160H180v160Zm440 0h160v-160H620v160Z\"/>\n",
              "  </svg>\n",
              "    </button>\n",
              "\n",
              "  <style>\n",
              "    .colab-df-container {\n",
              "      display:flex;\n",
              "      gap: 12px;\n",
              "    }\n",
              "\n",
              "    .colab-df-convert {\n",
              "      background-color: #E8F0FE;\n",
              "      border: none;\n",
              "      border-radius: 50%;\n",
              "      cursor: pointer;\n",
              "      display: none;\n",
              "      fill: #1967D2;\n",
              "      height: 32px;\n",
              "      padding: 0 0 0 0;\n",
              "      width: 32px;\n",
              "    }\n",
              "\n",
              "    .colab-df-convert:hover {\n",
              "      background-color: #E2EBFA;\n",
              "      box-shadow: 0px 1px 2px rgba(60, 64, 67, 0.3), 0px 1px 3px 1px rgba(60, 64, 67, 0.15);\n",
              "      fill: #174EA6;\n",
              "    }\n",
              "\n",
              "    .colab-df-buttons div {\n",
              "      margin-bottom: 4px;\n",
              "    }\n",
              "\n",
              "    [theme=dark] .colab-df-convert {\n",
              "      background-color: #3B4455;\n",
              "      fill: #D2E3FC;\n",
              "    }\n",
              "\n",
              "    [theme=dark] .colab-df-convert:hover {\n",
              "      background-color: #434B5C;\n",
              "      box-shadow: 0px 1px 3px 1px rgba(0, 0, 0, 0.15);\n",
              "      filter: drop-shadow(0px 1px 2px rgba(0, 0, 0, 0.3));\n",
              "      fill: #FFFFFF;\n",
              "    }\n",
              "  </style>\n",
              "\n",
              "    <script>\n",
              "      const buttonEl =\n",
              "        document.querySelector('#df-c937b392-3283-4f54-aade-bc778eb2c3cb button.colab-df-convert');\n",
              "      buttonEl.style.display =\n",
              "        google.colab.kernel.accessAllowed ? 'block' : 'none';\n",
              "\n",
              "      async function convertToInteractive(key) {\n",
              "        const element = document.querySelector('#df-c937b392-3283-4f54-aade-bc778eb2c3cb');\n",
              "        const dataTable =\n",
              "          await google.colab.kernel.invokeFunction('convertToInteractive',\n",
              "                                                    [key], {});\n",
              "        if (!dataTable) return;\n",
              "\n",
              "        const docLinkHtml = 'Like what you see? Visit the ' +\n",
              "          '<a target=\"_blank\" href=https://colab.research.google.com/notebooks/data_table.ipynb>data table notebook</a>'\n",
              "          + ' to learn more about interactive tables.';\n",
              "        element.innerHTML = '';\n",
              "        dataTable['output_type'] = 'display_data';\n",
              "        await google.colab.output.renderOutput(dataTable, element);\n",
              "        const docLink = document.createElement('div');\n",
              "        docLink.innerHTML = docLinkHtml;\n",
              "        element.appendChild(docLink);\n",
              "      }\n",
              "    </script>\n",
              "  </div>\n",
              "\n",
              "\n",
              "<div id=\"df-eb4b6ce5-325f-4ef2-b74d-99ea900c5dff\">\n",
              "  <button class=\"colab-df-quickchart\" onclick=\"quickchart('df-eb4b6ce5-325f-4ef2-b74d-99ea900c5dff')\"\n",
              "            title=\"Suggest charts\"\n",
              "            style=\"display:none;\">\n",
              "\n",
              "<svg xmlns=\"http://www.w3.org/2000/svg\" height=\"24px\"viewBox=\"0 0 24 24\"\n",
              "     width=\"24px\">\n",
              "    <g>\n",
              "        <path d=\"M19 3H5c-1.1 0-2 .9-2 2v14c0 1.1.9 2 2 2h14c1.1 0 2-.9 2-2V5c0-1.1-.9-2-2-2zM9 17H7v-7h2v7zm4 0h-2V7h2v10zm4 0h-2v-4h2v4z\"/>\n",
              "    </g>\n",
              "</svg>\n",
              "  </button>\n",
              "\n",
              "<style>\n",
              "  .colab-df-quickchart {\n",
              "      --bg-color: #E8F0FE;\n",
              "      --fill-color: #1967D2;\n",
              "      --hover-bg-color: #E2EBFA;\n",
              "      --hover-fill-color: #174EA6;\n",
              "      --disabled-fill-color: #AAA;\n",
              "      --disabled-bg-color: #DDD;\n",
              "  }\n",
              "\n",
              "  [theme=dark] .colab-df-quickchart {\n",
              "      --bg-color: #3B4455;\n",
              "      --fill-color: #D2E3FC;\n",
              "      --hover-bg-color: #434B5C;\n",
              "      --hover-fill-color: #FFFFFF;\n",
              "      --disabled-bg-color: #3B4455;\n",
              "      --disabled-fill-color: #666;\n",
              "  }\n",
              "\n",
              "  .colab-df-quickchart {\n",
              "    background-color: var(--bg-color);\n",
              "    border: none;\n",
              "    border-radius: 50%;\n",
              "    cursor: pointer;\n",
              "    display: none;\n",
              "    fill: var(--fill-color);\n",
              "    height: 32px;\n",
              "    padding: 0;\n",
              "    width: 32px;\n",
              "  }\n",
              "\n",
              "  .colab-df-quickchart:hover {\n",
              "    background-color: var(--hover-bg-color);\n",
              "    box-shadow: 0 1px 2px rgba(60, 64, 67, 0.3), 0 1px 3px 1px rgba(60, 64, 67, 0.15);\n",
              "    fill: var(--button-hover-fill-color);\n",
              "  }\n",
              "\n",
              "  .colab-df-quickchart-complete:disabled,\n",
              "  .colab-df-quickchart-complete:disabled:hover {\n",
              "    background-color: var(--disabled-bg-color);\n",
              "    fill: var(--disabled-fill-color);\n",
              "    box-shadow: none;\n",
              "  }\n",
              "\n",
              "  .colab-df-spinner {\n",
              "    border: 2px solid var(--fill-color);\n",
              "    border-color: transparent;\n",
              "    border-bottom-color: var(--fill-color);\n",
              "    animation:\n",
              "      spin 1s steps(1) infinite;\n",
              "  }\n",
              "\n",
              "  @keyframes spin {\n",
              "    0% {\n",
              "      border-color: transparent;\n",
              "      border-bottom-color: var(--fill-color);\n",
              "      border-left-color: var(--fill-color);\n",
              "    }\n",
              "    20% {\n",
              "      border-color: transparent;\n",
              "      border-left-color: var(--fill-color);\n",
              "      border-top-color: var(--fill-color);\n",
              "    }\n",
              "    30% {\n",
              "      border-color: transparent;\n",
              "      border-left-color: var(--fill-color);\n",
              "      border-top-color: var(--fill-color);\n",
              "      border-right-color: var(--fill-color);\n",
              "    }\n",
              "    40% {\n",
              "      border-color: transparent;\n",
              "      border-right-color: var(--fill-color);\n",
              "      border-top-color: var(--fill-color);\n",
              "    }\n",
              "    60% {\n",
              "      border-color: transparent;\n",
              "      border-right-color: var(--fill-color);\n",
              "    }\n",
              "    80% {\n",
              "      border-color: transparent;\n",
              "      border-right-color: var(--fill-color);\n",
              "      border-bottom-color: var(--fill-color);\n",
              "    }\n",
              "    90% {\n",
              "      border-color: transparent;\n",
              "      border-bottom-color: var(--fill-color);\n",
              "    }\n",
              "  }\n",
              "</style>\n",
              "\n",
              "  <script>\n",
              "    async function quickchart(key) {\n",
              "      const quickchartButtonEl =\n",
              "        document.querySelector('#' + key + ' button');\n",
              "      quickchartButtonEl.disabled = true;  // To prevent multiple clicks.\n",
              "      quickchartButtonEl.classList.add('colab-df-spinner');\n",
              "      try {\n",
              "        const charts = await google.colab.kernel.invokeFunction(\n",
              "            'suggestCharts', [key], {});\n",
              "      } catch (error) {\n",
              "        console.error('Error during call to suggestCharts:', error);\n",
              "      }\n",
              "      quickchartButtonEl.classList.remove('colab-df-spinner');\n",
              "      quickchartButtonEl.classList.add('colab-df-quickchart-complete');\n",
              "    }\n",
              "    (() => {\n",
              "      let quickchartButtonEl =\n",
              "        document.querySelector('#df-eb4b6ce5-325f-4ef2-b74d-99ea900c5dff button');\n",
              "      quickchartButtonEl.style.display =\n",
              "        google.colab.kernel.accessAllowed ? 'block' : 'none';\n",
              "    })();\n",
              "  </script>\n",
              "</div>\n",
              "    </div>\n",
              "  </div>\n"
            ]
          },
          "metadata": {},
          "execution_count": 15
        }
      ]
    },
    {
      "cell_type": "markdown",
      "source": [
        "**9.Data Visualization**"
      ],
      "metadata": {
        "id": "6NFJmq2wyY5J"
      }
    },
    {
      "cell_type": "code",
      "source": [
        "fig = px.histogram(data, x='Age')\n",
        "fig.show()"
      ],
      "metadata": {
        "colab": {
          "base_uri": "https://localhost:8080/",
          "height": 542
        },
        "id": "oxmSXKE6uBWZ",
        "outputId": "2a3cfb1e-91a1-4b68-daa6-776120e2f0fc"
      },
      "execution_count": 16,
      "outputs": [
        {
          "output_type": "display_data",
          "data": {
            "text/html": [
              "<html>\n",
              "<head><meta charset=\"utf-8\" /></head>\n",
              "<body>\n",
              "    <div>            <script src=\"https://cdnjs.cloudflare.com/ajax/libs/mathjax/2.7.5/MathJax.js?config=TeX-AMS-MML_SVG\"></script><script type=\"text/javascript\">if (window.MathJax && window.MathJax.Hub && window.MathJax.Hub.Config) {window.MathJax.Hub.Config({SVG: {font: \"STIX-Web\"}});}</script>                <script type=\"text/javascript\">window.PlotlyConfig = {MathJaxConfig: 'local'};</script>\n",
              "        <script charset=\"utf-8\" src=\"https://cdn.plot.ly/plotly-2.24.1.min.js\"></script>                <div id=\"4b48ceaa-89b7-4348-83aa-1f04afe2a310\" class=\"plotly-graph-div\" style=\"height:525px; width:100%;\"></div>            <script type=\"text/javascript\">                                    window.PLOTLYENV=window.PLOTLYENV || {};                                    if (document.getElementById(\"4b48ceaa-89b7-4348-83aa-1f04afe2a310\")) {                    Plotly.newPlot(                        \"4b48ceaa-89b7-4348-83aa-1f04afe2a310\",                        [{\"alignmentgroup\":\"True\",\"bingroup\":\"x\",\"hovertemplate\":\"Age=%{x}\\u003cbr\\u003ecount=%{y}\\u003cextra\\u003e\\u003c\\u002fextra\\u003e\",\"legendgroup\":\"\",\"marker\":{\"color\":\"#636efa\",\"pattern\":{\"shape\":\"\"}},\"name\":\"\",\"offsetgroup\":\"\",\"orientation\":\"v\",\"showlegend\":false,\"x\":[42,41,42,39,43,44,50,29,44,27,31,24,34,25,35,45,58,24,45,24,41,32,38,46,38,25,36,44,43,29,39,36,41,42,29,45,31,33,36,41,40,51,61,49,61,32,27,39,38,37,44,36,33,41,42,43,45,19,66,51,35,27,33,56,26,36,34,43,35,21,58,29,37,25,36,21,55,32,33,41,34,32,36,34,46,75,22,30,46,28,44,45,36,29,42,35,41,29,22,34,40,44,31,36,65,46,32,36,33,35,30,39,42,36,28,30,37,41,31,34,34,39,39,48,28,42,52,56,41,24,34,33,38,25,39,50,34,40,48,35,44,34,43,52,31,21,29,37,44,32,32,48,42,37,43,57,33,28,73,33,22,30,49,36,29,31,24,41,39,24,29,27,44,30,40,35,30,36,40,55,45,65,45,42,50,32,39,37,30,34,41,36,40,32,29,35,32,37,57,35,30,42,50,38,33,37,41,34,45,45,33,31,41,34,26,47,46,33,43,54,31,30,42,33,45,37,30,39,50,29,72,40,37,20,67,42,29,43,46,28,38,39,37,67,34,40,26,26,24,54,36,34,79,37,28,41,34,34,30,38,42,48,32,26,31,36,34,36,39,35,41,34,34,30,28,37,62,53,35,46,39,29,35,42,22,40,29,32,26,34,42,41,27,34,38,25,31,44,58,33,31,36,35,33,33,31,43,35,50,31,80,30,38,59,36,37,49,42,22,24,57,30,40,31,30,35,35,46,35,26,50,40,44,30,37,29,32,33,39,39,40,31,47,22,25,43,34,59,32,39,32,39,32,25,45,30,57,34,41,58,28,45,50,29,68,33,42,35,34,29,42,75,31,31,35,39,45,35,30,39,50,36,30,28,44,66,46,62,45,21,29,38,46,38,24,37,33,32,39,66,52,38,52,36,23,36,49,37,37,41,23,38,31,41,35,26,61,39,46,28,60,38,40,35,39,26,39,45,40,40,57,41,33,37,33,51,30,35,38,42,35,31,34,46,47,26,37,40,38,47,38,40,31,44,39,36,33,38,43,37,29,39,25,32,26,33,32,38,35,35,27,37,26,28,33,46,31,40,38,29,34,23,37,37,61,35,37,39,30,55,29,41,38,47,38,36,32,40,26,58,32,54,60,44,41,31,30,40,22,37,31,38,34,34,51,38,56,37,48,58,35,56,37,32,48,31,43,26,48,30,57,26,32,35,40,59,35,34,62,28,37,26,42,51,49,44,38,30,49,24,36,47,25,34,33,51,40,41,53,70,29,61,36,46,38,36,54,63,31,31,44,45,35,49,40,27,32,30,41,39,36,33,57,30,51,51,53,44,36,47,38,38,34,32,26,41,43,39,57,34,43,26,72,30,37,29,53,28,35,51,30,27,64,38,26,31,39,62,42,37,35,40,53,36,48,35,29,49,47,28,61,54,33,44,31,51,33,48,43,36,48,29,27,39,39,34,30,38,36,38,49,52,42,48,31,25,25,54,64,30,41,57,31,46,41,33,31,29,46,42,48,42,26,32,35,39,38,45,70,38,55,58,41,40,24,42,31,45,51,36,27,43,36,34,45,57,62,57,36,33,32,30,49,36,36,40,35,42,35,34,48,35,38,41,25,34,37,42,45,43,56,42,23,38,36,42,37,25,40,57,24,25,31,43,60,47,67,36,46,28,24,24,29,49,60,40,18,46,38,46,41,47,35,37,39,31,36,28,37,58,43,35,36,21,43,27,82,60,41,63,36,31,32,36,49,33,58,28,28,35,27,28,41,35,58,36,26,42,35,48,36,49,48,34,29,36,46,32,35,42,52,44,31,29,39,46,33,69,53,37,35,65,33,28,26,25,29,42,27,43,36,36,34,69,36,33,47,56,31,39,34,41,29,37,30,34,37,56,48,36,50,31,35,41,44,49,21,42,51,25,46,48,41,43,57,32,49,39,32,64,43,32,41,53,38,25,38,48,44,36,40,45,35,28,38,39,32,42,33,45,60,43,36,45,65,25,38,42,74,43,37,32,42,51,35,32,35,40,40,25,40,36,48,28,58,45,33,46,31,25,36,53,32,27,35,47,39,45,35,45,44,61,51,19,34,36,35,38,61,24,39,41,42,36,37,38,52,44,37,37,35,31,46,29,36,25,39,38,67,48,48,33,66,39,42,44,43,67,27,37,31,35,32,63,43,42,34,34,37,70,48,25,43,38,34,36,43,38,48,46,27,44,32,35,25,31,36,34,31,49,37,35,42,28,43,29,44,62,28,38,42,43,39,42,26,52,33,42,45,71,40,35,29,24,43,37,40,41,45,31,49,32,48,32,25,32,33,35,34,53,39,22,40,29,46,30,30,24,30,72,67,30,39,35,38,34,42,48,25,40,30,49,38,50,22,74,33,47,33,38,48,38,38,34,20,36,52,26,57,40,47,52,23,37,31,32,39,29,41,32,38,35,36,32,24,42,36,31,22,51,34,36,41,40,34,29,39,36,26,38,39,29,38,32,28,46,38,34,38,31,52,59,42,21,62,48,42,47,61,29,31,24,56,33,35,58,33,45,32,35,34,37,37,34,27,31,22,42,42,57,37,40,41,43,43,28,30,29,34,38,27,29,45,45,39,34,49,54,58,37,35,41,30,32,36,49,28,35,27,38,26,40,43,36,40,39,34,21,49,31,34,24,43,36,47,37,35,50,30,40,29,27,61,28,24,43,28,34,38,41,30,46,22,35,40,76,32,30,47,32,51,32,42,22,33,54,33,29,23,44,33,37,46,47,47,53,42,28,38,31,36,30,46,39,66,63,33,42,24,28,36,21,30,25,38,44,66,24,28,26,32,40,68,55,46,46,42,38,33,36,27,38,40,42,31,55,36,38,44,38,30,42,39,33,32,32,37,42,67,39,25,46,35,45,59,63,37,39,39,40,31,37,41,30,30,33,55,34,30,42,37,34,31,32,31,52,46,49,33,30,27,37,38,38,54,27,31,37,43,41,47,40,44,50,26,46,38,20,62,40,46,37,38,38,28,43,38,30,52,46,43,41,71,42,40,26,30,37,32,43,41,54,48,29,52,39,49,43,43,37,22,32,41,30,39,43,37,44,31,50,26,43,38,46,44,27,41,44,35,32,26,41,42,23,46,35,42,66,40,55,27,38,45,32,29,46,33,46,38,29,27,43,29,27,41,44,23,69,32,40,73,30,29,30,30,28,33,24,40,44,45,32,41,30,42,42,39,59,57,26,29,48,44,62,41,44,28,31,56,65,39,44,43,43,38,24,33,56,46,26,31,38,35,53,34,35,28,66,25,55,23,34,41,37,40,32,29,35,52,49,31,48,26,36,30,26,26,37,45,32,30,38,26,36,29,46,39,51,30,39,31,43,50,30,52,57,38,35,25,28,50,31,39,47,32,48,27,43,36,37,33,37,39,42,38,39,37,54,36,64,52,29,35,41,51,41,34,35,32,23,26,28,32,37,47,33,34,28,36,38,23,37,33,69,43,42,48,30,25,48,54,52,34,38,34,40,29,37,35,42,43,42,31,40,42,38,37,53,40,42,49,23,44,35,23,23,40,21,28,41,35,34,38,43,42,33,33,37,61,36,39,39,29,36,28,38,27,32,48,42,28,49,42,36,31,31,40,64,39,35,24,49,52,29,77,21,49,40,27,18,43,38,25,38,25,44,28,32,30,46,57,54,30,35,23,33,37,31,39,32,47,53,62,34,37,41,50,45,40,41,34,31,59,56,32,47,31,54,44,31,37,32,40,40,52,42,46,46,24,37,24,41,37,26,42,33,44,40,18,42,39,32,41,52,24,20,36,37,41,35,36,31,23,34,37,34,44,30,51,31,30,50,22,42,29,35,38,40,49,30,28,30,47,44,45,43,33,35,32,57,33,39,30,42,29,37,38,36,40,33,20,44,49,32,21,30,29,39,41,23,42,25,54,40,39,30,59,34,34,42,33,29,41,23,33,52,37,39,30,35,38,36,34,38,40,43,34,48,28,39,36,37,27,34,28,38,38,34,41,36,33,36,35,38,36,40,37,25,43,37,74,35,41,36,38,35,37,44,51,39,59,30,24,26,33,31,38,49,41,50,65,26,33,38,31,32,29,36,32,45,23,35,31,57,37,45,25,22,31,45,37,36,22,32,46,38,31,56,39,54,34,34,35,36,48,36,30,37,35,29,33,52,38,41,36,47,29,29,61,34,28,38,44,25,45,32,70,33,36,33,33,36,50,39,35,31,39,55,35,31,36,36,30,24,35,32,39,34,60,23,33,37,31,34,49,29,38,37,45,30,33,67,33,36,69,20,29,67,48,32,42,41,29,30,31,25,48,40,28,56,31,35,36,36,44,24,31,36,54,40,23,26,56,74,30,39,33,30,38,37,31,44,45,39,39,22,34,52,35,43,37,53,27,21,51,58,55,54,42,33,36,24,52,34,40,33,48,25,39,36,41,26,30,41,33,35,38,35,37,33,30,69,28,40,45,47,41,54,46,28,41,36,29,60,49,44,62,34,43,43,58,27,74,41,29,32,39,43,43,46,48,32,74,35,32,40,28,37,27,30,30,18,24,41,39,45,23,59,39,33,28,51,37,41,34,44,34,24,47,64,38,39,27,34,45,31,34,37,35,45,49,37,26,63,41,38,38,32,47,50,38,38,29,35,44,33,37,31,31,28,42,36,36,48,44,45,40,34,63,45,55,32,39,24,36,28,32,52,41,33,39,37,38,55,70,40,38,37,43,57,40,49,33,61,42,31,55,42,74,41,48,25,28,35,33,54,44,31,27,29,54,30,32,25,32,45,40,34,37,34,45,38,43,32,44,57,18,38,45,51,41,18,35,38,34,33,49,33,26,57,38,57,55,36,65,35,42,44,40,72,28,32,34,35,77,33,40,33,56,43,40,58,35,46,26,34,35,24,43,40,42,46,38,38,40,40,37,34,32,35,59,47,33,37,34,58,47,35,48,29,37,35,28,30,31,38,34,33,46,33,34,40,37,41,26,36,47,35,31,34,49,35,43,34,55,38,46,58,37,44,30,35,36,38,38,56,41,30,28,31,33,42,30,38,66,58,39,41,37,35,20,25,33,41,36,43,33,35,36,41,55,61,43,49,29,35,37,39,56,33,38,25,57,27,65,48,59,43,33,34,36,40,37,45,39,50,44,26,30,48,50,27,27,45,33,40,47,40,61,25,45,61,49,45,35,29,34,57,33,46,32,19,55,40,28,37,50,36,33,37,38,45,41,51,29,29,35,30,29,35,39,28,29,36,37,48,33,35,37,26,41,25,44,38,49,38,46,55,45,42,58,35,45,26,35,42,37,38,43,32,41,43,45,33,31,32,34,39,48,54,35,22,43,31,29,39,31,50,38,26,34,41,30,42,40,27,46,39,34,35,32,31,51,28,43,52,27,34,42,51,34,30,31,26,37,35,32,43,55,37,33,31,38,25,52,32,46,33,40,57,46,25,29,29,31,39,41,49,40,31,41,22,39,74,52,42,37,41,61,42,59,29,34,57,29,34,51,26,28,46,46,24,29,59,51,47,25,38,88,63,41,40,53,32,40,32,32,27,38,36,31,49,38,57,37,32,38,41,41,40,37,57,40,37,39,38,36,32,21,28,35,26,31,23,46,56,45,20,37,37,38,38,32,32,45,37,44,33,46,50,52,34,51,39,26,40,36,36,50,62,61,25,35,24,52,34,29,42,26,29,45,47,60,61,35,40,58,33,38,46,45,61,41,24,34,43,50,59,50,36,42,53,46,71,30,38,41,26,30,40,30,34,58,27,38,50,29,42,47,40,31,44,58,40,51,54,36,29,32,30,38,31,46,31,40,28,50,33,32,44,22,38,40,53,47,29,28,40,48,62,24,41,28,34,25,34,32,31,32,46,38,42,34,26,58,63,35,45,30,49,35,36,27,28,29,29,29,25,48,42,36,35,48,41,42,27,30,29,43,40,31,28,22,27,27,23,39,51,21,37,33,40,38,26,44,53,34,29,40,62,44,28,44,32,29,30,37,35,52,19,64,35,34,50,25,38,43,38,38,35,39,36,27,23,28,60,42,44,32,38,42,37,31,34,29,39,40,48,28,29,31,31,30,46,27,34,22,38,21,37,37,28,32,67,55,38,45,70,39,42,56,44,32,41,38,58,37,57,46,23,30,33,48,32,37,30,36,31,41,45,34,38,41,22,38,52,36,35,48,25,57,42,31,28,42,31,29,45,36,37,68,50,28,47,38,36,30,27,26,38,32,28,72,29,28,51,39,61,71,38,40,61,24,33,37,43,40,46,39,44,39,66,45,23,52,25,39,27,28,43,51,29,53,43,44,51,38,33,42,32,30,34,28,52,40,37,25,30,37,34,31,33,34,59,32,40,43,36,33,43,53,32,20,40,30,35,60,49,36,32,40,38,48,38,35,45,39,38,41,41,39,48,40,53,33,75,45,51,25,32,45,25,33,43,37,21,26,27,36,22,55,38,52,36,32,33,35,67,36,52,37,35,37,38,29,42,37,26,37,31,34,30,44,50,31,47,33,29,52,35,26,73,33,47,35,32,41,22,69,38,33,52,32,40,28,52,56,57,38,42,33,46,34,41,29,76,63,32,39,32,42,37,54,46,33,35,44,28,27,39,28,26,42,41,32,20,42,36,29,39,37,31,51,43,33,46,30,41,29,25,29,31,38,51,46,36,45,39,36,34,45,30,42,56,59,37,39,45,35,40,41,39,43,35,35,30,42,26,47,45,19,49,51,59,39,29,45,26,47,33,40,43,32,55,47,39,45,33,62,31,47,30,41,27,43,43,32,29,27,29,38,36,27,39,41,39,40,42,48,39,20,22,45,85,36,45,43,21,47,26,38,34,29,38,29,27,31,48,37,32,44,53,35,34,67,44,58,33,58,33,43,33,40,32,35,42,28,31,31,43,32,32,30,32,44,35,43,33,36,34,28,29,44,40,30,54,22,36,25,40,43,37,31,41,25,19,59,30,24,60,35,32,29,47,31,28,45,30,28,47,74,42,40,32,40,21,39,43,33,51,23,27,29,30,39,26,43,33,34,37,56,39,39,27,34,37,44,48,60,40,30,24,76,41,55,48,28,44,39,34,35,39,40,29,51,32,41,34,31,23,28,34,34,37,38,39,62,48,49,40,35,56,32,27,43,35,29,27,39,34,60,37,43,43,55,45,36,45,32,42,28,32,66,49,26,29,36,36,23,46,24,20,33,69,50,42,60,56,36,26,53,27,35,46,33,32,31,56,36,37,30,24,30,39,41,32,35,26,29,66,33,36,34,36,47,34,32,38,54,19,50,31,36,24,32,45,57,25,35,37,58,43,31,38,50,29,38,58,36,31,33,51,48,43,35,33,30,40,54,33,33,32,59,43,31,25,54,41,44,37,57,32,39,48,48,43,31,37,30,23,30,28,41,39,39,19,26,41,25,34,28,34,35,44,35,62,40,38,62,28,50,72,31,54,63,25,53,71,40,35,24,30,41,31,47,32,50,40,38,43,18,34,31,41,27,31,36,56,24,28,29,29,53,37,33,31,63,45,40,45,35,34,40,31,36,24,41,29,33,60,38,48,33,38,47,34,74,40,67,33,47,43,37,37,55,58,40,37,72,45,26,49,72,39,66,41,41,84,25,55,32,46,33,30,29,22,71,33,41,31,31,33,26,62,23,60,29,40,40,46,36,37,26,39,37,40,38,42,42,26,31,39,35,32,42,43,49,41,35,43,37,36,26,37,66,34,41,32,30,36,47,36,30,46,43,28,37,32,31,49,40,21,57,40,24,29,33,36,37,40,39,35,62,43,37,43,28,42,49,26,36,27,40,42,33,31,30,40,28,46,30,34,37,39,28,33,25,31,35,43,29,35,45,47,37,46,27,63,41,74,32,30,46,35,37,45,45,36,34,37,35,42,18,33,32,37,34,18,39,41,43,49,38,35,35,31,30,69,28,24,42,84,37,42,44,37,29,59,43,42,43,67,34,49,33,32,43,35,37,61,51,31,39,40,36,36,60,34,41,64,44,31,34,61,51,30,25,31,20,50,46,36,31,68,32,66,28,23,39,31,41,33,35,43,28,28,55,41,40,51,37,29,56,62,37,32,36,40,37,41,57,50,77,47,33,34,26,37,36,40,56,21,37,25,36,46,60,29,46,33,41,36,55,27,33,31,37,39,35,48,46,19,26,47,23,37,31,52,27,48,39,62,42,45,32,55,70,67,47,41,38,79,34,46,33,35,37,30,43,42,27,35,28,31,37,42,21,33,44,29,28,52,43,24,32,32,31,33,30,25,22,40,44,52,35,39,18,32,35,45,67,76,35,60,33,40,39,48,21,37,22,46,73,40,34,35,44,42,34,49,30,34,39,22,34,46,27,39,30,62,40,41,25,42,51,31,29,27,66,29,38,51,46,67,40,32,37,27,44,32,45,29,39,32,37,37,35,32,39,33,39,29,36,23,35,29,31,45,38,40,38,64,40,37,49,27,36,29,34,47,27,34,34,35,61,22,33,31,59,37,46,27,44,26,31,45,41,27,28,45,54,38,36,58,32,22,26,51,43,35,28,31,44,51,40,34,38,30,41,35,30,42,40,73,30,33,31,29,44,46,39,56,39,31,44,44,76,57,55,36,29,46,35,38,39,39,49,23,50,40,58,60,28,38,38,34,48,37,41,32,34,26,36,43,33,32,32,45,45,42,34,37,36,28,40,40,29,39,34,31,40,21,39,37,25,37,31,45,32,33,72,64,22,39,31,56,34,46,71,39,33,28,45,42,37,25,21,41,59,36,36,30,40,45,55,29,44,46,37,63,70,35,46,53,44,43,36,50,29,39,43,59,39,41,40,44,29,65,29,36,52,35,23,37,46,45,32,26,41,25,66,32,20,46,31,40,31,61,58,43,28,47,34,33,34,39,60,38,43,49,47,29,33,31,37,23,35,32,40,27,30,40,22,38,27,49,22,21,37,40,65,24,46,44,38,24,38,37,32,30,32,59,38,40,80,33,30,39,60,19,38,53,29,26,41,59,37,43,45,39,66,33,46,57,51,32,40,46,32,31,42,48,44,38,20,63,56,39,41,27,42,37,38,48,42,38,42,52,31,27,37,36,38,31,32,36,37,21,63,33,41,63,41,51,56,60,28,26,39,37,29,31,45,58,39,30,44,32,23,34,48,54,38,30,35,43,50,33,47,31,37,33,29,45,39,34,31,60,40,47,37,39,40,48,29,62,34,26,32,34,37,57,33,41,55,28,34,40,39,28,40,40,30,33,54,23,31,37,28,36,21,42,60,38,26,49,32,52,37,48,39,47,28,33,43,29,44,51,32,40,33,39,63,45,44,33,24,66,32,39,33,44,31,53,34,41,43,62,38,29,37,43,74,35,34,60,45,34,37,42,69,27,35,29,51,43,39,32,32,33,36,26,52,26,59,35,29,32,47,32,31,36,60,45,54,47,57,58,35,39,43,46,30,52,27,38,47,37,44,55,28,47,25,34,26,53,56,35,19,25,45,23,40,51,47,36,36,36,37,34,41,36,47,32,42,29,35,29,39,39,45,63,50,26,64,34,30,54,26,44,38,35,33,29,27,29,76,29,35,37,40,46,41,24,56,32,35,41,46,44,57,33,34,75,42,32,32,51,30,33,62,41,53,35,42,40,42,53,31,37,23,32,46,44,42,34,40,68,38,30,28,32,44,56,50,31,40,46,40,35,38,52,41,69,34,30,44,28,77,34,36,34,31,43,34,45,27,30,55,60,19,21,31,34,57,64,38,38,25,43,44,35,30,54,26,46,41,24,44,45,36,43,26,31,45,39,42,36,48,44,66,48,22,35,27,40,74,50,33,22,39,35,31,45,41,41,34,37,71,29,59,39,39,42,37,35,42,67,39,30,40,38,51,38,24,20,68,39,39,45,34,38,46,43,43,35,27,31,34,41,42,42,40,39,27,24,42,27,47,32,35,31,28,40,47,28,44,23,35,38,59,42,33,26,46,64,26,24,68,21,32,38,38,32,31,29,37,50,40,36,59,34,49,33,36,31,40,47,37,23,35,28,32,70,41,30,35,31,39,33,53,56,23,29,36,40,33,52,31,47,45,30,42,38,37,34,35,31,44,35,64,61,32,32,31,32,42,47,30,44,32,75,45,33,37,30,66,28,41,35,43,45,51,41,38,30,32,39,29,38,46,27,39,52,38,43,34,38,31,44,43,37,38,39,41,37,55,31,33,37,32,36,28,42,39,36,37,37,58,59,39,46,25,30,39,35,18,37,34,62,36,31,36,64,23,46,40,27,32,33,43,20,30,24,32,29,40,39,38,52,32,47,37,38,39,30,25,34,41,35,78,32,36,44,31,65,38,46,46,38,34,30,35,23,25,34,55,51,42,34,38,48,49,46,34,44,37,24,42,47,33,43,48,24,46,45,32,39,32,49,38,30,43,48,45,33,31,30,50,27,44,34,25,60,74,34,26,28,57,31,33,25,39,51,31,39,38,48,28,50,41,43,58,35,23,35,39,54,31,50,41,45,23,33,41,38,42,48,61,35,48,44,24,38,43,42,53,48,33,45,24,37,30,32,45,37,41,48,62,56,35,27,33,44,35,22,43,27,44,31,40,39,54,35,23,38,18,38,26,35,33,44,32,42,49,43,50,19,40,42,38,35,53,31,54,43,32,36,40,32,30,45,59,57,51,49,32,64,37,29,35,64,54,40,59,37,39,36,48,34,40,32,34,38,36,49,38,39,31,31,19,36,44,35,35,35,37,33,45,40,36,53,53,37,53,22,34,42,44,41,34,35,19,41,39,29,35,32,41,52,39,71,39,41,34,41,33,28,33,37,38,26,31,39,39,77,29,28,36,26,32,33,32,32,35,31,24,52,42,34,30,35,79,32,35,34,26,28,40,53,35,44,56,29,36,36,36,23,42,70,27,48,35,41,23,33,44,27,41,22,36,22,55,33,54,29,37,34,37,50,43,40,32,37,43,33,27,44,29,44,33,31,36,43,49,41,53,37,49,41,34,34,51,29,32,31,41,40,40,32,41,59,30,42,44,30,33,34,48,29,36,37,60,51,47,45,39,32,36,50,33,33,26,34,36,58,36,40,39,34,30,81,29,31,54,43,24,36,34,37,38,43,36,43,53,31,47,62,39,36,45,20,58,34,42,33,33,39,37,46,42,45,42,40,41,36,64,40,41,35,38,30,41,24,55,39,25,35,35,45,38,23,30,30,31,26,36,35,47,40,33,33,62,44,52,36,44,43,40,38,68,35,43,36,57,48,37,46,36,33,49,47,40,40,35,50,29,34,51,53,68,29,45,40,44,37,44,37,38,38,33,34,46,61,29,34,59,38,63,38,50,29,33,44,30,29,25,26,42,38,32,36,38,28,36,31,23,46,37,29,35,42,41,41,47,27,26,45,79,29,42,35,29,34,38,25,37,34,35,37,29,31,41,38,49,49,50,43,42,45,30,43,39,55,37,46,29,20,29,45,26,58,20,58,44,51,32,37,55,28,33,26,28,47,60,49,38,31,40,37,26,35,27,29,46,54,54,38,38,42,38,40,66,37,55,40,64,51,34,47,29,32,48,31,25,38,32,38,70,49,37,35,36,29,42,42,33,50,55,69,44,46,31,36,36,33,43,29,30,31,31,39,37,38,34,29,28,27,22,34,43,35,31,38,28,39,32,30,30,41,36,58,39,29,27,38,22,71,40,27,42,36,22,30,33,28,38,37,38,38,35,22,55,29,57,24,43,28,20,38,37,29,22,72,43,66,39,23,29,35,40,38,46,49,41,68,29,26,30,44,24,41,40,37,43,38,32,59,39,44,24,39,44,27,20,63,48,31,38,52,35,26,30,41,44,27,31,26,28,34,33,40,47,32,43,42,29,40,31,40,28,31,32,23,51,53,41,38,30,19,56,32,28,41,32,29,44,51,36,71,33,39,39,25,42,27,51,49,31,36,42,40,48,72,45,36,40,37,31,25,36,25,40,32,31,43,59,25,27,41,29,46,29,33,24,39,55,57,34,55,42,51,47,47,25,34,31,32,41,32,57,41,23,35,31,29,47,31,39,42,35,46,37,51,33,39,42,41,62,52,41,33,39,30,23,38,38,72,27,21,36,32,40,28,28,36,48,22,54,32,38,27,44,32,44,48,42,40,44,35,30,47,37,22,37,64,47,37,54,28,28,40,48,42,40,28,50,32,35,56,28,39,31,35,44,44,36,36,35,48,24,25,51,37,32,33,34,30,34,61,43,29,43,28,33,36,28,50,44,46,33,43,45,25,39,45,34,62,35,36,41,31,29,36,36,41,32,33,45,21,25,39,42,38,34,42,47,34,44,35,34,44,46,28,45,38,41,35,35,33,78,36,35,31,48,35,42,36,35,27,47,31,40,24,32,53,34,40,75,33,48,32,37,33,65,28,37,33,39,43,61,37,37,35,53,51,49,38,32,34,34,31,33,44,29,32,45,41,28,39,43,51,35,38,42,33,32,38,38,33,44,26,41,31,38,39,40,39,34,36,35,56,42,46,39,35,42,28,38,36,35,38,34,29,36,40,65,62,50,22,30,67,38,31,31,38,25,37,35,37,25,38,19,50,40,33,35,42,57,50,37,44,50,39,49,58,52,41,27,40,28,42,31,32,46,29,26,43,38,41,31,44,38,42,45,60,35,29,44,28,37,40,44,28,38,27,33,29,38,61,24,42,41,36,37,42,35,19,35,29,36,61,29,41,43,63,27,30,41,52,68,26,40,38,71,33,60,34,42,33,32,73,29,34,28,26,26,32,33,33,30,39,29,61,25,47,46,37,23,50,39,44,30,32,31,46,41,39,64,35,41,49,36,42,45,40,48,25,60,39,34,35,35,47,39,31,37,37,37,27,46,49,34,26,40,33,46,38,41,43,29,45,40,22,54,44,31,35,38,30,34,42,61,38,43,32,41,34,45,29,37,40,36,41,45,50,28,32,44,37,23,31,39,32,34,30,40,45,36,29,51,44,35,36,31,49,39,66,36,40,42,36,33,71,29,48,40,26,42,55,27,42,38,32,57,39,45,37,54,45,30,50,35,38,35,38,47,33,60,32,42,38,41,30,40,41,43,69,34,29,37,47,35,51,36,62,29,35,37,32,37,27,26,49,32,37,29,35,51,40,71,49,38,21,29,33,29,45,33,51,22,33,22,40,34,46,31,56,30,38,37,48,40,40,32,39,53,62,46,31,43,33,21,40,19,33,39,26,36,41,28,31,55,38,38,29,40,33,54,31,38,34,35,48,39,37,30,23,34,27,27,42,40,29,45,30,32,66,46,33,39,33,38,42,27,47,39,31,28,49,36,54,44,48,39,39,53,43,36,32,30,46,47,41,34,37,22,31,38,30,41,33,53,55,43,40,32,45,35,44,57,41,29,31,33,39,38,76,40,33,48,32,42,40,35,30,43,37,28,29,35,37,49,37,45,44,38,40,41,24,31,37,37,28,41,33,35,25,35,53,32,27,32,45,35,59,62,20,28,31,37,30,41,19,22,24,31,28,24,33,38,45,26,37,48,59,38,34,30,35,35,52,35,33,27,46,41,44,50,44,33,40,39,36,37,34,27,32,27,26,46,45,29,31,46,37,69,40,36,41,44,45,52,42,47,23,25,31,56,44,39,47,32,31,23,37,45,34,41,52,35,52,45,36,45,42,24,37,41,31,42,52,40,38,31,45,37,27,30,27,26,33,43,38,31,37,41,47,57,52,30,32,36,28,50,34,28,35,41,26,31,23,34,36,44,40,73,37,49,33,40,48,44,33,32,34,29,33,35,43,35,60,34,33,25,37,33,51,47,37,31,24,38,24,46,22,33,31,30,34,41,31,64,31,39,26,33,29,31,26,21,38,34,28,58,41,64,75,26,29,32,61,43,73,26,31,38,37,40,34,37,39,37,53,48,36,37,36,47,39,43,27,43,28,56,41,29,54,31,33,31,41,49,49,33,29,51,33,34,40,30,40,62,36,35,41,47,31,43,37,33,45,31,32,39,32,46,34,42,36,71,48,47,34,37,36,38,28,26,47,27,33,52,33,20,39,40,46,47,48,42,37,32,34,37,55,37,36,27,28,32,35,44,37,44,37,33,48,45,36,24,49,46,43,52,33,54,34,72,55,26,31,22,37,33,35,41,32,40,63,27,24,33,27,42,50,34,34,52,24,41,45,42,49,38,33,33,27,52,25,43,29,28,27,41,67,37,29,57,19,32,47,50,34,28,59,31,36,41,34,39,35,35,34,35,35,35,43,39,24,37,40,37,55,41,35,50,35,31,25,48,27,38,35,42,41,43,68,32,45,39,25,34,40,28,48,73,41,52,38,35,34,47,67,38,64,46,33,37,37,35,33,24,36,31,32,40,43,44,30,37,38,28,41,41,36,44,33,26,48,30,46,36,55,49,41,33,30,44,33,63,21,53,20,21,42,26,37,27,44,47,23,47,41,43,39,45,37,39,38,40,39,33,53,45,26,33,37,44,37,47,45,33,92,37,30,34,31,37,45,28,29,43,44,35,29,31,51,36,45,29,36,57,30,33,26,32,31,35,23,41,40,34,22,37,41,40,34,35,49,24,39,32,41,44,26,40,31,44,31,34,30,35,35,28,39,44,50,27,32,43,30,40,37,32,48,56,32,42,40,46,50,24,41,26,65,32,51,49,50,41,35,42,31,35,34,34,38,27,37,75,45,67,47,27,36,37,39,34,45,33,35,35,29,45,27,20,30,38,32,39,30,34,50,31,35,51,40,38,38,32,48,44,25,47,33,30,54,54,38,38,46,21,35,38,55,37,38,28,36,30,71,60,21,23,39,33,33,28,45,30,33,33,30,40,24,22,32,29,49,36,51,38,35,47,33,31,41,40,41,54,27,64,28,34,26,33,54,29,32,36,50,43,28,46,41,66,41,57,39,36,44,31,42,42,59,24,36,36,41,36,33,37,34,33,37,42,37,26,47,41,46,38,23,30,44,35,33,31,39,29,36,36,31,42,32,32,26,34,56,43,49,35,36,36,36,52,26,32,30,60,31,29,48,57,34,50,38,22,41,30,24,39,27,37,33,48,41,31,41,39,37,37,49,45,33,64,39,34,66,39,36,43,46,36,67,29,58,34,39,26,77,29,51,41,40,50,36,33,50,46,32,37,28,55,37,57,38,35,55,40,44,26,51,30,55,39,34,31,24,42,53,38,38,28,38,39,36,28,92,41,27,37,67,37,40,33,48,42,44,38,29,39,43,48,48,43,27,50,38,37,42,55,31,32,41,30,37,37,46,40,39,34,50,54,48,25,46,60,38,35,43,32,44,30,35,35,36,30,26,42,42,63,44,25,36,50,56,41,39,29,39,47,24,38,44,51,49,34,43,43,52,21,34,50,33,42,40,29,36,30,26,36,33,33,24,40,30,33,44,42,39,37,43,36,41,34,52,46,38,45,41,33,24,48,26,32,32,39,30,36,48,27,37,28,57,42,37,35,25,23,29,32,30,35,27,45,19,31,25,39,48,56,50,26,49,42,48,41,66,41,31,44,41,29,35,46,34,38,43,40,54,48,36,40,31,24,41,24,33,38,39,60,34,43,29,34,37,48,39,30,37,42,46,39,33,31,50,33,43,46,25,42,40,36,31,36,31,33,37,38,42,37,35,38,35,49,44,33,46,39,33,26,39,55,30,22,26,50,38,66,44,52,39,44,38,39,42,47,40,34,39,50,35,44,32,48,60,44,36,41,29,39,35,24,32,50,68,47,27,28,48,32,44,50,43,33,38,65,28,35,25,44,34,35,30,50,25,50,36,28,28,54,29,45,51,27,37,26,53,33,48,41,45,53,56,37,46,31,60,48,38,44,34,26,36,20,31,57,39,29,43,32,43,38,33,31,72,71,35,32,35,41,76,39,53,42,24,54,46,39,63,37,40,36,34,25,24,67,30,51,36,36,32,56,38,38,35,54,48,47,53,40,41,67,38,38,50,51,37,24,44,39,42,41,45,40,45,37,39,28,39,35,24,39,42,49,31,32,31,23,34,46,38,34,32,26,44,38,33,33,35,48,30,41,57,49,28,66,67,39,38,63,54,55,30,41,36,30,37,32,34,46,36,33,45,65,32,55,59,23,36,34,46,34,28,40,29,33,34,36,30,33,30,50,38,39,28,38,42,30,42,49,36,23,44,44,38,34,40,52,42,44,34,70,33,35,42,33,32,28,30,72,33,39,29,47,30,25,47,28,37,25,55,36,32,41,41,36,54,40,41,39,31,34,35,46,24,47,29,37,40,30,38,35,35,34,43,62,45,32,37,44,77,33,36,37,40,57,25,28,31,40,55,36,32,31,47,58,32,41,53,40,46,33,38,60,31,27,34,51,42,74,38,34,42,35,32,33,37,55,59,44,31,35,29,43,32,30,35,39,33,34,34,31,31,37,43,28,51,45,33,72,43,58,28,38,28,53,22,41,37,43,36,36,33,54,59,32,37,31,36,32,24,39,34,49,42,56,34,34,59,42,43,18,41,28,34,54,42,39,54,30,34,28,49,27,42,25,42,25,34,38,21,30,35,37,29,49,36,54,36,73,40,34,36,35,42,36,26,37,30,34,37,38,77,23,40,34,36,41,25,28,39,41,38,37,44,29,34,20,31,67,28,22,45,56,47,40,37,35,39,33,56,39,34,58,22,35,42,34,23,36,31,45,29,36,37,36,40,38,36,29,36,38,33,48,33,32,43,35,38,31,37,35,50,57,29,32,27,47,54,36,24,29,45,35,30,36,37,39,20,44,35,46,33,20,43,43,29,30,32,40,36,37,30,30,37,26,35,47,55,36,32,50,31,44,56,22,35,40,34,43,44,35,32,49,56,42,26,35,40,28,37,36,27,49,27,36,71,47,58,32,44,32,27,44,44,54,37,36,38,50,29,64,35,40,58,30,42,26,43,41,72,40,35,81,35,46,33,52,40,33,51,32,36,42,38,28,42,37,28,34,43,34,26,42,29,62,44,38,37,76,35,30,41,49,34,36,30,51,41,33,53,38,52,36,44,54,28,32,52,37,37,33,49,27,43,39,40,34,42,33,26,39,40,42,38,33,35,42,30,44,28,33,50,40,29,60,45,30,31,29,28,60,39,31,41,31,46,36,38,28,37,37,37,27,33,40,32,27,39,46,61,69,19,46,40,28,68,42,40,43,47,38,29,59,32,23,46,34,31,40,32,28,39,32,25,31,31,42,45,24,30,38,38,51,40,53,31,36,44,50,39,35,37,25,29,61,38,29,39,30,37,28,37,33,36,31,32,25,33,29,26,41,40,48,61,45,46,31,38,74,46,64,47,39,41,60,36,31,29,31,48,34,29,31,35,39,64,40,46,30,56,30,62,32,46,60,71,68,33,18,35,44,35,55,63,31,35,43,42,31,58,41,41,41,30,33,41,51,60,22,35,36,40,35,24,35,38,25,39,38,28,42,34,36,40,41,55,34,30,34,36,44,49,35,49,20,27,29,29,50,67,43,40,63,21,22,46,33,34,54,43,64,26,33,57,76,38,22,31,40,56,25,44,36,33,46,46,52,54,63,52,59,34,25,34,55,43,34,30,24,63,33,38,42,58,25,29,40,28,50,32,44,23,51,41,40,36,33,42,46,33,56,41,42,48,32,21,47,46,43,36,38,34,27,20,49,41,36,68,39,47,49,59,33,27,22,28,32,28,35,47,33,30,38,46,29,45,29,36,46,36,32,38,45,41,38,44,38,46,45,45,36,42,36,30,31,57,49,48,31,40,67,43,41,30,72,40,54,28,38,34,32,35,37,39,35,61,28,26,35,24,35,56,33,38,37,31,34,35,39,38,47,33,54,30,38,30,38,47,40,70,31,33,22,36,39,26,29,33,42,42,39,45,35,35,25,52,33,40,33,33,30,38,81,34,34,40,37,38,56,37,30,51,34,40,45,49,30,42,36,31,50,42,35,47,30,26,27,38,33,36,46,27,45,32,51,39,32,39,40,33,21,67,22,24,28,26,36,32,37,57,45,36,41,41,44,34,51,35,34,32,39,26,41,50,23,73,46,41,31,36,30,24,33,39,37,50,38,36,34,36,42,30,21,62,50,43,36,50,37,31,23,47,47,33,33,31,33,56,34,29,47,41,33,34,50,34,39,31,46,34,29,49,43,29,29,44,31,48,51,34,27,58,36,40,50,37,47,30,36,29,28,33,50,38,39,24,48,29,38,47,66,36,38,52,68,38,40,43,45,51,31,60,51,50,35,34,36,31,35,34,49,32,43,34,28,31,45,35,53,33,33,38,39,35,39,31,47,33,29,34,41,24,38,33,36,30,36,24,41,23,34,37,48,39,47,38,29,40,36,25,42,38,71,32,37,25,25,31,27,48,38,37,37,24,33,27,61,44,31,31,31,22,40,40,46,27,42,28,36,59,50,40,39,39,59,21,47,40,36,66,42,59,30,54,36,32,47,49,27,33,34,39,34,63,29,32,31,39,32,34,32,61,41,75,40,39,42,59,25,27,50,57,38,30,39,37,32,43,25,33,47,37,37,39,40,34,50,32,50,29,32,35,24,25,29,38,35,37,56,36,28,40,58,40,41,38,30,38,33,32,33,40,35,38,42,53,34,37,32,32,31,46,32,40,36,34,53,40,21,57,39,25,28,36,34,40,37,38,41,28,36,40,34,35,51,50,48,58,39,43,69,58,33,30,36,27,43,42,47,38,33,41,53,27,39,50,33,64,35,30,55,27,36,35,34,43,38,38,49,30,37,35,33,41,42,42,25,31,34,49,43,46,32,28,36,39,38,30,49,32,31,44,26,34,40,22,33,35,36,57,45,31,41,60,34,37,32,29,44,29,55,38,39,40,37,55,32,36,25,36,34,62,41,44,53,25,48,38,32,60,69,30,48,29,45,34,39,58,36,28,47,40,26,28,36,38,46,56,22,36,29,38,32,26,39,26,29,43,52,44,26,29,26,40,36,28,38,33,47,41,41,43,40,29,48,22,33,23,34,23,70,26,33,33,49,33,44,22,46,41,35,53,37,32,71,23,28,44,59,49,34,40,36,62,27,71,26,51,31,33,33,58,51,42,66,50,29,38,34,34,60,25,40,34,70,41,48,42,28,46,36,42,43,36,37,35,37,29,37,48,42,28,48,38,27,42,40,28,39,27,29,35,34,20,50,29,52,37,18,54,34,29,27,39,35,45,33,30,35,34,31,43,43,46,33,25,40,47,40,30,46,34,35,47,46,37,47,32,22,58,24,25,41,32,39,39,28,36,63,45,48,40,39,30,64,36,28,42,38,26,59,45,37,65,47,34,31,43,32,38,19,45,46,41,29,34,41,39,40,36,37,23,32,53,49,35,43,45,63,59,39,49,42,38,31,40,23,30,39,26,32,39,27,37,41,36,40,33,36,38,35,43,40,42,44,23,44,30,42,35,39,29,46,34,27,30,32,47,44,40,29,20,25,43,48,30,27,43,43,57,42,30,31,43,38,25,27,36,44,39,48,40,35,46,37,39,55,35,38,56,67,54,41,40,28,35,42,40,34,49,27,43,71,42,40,67,43,39,32,50,48,31,34,37,30,32,23,37,37,31,42,35,55,35,48,39,37,65,35,40,41,41,38,44,37,44,28,27,35,51,30,27,43,30,41,48,30,41,29,42,47,30,44,34,43,59,29,23,45,25,49,28,34,29,44,47,32,30,30,32,43,52,37,44,34,66,34,63,60,61,51,39,36,29,62,31,59,31,30,34,33,37,44,24,37,34,39,60,27,34,41,27,19,73,35,36,35,25,34,66,29,38,33,45,23,34,37,52,40,41,41,39,38,60,36,38,21,35,26,26,51,43,31,40,37,36,36,42,64,50,35,49,29,41,38,40,39,41,35,50,34,34,43,46,33,40,33,36,27,42,35,39,53,40,29,38,50,42,38,43,39,43,26,36,37,32,24,43,59,38,29,72,34,38,38,41,42,30,30,34,50,36,46,24,47,43,49,29,39,28,38,45,36,37,23,39,49,34,32,46,39,40,34,51,40,41,71,51,39,35,40,36,32,34,32,29,48,32,24,31,39,36,46,62,52,32,36,37,35,55,46,32,28,39,29,35,69,55,26,32,37,43,54,31,47,34,38,34,37,37,49,35,28,43,48,46,35,23,47,42,54,50,42,37,52,26,26,44,38,52,37,58,43,25,33,51,61,40,32,33,43,41,29,31,41,35,35,35,32,37,25,41,43,36,37,31,28,42,40,35,43,28,32,33,38,38,37,32,36,33,33,38,20,31,40,54,59,42,41,34,60,41,31,40,67,34,34,61,23,28,47,29,36,37,45,18,51,39,27,34,49,45,36,41,50,44,38,49,29,39,47,27,23,41,40,33,33,31,47,35,30,55,46,33,48,34,33,38,64,39,49,30,30,41,38,32,26,44,43,60,41,40,27,36,52,27,81,54,36,40,47,42,29,35,36,34,39,40,38,31,32,38,37,43,32,29,35,38,61,29,34,31,52,38,41,33,29,40,73,29,36,36,62,32,23,40,58,40,29,33,37,34,51,39,43,40,39,27,33,36,40,49,20,38,59,29,21,43,35,34,43,45,40,35,37,43,28,49,23,36,27,39,46,32,31,32,24,40,63,47,36,46,35,26,43,45,30,54,39,43,61,38,35,28,39,34,44,47,28,42,56,35,58,38,28,32,46,30,58,26,40,29,37,34,28,26,30,43,31,51,30,31,52,52,44,24,36,38,37,40,39,37,30,31,48,31,60,37,28,67,39,32,27,31,39,35,35,38,49,31,49,27,47,40,50,32,46,35,32,37,25,41,20,29,34,39,42,39,31,49,32,41,37,37,20,40,39,61,52,31,60,38,38,32,29,35,21,47,42,31,33,42,54,29,35,62,45,31,34,27,61,48,29,32,36,31,33,36,74,38,36,45,56,30,27,26,41,43,36,38,40,39,37,40,27,83,47,50,40,37,51,42,49,42,69,27,31,61,35,50,71,41,35,40,35,35,34,19,62,78,25,50,49,47,58,29,45,29,28,43,28,50,41,36,34,43,42,63,40,37,43,40,42,46,29,43,39,45,35,35,49,29,36,40,28,39,43,31,30,36,32,48,47,26,35,26,70,45,38,23,57,44,33,32,39,32,37,61,39,43,35,52,40,52,34,39,31,46,69,36,43,36,31,27,55,34,46,40,26,44,53,43,37,33,27,26,28,34,33,28,40,72,53,39,70,32,33,24,28,39,34,38,38,27,63,31,27,33,37,54,41,28,30,41,35,28,33,29,27,27,52,55,39,28,36,47,35,40,46,24,39,56,52,36,45,25,28,22,74,45,51,46,48,41,53,35,33,35,40,36,30,37,32,32,32,33,80,35,48,36,43,33,37,25,52,25,27,18,29,48,44,28,69,41,26,29,26,33,45,48,28,38,32,37,44,27,18,40,35,32,38,46,18,40,34,41,41,60,29,45,52,41,42,40,29,29,46,38,37,35,37,57,29,34,43,36,40,31,41,38,29,72,34,67,46,39,41,36,39,28,42,38,37,29,33,30,35,41,18,35,37,30,42,52,34,45,38,28,62,34,41,35,20,76,42,71,34,40,28,67,55,61,37,26,35,32,55,33,59,39,31,29,44,28,44,35,40,37,36,33,37,47,35,35,24,35,37,33,31,47,40,44,27,31,22,44,31,37,34,31,27,49,40,31,50,32,35,34,38,41,35,31,71,31,40,38,33,33,40,58,34,40,32,32,39,42,30,39,39,40,30,30,35,37,34,37,32,78,28,62,31,39,34,33,29,19,36,63,39,32,33,45,63,31,68,57,34,42,52,51,25,37,32,51,49,23,36,38,31,43,22,36,30,41,22,57,37,41,32,40,56,34,39,30,62,47,40,38,36,32,41,36,43,45,43,23,38,29,39,64,70,32,78,22,37,25,29,35,45,32,46,36,41,69,24,35,51,59,21,68,40,36,43,35,43,27,31,60,21,27,40,64,39,33,54,44,49,39,30,36,42,26,29,39,43,40,40,48,18,49,39,27,34,32,28,45,39,35,28,42,23,43,22,40,30,46,35,30,40,31,36,33,35,36,39,39,27,31,31,29,36,34,48,30,31,51,45,28,39,26,26,28,40,33,39,38,32,48,64,41,46,31,39,38,39,41,26,46,30,24,40,38,25,34,38,34,26,28,43,37,37,24,32,39,40,55,30,38,27,43,33,49,24,32,43,38,40,34,37,33,44,39,36,33,43,62,42,40,50,41,48,33,31,24,21,32,37,49,40,40,77,56,40,61,38,28,39,56,27,36,36,41,38,28,45,58,55,44,34,44,34,41,44,53,31,26,49,36,36,29,50,38,36,31,38,38,40,34,18,46,43,28,77,42,36,57,20,36,25,23,41,44,33,34,53,47,39,46,37,47,45,29,46,25,37,38,33,44,44,33,34,33,35,48,40,41,42,34,26,27,33,50,33,32,40,58,35,42,46,40,35,36,47,30,30,28,33,53,36,28,29,39,35,36,42,28],\"xaxis\":\"x\",\"yaxis\":\"y\",\"type\":\"histogram\"}],                        {\"template\":{\"data\":{\"histogram2dcontour\":[{\"type\":\"histogram2dcontour\",\"colorbar\":{\"outlinewidth\":0,\"ticks\":\"\"},\"colorscale\":[[0.0,\"#0d0887\"],[0.1111111111111111,\"#46039f\"],[0.2222222222222222,\"#7201a8\"],[0.3333333333333333,\"#9c179e\"],[0.4444444444444444,\"#bd3786\"],[0.5555555555555556,\"#d8576b\"],[0.6666666666666666,\"#ed7953\"],[0.7777777777777778,\"#fb9f3a\"],[0.8888888888888888,\"#fdca26\"],[1.0,\"#f0f921\"]]}],\"choropleth\":[{\"type\":\"choropleth\",\"colorbar\":{\"outlinewidth\":0,\"ticks\":\"\"}}],\"histogram2d\":[{\"type\":\"histogram2d\",\"colorbar\":{\"outlinewidth\":0,\"ticks\":\"\"},\"colorscale\":[[0.0,\"#0d0887\"],[0.1111111111111111,\"#46039f\"],[0.2222222222222222,\"#7201a8\"],[0.3333333333333333,\"#9c179e\"],[0.4444444444444444,\"#bd3786\"],[0.5555555555555556,\"#d8576b\"],[0.6666666666666666,\"#ed7953\"],[0.7777777777777778,\"#fb9f3a\"],[0.8888888888888888,\"#fdca26\"],[1.0,\"#f0f921\"]]}],\"heatmap\":[{\"type\":\"heatmap\",\"colorbar\":{\"outlinewidth\":0,\"ticks\":\"\"},\"colorscale\":[[0.0,\"#0d0887\"],[0.1111111111111111,\"#46039f\"],[0.2222222222222222,\"#7201a8\"],[0.3333333333333333,\"#9c179e\"],[0.4444444444444444,\"#bd3786\"],[0.5555555555555556,\"#d8576b\"],[0.6666666666666666,\"#ed7953\"],[0.7777777777777778,\"#fb9f3a\"],[0.8888888888888888,\"#fdca26\"],[1.0,\"#f0f921\"]]}],\"heatmapgl\":[{\"type\":\"heatmapgl\",\"colorbar\":{\"outlinewidth\":0,\"ticks\":\"\"},\"colorscale\":[[0.0,\"#0d0887\"],[0.1111111111111111,\"#46039f\"],[0.2222222222222222,\"#7201a8\"],[0.3333333333333333,\"#9c179e\"],[0.4444444444444444,\"#bd3786\"],[0.5555555555555556,\"#d8576b\"],[0.6666666666666666,\"#ed7953\"],[0.7777777777777778,\"#fb9f3a\"],[0.8888888888888888,\"#fdca26\"],[1.0,\"#f0f921\"]]}],\"contourcarpet\":[{\"type\":\"contourcarpet\",\"colorbar\":{\"outlinewidth\":0,\"ticks\":\"\"}}],\"contour\":[{\"type\":\"contour\",\"colorbar\":{\"outlinewidth\":0,\"ticks\":\"\"},\"colorscale\":[[0.0,\"#0d0887\"],[0.1111111111111111,\"#46039f\"],[0.2222222222222222,\"#7201a8\"],[0.3333333333333333,\"#9c179e\"],[0.4444444444444444,\"#bd3786\"],[0.5555555555555556,\"#d8576b\"],[0.6666666666666666,\"#ed7953\"],[0.7777777777777778,\"#fb9f3a\"],[0.8888888888888888,\"#fdca26\"],[1.0,\"#f0f921\"]]}],\"surface\":[{\"type\":\"surface\",\"colorbar\":{\"outlinewidth\":0,\"ticks\":\"\"},\"colorscale\":[[0.0,\"#0d0887\"],[0.1111111111111111,\"#46039f\"],[0.2222222222222222,\"#7201a8\"],[0.3333333333333333,\"#9c179e\"],[0.4444444444444444,\"#bd3786\"],[0.5555555555555556,\"#d8576b\"],[0.6666666666666666,\"#ed7953\"],[0.7777777777777778,\"#fb9f3a\"],[0.8888888888888888,\"#fdca26\"],[1.0,\"#f0f921\"]]}],\"mesh3d\":[{\"type\":\"mesh3d\",\"colorbar\":{\"outlinewidth\":0,\"ticks\":\"\"}}],\"scatter\":[{\"fillpattern\":{\"fillmode\":\"overlay\",\"size\":10,\"solidity\":0.2},\"type\":\"scatter\"}],\"parcoords\":[{\"type\":\"parcoords\",\"line\":{\"colorbar\":{\"outlinewidth\":0,\"ticks\":\"\"}}}],\"scatterpolargl\":[{\"type\":\"scatterpolargl\",\"marker\":{\"colorbar\":{\"outlinewidth\":0,\"ticks\":\"\"}}}],\"bar\":[{\"error_x\":{\"color\":\"#2a3f5f\"},\"error_y\":{\"color\":\"#2a3f5f\"},\"marker\":{\"line\":{\"color\":\"#E5ECF6\",\"width\":0.5},\"pattern\":{\"fillmode\":\"overlay\",\"size\":10,\"solidity\":0.2}},\"type\":\"bar\"}],\"scattergeo\":[{\"type\":\"scattergeo\",\"marker\":{\"colorbar\":{\"outlinewidth\":0,\"ticks\":\"\"}}}],\"scatterpolar\":[{\"type\":\"scatterpolar\",\"marker\":{\"colorbar\":{\"outlinewidth\":0,\"ticks\":\"\"}}}],\"histogram\":[{\"marker\":{\"pattern\":{\"fillmode\":\"overlay\",\"size\":10,\"solidity\":0.2}},\"type\":\"histogram\"}],\"scattergl\":[{\"type\":\"scattergl\",\"marker\":{\"colorbar\":{\"outlinewidth\":0,\"ticks\":\"\"}}}],\"scatter3d\":[{\"type\":\"scatter3d\",\"line\":{\"colorbar\":{\"outlinewidth\":0,\"ticks\":\"\"}},\"marker\":{\"colorbar\":{\"outlinewidth\":0,\"ticks\":\"\"}}}],\"scattermapbox\":[{\"type\":\"scattermapbox\",\"marker\":{\"colorbar\":{\"outlinewidth\":0,\"ticks\":\"\"}}}],\"scatterternary\":[{\"type\":\"scatterternary\",\"marker\":{\"colorbar\":{\"outlinewidth\":0,\"ticks\":\"\"}}}],\"scattercarpet\":[{\"type\":\"scattercarpet\",\"marker\":{\"colorbar\":{\"outlinewidth\":0,\"ticks\":\"\"}}}],\"carpet\":[{\"aaxis\":{\"endlinecolor\":\"#2a3f5f\",\"gridcolor\":\"white\",\"linecolor\":\"white\",\"minorgridcolor\":\"white\",\"startlinecolor\":\"#2a3f5f\"},\"baxis\":{\"endlinecolor\":\"#2a3f5f\",\"gridcolor\":\"white\",\"linecolor\":\"white\",\"minorgridcolor\":\"white\",\"startlinecolor\":\"#2a3f5f\"},\"type\":\"carpet\"}],\"table\":[{\"cells\":{\"fill\":{\"color\":\"#EBF0F8\"},\"line\":{\"color\":\"white\"}},\"header\":{\"fill\":{\"color\":\"#C8D4E3\"},\"line\":{\"color\":\"white\"}},\"type\":\"table\"}],\"barpolar\":[{\"marker\":{\"line\":{\"color\":\"#E5ECF6\",\"width\":0.5},\"pattern\":{\"fillmode\":\"overlay\",\"size\":10,\"solidity\":0.2}},\"type\":\"barpolar\"}],\"pie\":[{\"automargin\":true,\"type\":\"pie\"}]},\"layout\":{\"autotypenumbers\":\"strict\",\"colorway\":[\"#636efa\",\"#EF553B\",\"#00cc96\",\"#ab63fa\",\"#FFA15A\",\"#19d3f3\",\"#FF6692\",\"#B6E880\",\"#FF97FF\",\"#FECB52\"],\"font\":{\"color\":\"#2a3f5f\"},\"hovermode\":\"closest\",\"hoverlabel\":{\"align\":\"left\"},\"paper_bgcolor\":\"white\",\"plot_bgcolor\":\"#E5ECF6\",\"polar\":{\"bgcolor\":\"#E5ECF6\",\"angularaxis\":{\"gridcolor\":\"white\",\"linecolor\":\"white\",\"ticks\":\"\"},\"radialaxis\":{\"gridcolor\":\"white\",\"linecolor\":\"white\",\"ticks\":\"\"}},\"ternary\":{\"bgcolor\":\"#E5ECF6\",\"aaxis\":{\"gridcolor\":\"white\",\"linecolor\":\"white\",\"ticks\":\"\"},\"baxis\":{\"gridcolor\":\"white\",\"linecolor\":\"white\",\"ticks\":\"\"},\"caxis\":{\"gridcolor\":\"white\",\"linecolor\":\"white\",\"ticks\":\"\"}},\"coloraxis\":{\"colorbar\":{\"outlinewidth\":0,\"ticks\":\"\"}},\"colorscale\":{\"sequential\":[[0.0,\"#0d0887\"],[0.1111111111111111,\"#46039f\"],[0.2222222222222222,\"#7201a8\"],[0.3333333333333333,\"#9c179e\"],[0.4444444444444444,\"#bd3786\"],[0.5555555555555556,\"#d8576b\"],[0.6666666666666666,\"#ed7953\"],[0.7777777777777778,\"#fb9f3a\"],[0.8888888888888888,\"#fdca26\"],[1.0,\"#f0f921\"]],\"sequentialminus\":[[0.0,\"#0d0887\"],[0.1111111111111111,\"#46039f\"],[0.2222222222222222,\"#7201a8\"],[0.3333333333333333,\"#9c179e\"],[0.4444444444444444,\"#bd3786\"],[0.5555555555555556,\"#d8576b\"],[0.6666666666666666,\"#ed7953\"],[0.7777777777777778,\"#fb9f3a\"],[0.8888888888888888,\"#fdca26\"],[1.0,\"#f0f921\"]],\"diverging\":[[0,\"#8e0152\"],[0.1,\"#c51b7d\"],[0.2,\"#de77ae\"],[0.3,\"#f1b6da\"],[0.4,\"#fde0ef\"],[0.5,\"#f7f7f7\"],[0.6,\"#e6f5d0\"],[0.7,\"#b8e186\"],[0.8,\"#7fbc41\"],[0.9,\"#4d9221\"],[1,\"#276419\"]]},\"xaxis\":{\"gridcolor\":\"white\",\"linecolor\":\"white\",\"ticks\":\"\",\"title\":{\"standoff\":15},\"zerolinecolor\":\"white\",\"automargin\":true,\"zerolinewidth\":2},\"yaxis\":{\"gridcolor\":\"white\",\"linecolor\":\"white\",\"ticks\":\"\",\"title\":{\"standoff\":15},\"zerolinecolor\":\"white\",\"automargin\":true,\"zerolinewidth\":2},\"scene\":{\"xaxis\":{\"backgroundcolor\":\"#E5ECF6\",\"gridcolor\":\"white\",\"linecolor\":\"white\",\"showbackground\":true,\"ticks\":\"\",\"zerolinecolor\":\"white\",\"gridwidth\":2},\"yaxis\":{\"backgroundcolor\":\"#E5ECF6\",\"gridcolor\":\"white\",\"linecolor\":\"white\",\"showbackground\":true,\"ticks\":\"\",\"zerolinecolor\":\"white\",\"gridwidth\":2},\"zaxis\":{\"backgroundcolor\":\"#E5ECF6\",\"gridcolor\":\"white\",\"linecolor\":\"white\",\"showbackground\":true,\"ticks\":\"\",\"zerolinecolor\":\"white\",\"gridwidth\":2}},\"shapedefaults\":{\"line\":{\"color\":\"#2a3f5f\"}},\"annotationdefaults\":{\"arrowcolor\":\"#2a3f5f\",\"arrowhead\":0,\"arrowwidth\":1},\"geo\":{\"bgcolor\":\"white\",\"landcolor\":\"#E5ECF6\",\"subunitcolor\":\"white\",\"showland\":true,\"showlakes\":true,\"lakecolor\":\"white\"},\"title\":{\"x\":0.05},\"mapbox\":{\"style\":\"light\"}}},\"xaxis\":{\"anchor\":\"y\",\"domain\":[0.0,1.0],\"title\":{\"text\":\"Age\"}},\"yaxis\":{\"anchor\":\"x\",\"domain\":[0.0,1.0],\"title\":{\"text\":\"count\"}},\"legend\":{\"tracegroupgap\":0},\"margin\":{\"t\":60},\"barmode\":\"relative\"},                        {\"responsive\": true}                    ).then(function(){\n",
              "                            \n",
              "var gd = document.getElementById('4b48ceaa-89b7-4348-83aa-1f04afe2a310');\n",
              "var x = new MutationObserver(function (mutations, observer) {{\n",
              "        var display = window.getComputedStyle(gd).display;\n",
              "        if (!display || display === 'none') {{\n",
              "            console.log([gd, 'removed!']);\n",
              "            Plotly.purge(gd);\n",
              "            observer.disconnect();\n",
              "        }}\n",
              "}});\n",
              "\n",
              "// Listen for the removal of the full notebook cells\n",
              "var notebookContainer = gd.closest('#notebook-container');\n",
              "if (notebookContainer) {{\n",
              "    x.observe(notebookContainer, {childList: true});\n",
              "}}\n",
              "\n",
              "// Listen for the clearing of the current output cell\n",
              "var outputEl = gd.closest('.output');\n",
              "if (outputEl) {{\n",
              "    x.observe(outputEl, {childList: true});\n",
              "}}\n",
              "\n",
              "                        })                };                            </script>        </div>\n",
              "</body>\n",
              "</html>"
            ]
          },
          "metadata": {}
        }
      ]
    },
    {
      "cell_type": "code",
      "source": [
        "data.hist(figsize=(15,15), xrot=30)"
      ],
      "metadata": {
        "colab": {
          "base_uri": "https://localhost:8080/",
          "height": 1000
        },
        "id": "xfNc00yJvWz0",
        "outputId": "280cf951-eb31-4b8a-939f-c40a72da7f32"
      },
      "execution_count": 17,
      "outputs": [
        {
          "output_type": "execute_result",
          "data": {
            "text/plain": [
              "array([[<Axes: title={'center': 'CreditScore'}>,\n",
              "        <Axes: title={'center': 'Age'}>,\n",
              "        <Axes: title={'center': 'Tenure'}>],\n",
              "       [<Axes: title={'center': 'Balance'}>,\n",
              "        <Axes: title={'center': 'NumOfProducts'}>,\n",
              "        <Axes: title={'center': 'HasCrCard'}>],\n",
              "       [<Axes: title={'center': 'IsActiveMember'}>,\n",
              "        <Axes: title={'center': 'EstimatedSalary'}>,\n",
              "        <Axes: title={'center': 'Exited'}>]], dtype=object)"
            ]
          },
          "metadata": {},
          "execution_count": 17
        },
        {
          "output_type": "display_data",
          "data": {
            "text/plain": [
              "<Figure size 1500x1500 with 9 Axes>"
            ],
            "image/png": "[encoded data removed]"
          },
          "metadata": {}
        }
      ]
    },
    {
      "cell_type": "markdown",
      "source": [
        "Visualizing the number of customers who churned, stayed or joined in the company with a bar plot"
      ],
      "metadata": {
        "id": "2Lk0_J8Fyxlc"
      }
    },
    {
      "cell_type": "code",
      "source": [
        "# Assuming you have a DataFrame named 'data'\n",
        "dataf = data.corr()\n",
        "\n",
        "plt.figure(figsize=(20, 10))\n",
        "sns.heatmap(dataf, annot=True)\n",
        "plt.show()\n"
      ],
      "metadata": {
        "colab": {
          "base_uri": "https://localhost:8080/",
          "height": 697
        },
        "id": "_kbu9adgvyaZ",
        "outputId": "c3ed09b3-a1ea-460c-f7fa-ecdac7c2bd79"
      },
      "execution_count": 18,
      "outputs": [
        {
          "output_type": "stream",
          "name": "stderr",
          "text": [
            "<ipython-input-18-6007081de797>:2: FutureWarning:\n",
            "\n",
            "The default value of numeric_only in DataFrame.corr is deprecated. In a future version, it will default to False. Select only valid columns or specify the value of numeric_only to silence this warning.\n",
            "\n"
          ]
        },
        {
          "output_type": "display_data",
          "data": {
            "text/plain": [
              "<Figure size 2000x1000 with 2 Axes>"
            ],
            "image/png": "[encoded data removed]"
          },
          "metadata": {}
        }
      ]
    },
    {
      "cell_type": "code",
      "source": [
        "fig = px.density_heatmap(data, x='Age', y='Balance')\n",
        "fig.show()"
      ],
      "metadata": {
        "colab": {
          "base_uri": "https://localhost:8080/",
          "height": 542
        },
        "id": "u7qyFNDUxzov",
        "outputId": "61a79878-5efb-412e-97b1-63d68197ec12"
      },
      "execution_count": 19,
      "outputs": [
        {
          "output_type": "display_data",
          "data": {
            "text/html": [
              "<html>\n",
              "<head><meta charset=\"utf-8\" /></head>\n",
              "<body>\n",
              "    <div>            <script src=\"https://cdnjs.cloudflare.com/ajax/libs/mathjax/2.7.5/MathJax.js?config=TeX-AMS-MML_SVG\"></script><script type=\"text/javascript\">if (window.MathJax && window.MathJax.Hub && window.MathJax.Hub.Config) {window.MathJax.Hub.Config({SVG: {font: \"STIX-Web\"}});}</script>                <script type=\"text/javascript\">window.PlotlyConfig = {MathJaxConfig: 'local'};</script>\n",
              "        <script charset=\"utf-8\" src=\"https://cdn.plot.ly/plotly-2.24.1.min.js\"></script>                <div id=\"fca8a201-cc8b-486d-9f85-87eb8ec0e4cb\" class=\"plotly-graph-div\" style=\"height:525px; width:100%;\"></div>            <script type=\"text/javascript\">                                    window.PLOTLYENV=window.PLOTLYENV || {};                                    if (document.getElementById(\"fca8a201-cc8b-486d-9f85-87eb8ec0e4cb\")) {                    Plotly.newPlot(                        \"fca8a201-cc8b-486d-9f85-87eb8ec0e4cb\",                        [{\"coloraxis\":\"coloraxis\",\"hovertemplate\":\"Age=%{x}\\u003cbr\\u003eBalance=%{y}\\u003cbr\\u003ecount=%{z}\\u003cextra\\u003e\\u003c\\u002fextra\\u003e\",\"name\":\"\",\"x\":[42,41,42,39,43,44,50,29,44,27,31,24,34,25,35,45,58,24,45,24,41,32,38,46,38,25,36,44,43,29,39,36,41,42,29,45,31,33,36,41,40,51,61,49,61,32,27,39,38,37,44,36,33,41,42,43,45,19,66,51,35,27,33,56,26,36,34,43,35,21,58,29,37,25,36,21,55,32,33,41,34,32,36,34,46,75,22,30,46,28,44,45,36,29,42,35,41,29,22,34,40,44,31,36,65,46,32,36,33,35,30,39,42,36,28,30,37,41,31,34,34,39,39,48,28,42,52,56,41,24,34,33,38,25,39,50,34,40,48,35,44,34,43,52,31,21,29,37,44,32,32,48,42,37,43,57,33,28,73,33,22,30,49,36,29,31,24,41,39,24,29,27,44,30,40,35,30,36,40,55,45,65,45,42,50,32,39,37,30,34,41,36,40,32,29,35,32,37,57,35,30,42,50,38,33,37,41,34,45,45,33,31,41,34,26,47,46,33,43,54,31,30,42,33,45,37,30,39,50,29,72,40,37,20,67,42,29,43,46,28,38,39,37,67,34,40,26,26,24,54,36,34,79,37,28,41,34,34,30,38,42,48,32,26,31,36,34,36,39,35,41,34,34,30,28,37,62,53,35,46,39,29,35,42,22,40,29,32,26,34,42,41,27,34,38,25,31,44,58,33,31,36,35,33,33,31,43,35,50,31,80,30,38,59,36,37,49,42,22,24,57,30,40,31,30,35,35,46,35,26,50,40,44,30,37,29,32,33,39,39,40,31,47,22,25,43,34,59,32,39,32,39,32,25,45,30,57,34,41,58,28,45,50,29,68,33,42,35,34,29,42,75,31,31,35,39,45,35,30,39,50,36,30,28,44,66,46,62,45,21,29,38,46,38,24,37,33,32,39,66,52,38,52,36,23,36,49,37,37,41,23,38,31,41,35,26,61,39,46,28,60,38,40,35,39,26,39,45,40,40,57,41,33,37,33,51,30,35,38,42,35,31,34,46,47,26,37,40,38,47,38,40,31,44,39,36,33,38,43,37,29,39,25,32,26,33,32,38,35,35,27,37,26,28,33,46,31,40,38,29,34,23,37,37,61,35,37,39,30,55,29,41,38,47,38,36,32,40,26,58,32,54,60,44,41,31,30,40,22,37,31,38,34,34,51,38,56,37,48,58,35,56,37,32,48,31,43,26,48,30,57,26,32,35,40,59,35,34,62,28,37,26,42,51,49,44,38,30,49,24,36,47,25,34,33,51,40,41,53,70,29,61,36,46,38,36,54,63,31,31,44,45,35,49,40,27,32,30,41,39,36,33,57,30,51,51,53,44,36,47,38,38,34,32,26,41,43,39,57,34,43,26,72,30,37,29,53,28,35,51,30,27,64,38,26,31,39,62,42,37,35,40,53,36,48,35,29,49,47,28,61,54,33,44,31,51,33,48,43,36,48,29,27,39,39,34,30,38,36,38,49,52,42,48,31,25,25,54,64,30,41,57,31,46,41,33,31,29,46,42,48,42,26,32,35,39,38,45,70,38,55,58,41,40,24,42,31,45,51,36,27,43,36,34,45,57,62,57,36,33,32,30,49,36,36,40,35,42,35,34,48,35,38,41,25,34,37,42,45,43,56,42,23,38,36,42,37,25,40,57,24,25,31,43,60,47,67,36,46,28,24,24,29,49,60,40,18,46,38,46,41,47,35,37,39,31,36,28,37,58,43,35,36,21,43,27,82,60,41,63,36,31,32,36,49,33,58,28,28,35,27,28,41,35,58,36,26,42,35,48,36,49,48,34,29,36,46,32,35,42,52,44,31,29,39,46,33,69,53,37,35,65,33,28,26,25,29,42,27,43,36,36,34,69,36,33,47,56,31,39,34,41,29,37,30,34,37,56,48,36,50,31,35,41,44,49,21,42,51,25,46,48,41,43,57,32,49,39,32,64,43,32,41,53,38,25,38,48,44,36,40,45,35,28,38,39,32,42,33,45,60,43,36,45,65,25,38,42,74,43,37,32,42,51,35,32,35,40,40,25,40,36,48,28,58,45,33,46,31,25,36,53,32,27,35,47,39,45,35,45,44,61,51,19,34,36,35,38,61,24,39,41,42,36,37,38,52,44,37,37,35,31,46,29,36,25,39,38,67,48,48,33,66,39,42,44,43,67,27,37,31,35,32,63,43,42,34,34,37,70,48,25,43,38,34,36,43,38,48,46,27,44,32,35,25,31,36,34,31,49,37,35,42,28,43,29,44,62,28,38,42,43,39,42,26,52,33,42,45,71,40,35,29,24,43,37,40,41,45,31,49,32,48,32,25,32,33,35,34,53,39,22,40,29,46,30,30,24,30,72,67,30,39,35,38,34,42,48,25,40,30,49,38,50,22,74,33,47,33,38,48,38,38,34,20,36,52,26,57,40,47,52,23,37,31,32,39,29,41,32,38,35,36,32,24,42,36,31,22,51,34,36,41,40,34,29,39,36,26,38,39,29,38,32,28,46,38,34,38,31,52,59,42,21,62,48,42,47,61,29,31,24,56,33,35,58,33,45,32,35,34,37,37,34,27,31,22,42,42,57,37,40,41,43,43,28,30,29,34,38,27,29,45,45,39,34,49,54,58,37,35,41,30,32,36,49,28,35,27,38,26,40,43,36,40,39,34,21,49,31,34,24,43,36,47,37,35,50,30,40,29,27,61,28,24,43,28,34,38,41,30,46,22,35,40,76,32,30,47,32,51,32,42,22,33,54,33,29,23,44,33,37,46,47,47,53,42,28,38,31,36,30,46,39,66,63,33,42,24,28,36,21,30,25,38,44,66,24,28,26,32,40,68,55,46,46,42,38,33,36,27,38,40,42,31,55,36,38,44,38,30,42,39,33,32,32,37,42,67,39,25,46,35,45,59,63,37,39,39,40,31,37,41,30,30,33,55,34,30,42,37,34,31,32,31,52,46,49,33,30,27,37,38,38,54,27,31,37,43,41,47,40,44,50,26,46,38,20,62,40,46,37,38,38,28,43,38,30,52,46,43,41,71,42,40,26,30,37,32,43,41,54,48,29,52,39,49,43,43,37,22,32,41,30,39,43,37,44,31,50,26,43,38,46,44,27,41,44,35,32,26,41,42,23,46,35,42,66,40,55,27,38,45,32,29,46,33,46,38,29,27,43,29,27,41,44,23,69,32,40,73,30,29,30,30,28,33,24,40,44,45,32,41,30,42,42,39,59,57,26,29,48,44,62,41,44,28,31,56,65,39,44,43,43,38,24,33,56,46,26,31,38,35,53,34,35,28,66,25,55,23,34,41,37,40,32,29,35,52,49,31,48,26,36,30,26,26,37,45,32,30,38,26,36,29,46,39,51,30,39,31,43,50,30,52,57,38,35,25,28,50,31,39,47,32,48,27,43,36,37,33,37,39,42,38,39,37,54,36,64,52,29,35,41,51,41,34,35,32,23,26,28,32,37,47,33,34,28,36,38,23,37,33,69,43,42,48,30,25,48,54,52,34,38,34,40,29,37,35,42,43,42,31,40,42,38,37,53,40,42,49,23,44,35,23,23,40,21,28,41,35,34,38,43,42,33,33,37,61,36,39,39,29,36,28,38,27,32,48,42,28,49,42,36,31,31,40,64,39,35,24,49,52,29,77,21,49,40,27,18,43,38,25,38,25,44,28,32,30,46,57,54,30,35,23,33,37,31,39,32,47,53,62,34,37,41,50,45,40,41,34,31,59,56,32,47,31,54,44,31,37,32,40,40,52,42,46,46,24,37,24,41,37,26,42,33,44,40,18,42,39,32,41,52,24,20,36,37,41,35,36,31,23,34,37,34,44,30,51,31,30,50,22,42,29,35,38,40,49,30,28,30,47,44,45,43,33,35,32,57,33,39,30,42,29,37,38,36,40,33,20,44,49,32,21,30,29,39,41,23,42,25,54,40,39,30,59,34,34,42,33,29,41,23,33,52,37,39,30,35,38,36,34,38,40,43,34,48,28,39,36,37,27,34,28,38,38,34,41,36,33,36,35,38,36,40,37,25,43,37,74,35,41,36,38,35,37,44,51,39,59,30,24,26,33,31,38,49,41,50,65,26,33,38,31,32,29,36,32,45,23,35,31,57,37,45,25,22,31,45,37,36,22,32,46,38,31,56,39,54,34,34,35,36,48,36,30,37,35,29,33,52,38,41,36,47,29,29,61,34,28,38,44,25,45,32,70,33,36,33,33,36,50,39,35,31,39,55,35,31,36,36,30,24,35,32,39,34,60,23,33,37,31,34,49,29,38,37,45,30,33,67,33,36,69,20,29,67,48,32,42,41,29,30,31,25,48,40,28,56,31,35,36,36,44,24,31,36,54,40,23,26,56,74,30,39,33,30,38,37,31,44,45,39,39,22,34,52,35,43,37,53,27,21,51,58,55,54,42,33,36,24,52,34,40,33,48,25,39,36,41,26,30,41,33,35,38,35,37,33,30,69,28,40,45,47,41,54,46,28,41,36,29,60,49,44,62,34,43,43,58,27,74,41,29,32,39,43,43,46,48,32,74,35,32,40,28,37,27,30,30,18,24,41,39,45,23,59,39,33,28,51,37,41,34,44,34,24,47,64,38,39,27,34,45,31,34,37,35,45,49,37,26,63,41,38,38,32,47,50,38,38,29,35,44,33,37,31,31,28,42,36,36,48,44,45,40,34,63,45,55,32,39,24,36,28,32,52,41,33,39,37,38,55,70,40,38,37,43,57,40,49,33,61,42,31,55,42,74,41,48,25,28,35,33,54,44,31,27,29,54,30,32,25,32,45,40,34,37,34,45,38,43,32,44,57,18,38,45,51,41,18,35,38,34,33,49,33,26,57,38,57,55,36,65,35,42,44,40,72,28,32,34,35,77,33,40,33,56,43,40,58,35,46,26,34,35,24,43,40,42,46,38,38,40,40,37,34,32,35,59,47,33,37,34,58,47,35,48,29,37,35,28,30,31,38,34,33,46,33,34,40,37,41,26,36,47,35,31,34,49,35,43,34,55,38,46,58,37,44,30,35,36,38,38,56,41,30,28,31,33,42,30,38,66,58,39,41,37,35,20,25,33,41,36,43,33,35,36,41,55,61,43,49,29,35,37,39,56,33,38,25,57,27,65,48,59,43,33,34,36,40,37,45,39,50,44,26,30,48,50,27,27,45,33,40,47,40,61,25,45,61,49,45,35,29,34,57,33,46,32,19,55,40,28,37,50,36,33,37,38,45,41,51,29,29,35,30,29,35,39,28,29,36,37,48,33,35,37,26,41,25,44,38,49,38,46,55,45,42,58,35,45,26,35,42,37,38,43,32,41,43,45,33,31,32,34,39,48,54,35,22,43,31,29,39,31,50,38,26,34,41,30,42,40,27,46,39,34,35,32,31,51,28,43,52,27,34,42,51,34,30,31,26,37,35,32,43,55,37,33,31,38,25,52,32,46,33,40,57,46,25,29,29,31,39,41,49,40,31,41,22,39,74,52,42,37,41,61,42,59,29,34,57,29,34,51,26,28,46,46,24,29,59,51,47,25,38,88,63,41,40,53,32,40,32,32,27,38,36,31,49,38,57,37,32,38,41,41,40,37,57,40,37,39,38,36,32,21,28,35,26,31,23,46,56,45,20,37,37,38,38,32,32,45,37,44,33,46,50,52,34,51,39,26,40,36,36,50,62,61,25,35,24,52,34,29,42,26,29,45,47,60,61,35,40,58,33,38,46,45,61,41,24,34,43,50,59,50,36,42,53,46,71,30,38,41,26,30,40,30,34,58,27,38,50,29,42,47,40,31,44,58,40,51,54,36,29,32,30,38,31,46,31,40,28,50,33,32,44,22,38,40,53,47,29,28,40,48,62,24,41,28,34,25,34,32,31,32,46,38,42,34,26,58,63,35,45,30,49,35,36,27,28,29,29,29,25,48,42,36,35,48,41,42,27,30,29,43,40,31,28,22,27,27,23,39,51,21,37,33,40,38,26,44,53,34,29,40,62,44,28,44,32,29,30,37,35,52,19,64,35,34,50,25,38,43,38,38,35,39,36,27,23,28,60,42,44,32,38,42,37,31,34,29,39,40,48,28,29,31,31,30,46,27,34,22,38,21,37,37,28,32,67,55,38,45,70,39,42,56,44,32,41,38,58,37,57,46,23,30,33,48,32,37,30,36,31,41,45,34,38,41,22,38,52,36,35,48,25,57,42,31,28,42,31,29,45,36,37,68,50,28,47,38,36,30,27,26,38,32,28,72,29,28,51,39,61,71,38,40,61,24,33,37,43,40,46,39,44,39,66,45,23,52,25,39,27,28,43,51,29,53,43,44,51,38,33,42,32,30,34,28,52,40,37,25,30,37,34,31,33,34,59,32,40,43,36,33,43,53,32,20,40,30,35,60,49,36,32,40,38,48,38,35,45,39,38,41,41,39,48,40,53,33,75,45,51,25,32,45,25,33,43,37,21,26,27,36,22,55,38,52,36,32,33,35,67,36,52,37,35,37,38,29,42,37,26,37,31,34,30,44,50,31,47,33,29,52,35,26,73,33,47,35,32,41,22,69,38,33,52,32,40,28,52,56,57,38,42,33,46,34,41,29,76,63,32,39,32,42,37,54,46,33,35,44,28,27,39,28,26,42,41,32,20,42,36,29,39,37,31,51,43,33,46,30,41,29,25,29,31,38,51,46,36,45,39,36,34,45,30,42,56,59,37,39,45,35,40,41,39,43,35,35,30,42,26,47,45,19,49,51,59,39,29,45,26,47,33,40,43,32,55,47,39,45,33,62,31,47,30,41,27,43,43,32,29,27,29,38,36,27,39,41,39,40,42,48,39,20,22,45,85,36,45,43,21,47,26,38,34,29,38,29,27,31,48,37,32,44,53,35,34,67,44,58,33,58,33,43,33,40,32,35,42,28,31,31,43,32,32,30,32,44,35,43,33,36,34,28,29,44,40,30,54,22,36,25,40,43,37,31,41,25,19,59,30,24,60,35,32,29,47,31,28,45,30,28,47,74,42,40,32,40,21,39,43,33,51,23,27,29,30,39,26,43,33,34,37,56,39,39,27,34,37,44,48,60,40,30,24,76,41,55,48,28,44,39,34,35,39,40,29,51,32,41,34,31,23,28,34,34,37,38,39,62,48,49,40,35,56,32,27,43,35,29,27,39,34,60,37,43,43,55,45,36,45,32,42,28,32,66,49,26,29,36,36,23,46,24,20,33,69,50,42,60,56,36,26,53,27,35,46,33,32,31,56,36,37,30,24,30,39,41,32,35,26,29,66,33,36,34,36,47,34,32,38,54,19,50,31,36,24,32,45,57,25,35,37,58,43,31,38,50,29,38,58,36,31,33,51,48,43,35,33,30,40,54,33,33,32,59,43,31,25,54,41,44,37,57,32,39,48,48,43,31,37,30,23,30,28,41,39,39,19,26,41,25,34,28,34,35,44,35,62,40,38,62,28,50,72,31,54,63,25,53,71,40,35,24,30,41,31,47,32,50,40,38,43,18,34,31,41,27,31,36,56,24,28,29,29,53,37,33,31,63,45,40,45,35,34,40,31,36,24,41,29,33,60,38,48,33,38,47,34,74,40,67,33,47,43,37,37,55,58,40,37,72,45,26,49,72,39,66,41,41,84,25,55,32,46,33,30,29,22,71,33,41,31,31,33,26,62,23,60,29,40,40,46,36,37,26,39,37,40,38,42,42,26,31,39,35,32,42,43,49,41,35,43,37,36,26,37,66,34,41,32,30,36,47,36,30,46,43,28,37,32,31,49,40,21,57,40,24,29,33,36,37,40,39,35,62,43,37,43,28,42,49,26,36,27,40,42,33,31,30,40,28,46,30,34,37,39,28,33,25,31,35,43,29,35,45,47,37,46,27,63,41,74,32,30,46,35,37,45,45,36,34,37,35,42,18,33,32,37,34,18,39,41,43,49,38,35,35,31,30,69,28,24,42,84,37,42,44,37,29,59,43,42,43,67,34,49,33,32,43,35,37,61,51,31,39,40,36,36,60,34,41,64,44,31,34,61,51,30,25,31,20,50,46,36,31,68,32,66,28,23,39,31,41,33,35,43,28,28,55,41,40,51,37,29,56,62,37,32,36,40,37,41,57,50,77,47,33,34,26,37,36,40,56,21,37,25,36,46,60,29,46,33,41,36,55,27,33,31,37,39,35,48,46,19,26,47,23,37,31,52,27,48,39,62,42,45,32,55,70,67,47,41,38,79,34,46,33,35,37,30,43,42,27,35,28,31,37,42,21,33,44,29,28,52,43,24,32,32,31,33,30,25,22,40,44,52,35,39,18,32,35,45,67,76,35,60,33,40,39,48,21,37,22,46,73,40,34,35,44,42,34,49,30,34,39,22,34,46,27,39,30,62,40,41,25,42,51,31,29,27,66,29,38,51,46,67,40,32,37,27,44,32,45,29,39,32,37,37,35,32,39,33,39,29,36,23,35,29,31,45,38,40,38,64,40,37,49,27,36,29,34,47,27,34,34,35,61,22,33,31,59,37,46,27,44,26,31,45,41,27,28,45,54,38,36,58,32,22,26,51,43,35,28,31,44,51,40,34,38,30,41,35,30,42,40,73,30,33,31,29,44,46,39,56,39,31,44,44,76,57,55,36,29,46,35,38,39,39,49,23,50,40,58,60,28,38,38,34,48,37,41,32,34,26,36,43,33,32,32,45,45,42,34,37,36,28,40,40,29,39,34,31,40,21,39,37,25,37,31,45,32,33,72,64,22,39,31,56,34,46,71,39,33,28,45,42,37,25,21,41,59,36,36,30,40,45,55,29,44,46,37,63,70,35,46,53,44,43,36,50,29,39,43,59,39,41,40,44,29,65,29,36,52,35,23,37,46,45,32,26,41,25,66,32,20,46,31,40,31,61,58,43,28,47,34,33,34,39,60,38,43,49,47,29,33,31,37,23,35,32,40,27,30,40,22,38,27,49,22,21,37,40,65,24,46,44,38,24,38,37,32,30,32,59,38,40,80,33,30,39,60,19,38,53,29,26,41,59,37,43,45,39,66,33,46,57,51,32,40,46,32,31,42,48,44,38,20,63,56,39,41,27,42,37,38,48,42,38,42,52,31,27,37,36,38,31,32,36,37,21,63,33,41,63,41,51,56,60,28,26,39,37,29,31,45,58,39,30,44,32,23,34,48,54,38,30,35,43,50,33,47,31,37,33,29,45,39,34,31,60,40,47,37,39,40,48,29,62,34,26,32,34,37,57,33,41,55,28,34,40,39,28,40,40,30,33,54,23,31,37,28,36,21,42,60,38,26,49,32,52,37,48,39,47,28,33,43,29,44,51,32,40,33,39,63,45,44,33,24,66,32,39,33,44,31,53,34,41,43,62,38,29,37,43,74,35,34,60,45,34,37,42,69,27,35,29,51,43,39,32,32,33,36,26,52,26,59,35,29,32,47,32,31,36,60,45,54,47,57,58,35,39,43,46,30,52,27,38,47,37,44,55,28,47,25,34,26,53,56,35,19,25,45,23,40,51,47,36,36,36,37,34,41,36,47,32,42,29,35,29,39,39,45,63,50,26,64,34,30,54,26,44,38,35,33,29,27,29,76,29,35,37,40,46,41,24,56,32,35,41,46,44,57,33,34,75,42,32,32,51,30,33,62,41,53,35,42,40,42,53,31,37,23,32,46,44,42,34,40,68,38,30,28,32,44,56,50,31,40,46,40,35,38,52,41,69,34,30,44,28,77,34,36,34,31,43,34,45,27,30,55,60,19,21,31,34,57,64,38,38,25,43,44,35,30,54,26,46,41,24,44,45,36,43,26,31,45,39,42,36,48,44,66,48,22,35,27,40,74,50,33,22,39,35,31,45,41,41,34,37,71,29,59,39,39,42,37,35,42,67,39,30,40,38,51,38,24,20,68,39,39,45,34,38,46,43,43,35,27,31,34,41,42,42,40,39,27,24,42,27,47,32,35,31,28,40,47,28,44,23,35,38,59,42,33,26,46,64,26,24,68,21,32,38,38,32,31,29,37,50,40,36,59,34,49,33,36,31,40,47,37,23,35,28,32,70,41,30,35,31,39,33,53,56,23,29,36,40,33,52,31,47,45,30,42,38,37,34,35,31,44,35,64,61,32,32,31,32,42,47,30,44,32,75,45,33,37,30,66,28,41,35,43,45,51,41,38,30,32,39,29,38,46,27,39,52,38,43,34,38,31,44,43,37,38,39,41,37,55,31,33,37,32,36,28,42,39,36,37,37,58,59,39,46,25,30,39,35,18,37,34,62,36,31,36,64,23,46,40,27,32,33,43,20,30,24,32,29,40,39,38,52,32,47,37,38,39,30,25,34,41,35,78,32,36,44,31,65,38,46,46,38,34,30,35,23,25,34,55,51,42,34,38,48,49,46,34,44,37,24,42,47,33,43,48,24,46,45,32,39,32,49,38,30,43,48,45,33,31,30,50,27,44,34,25,60,74,34,26,28,57,31,33,25,39,51,31,39,38,48,28,50,41,43,58,35,23,35,39,54,31,50,41,45,23,33,41,38,42,48,61,35,48,44,24,38,43,42,53,48,33,45,24,37,30,32,45,37,41,48,62,56,35,27,33,44,35,22,43,27,44,31,40,39,54,35,23,38,18,38,26,35,33,44,32,42,49,43,50,19,40,42,38,35,53,31,54,43,32,36,40,32,30,45,59,57,51,49,32,64,37,29,35,64,54,40,59,37,39,36,48,34,40,32,34,38,36,49,38,39,31,31,19,36,44,35,35,35,37,33,45,40,36,53,53,37,53,22,34,42,44,41,34,35,19,41,39,29,35,32,41,52,39,71,39,41,34,41,33,28,33,37,38,26,31,39,39,77,29,28,36,26,32,33,32,32,35,31,24,52,42,34,30,35,79,32,35,34,26,28,40,53,35,44,56,29,36,36,36,23,42,70,27,48,35,41,23,33,44,27,41,22,36,22,55,33,54,29,37,34,37,50,43,40,32,37,43,33,27,44,29,44,33,31,36,43,49,41,53,37,49,41,34,34,51,29,32,31,41,40,40,32,41,59,30,42,44,30,33,34,48,29,36,37,60,51,47,45,39,32,36,50,33,33,26,34,36,58,36,40,39,34,30,81,29,31,54,43,24,36,34,37,38,43,36,43,53,31,47,62,39,36,45,20,58,34,42,33,33,39,37,46,42,45,42,40,41,36,64,40,41,35,38,30,41,24,55,39,25,35,35,45,38,23,30,30,31,26,36,35,47,40,33,33,62,44,52,36,44,43,40,38,68,35,43,36,57,48,37,46,36,33,49,47,40,40,35,50,29,34,51,53,68,29,45,40,44,37,44,37,38,38,33,34,46,61,29,34,59,38,63,38,50,29,33,44,30,29,25,26,42,38,32,36,38,28,36,31,23,46,37,29,35,42,41,41,47,27,26,45,79,29,42,35,29,34,38,25,37,34,35,37,29,31,41,38,49,49,50,43,42,45,30,43,39,55,37,46,29,20,29,45,26,58,20,58,44,51,32,37,55,28,33,26,28,47,60,49,38,31,40,37,26,35,27,29,46,54,54,38,38,42,38,40,66,37,55,40,64,51,34,47,29,32,48,31,25,38,32,38,70,49,37,35,36,29,42,42,33,50,55,69,44,46,31,36,36,33,43,29,30,31,31,39,37,38,34,29,28,27,22,34,43,35,31,38,28,39,32,30,30,41,36,58,39,29,27,38,22,71,40,27,42,36,22,30,33,28,38,37,38,38,35,22,55,29,57,24,43,28,20,38,37,29,22,72,43,66,39,23,29,35,40,38,46,49,41,68,29,26,30,44,24,41,40,37,43,38,32,59,39,44,24,39,44,27,20,63,48,31,38,52,35,26,30,41,44,27,31,26,28,34,33,40,47,32,43,42,29,40,31,40,28,31,32,23,51,53,41,38,30,19,56,32,28,41,32,29,44,51,36,71,33,39,39,25,42,27,51,49,31,36,42,40,48,72,45,36,40,37,31,25,36,25,40,32,31,43,59,25,27,41,29,46,29,33,24,39,55,57,34,55,42,51,47,47,25,34,31,32,41,32,57,41,23,35,31,29,47,31,39,42,35,46,37,51,33,39,42,41,62,52,41,33,39,30,23,38,38,72,27,21,36,32,40,28,28,36,48,22,54,32,38,27,44,32,44,48,42,40,44,35,30,47,37,22,37,64,47,37,54,28,28,40,48,42,40,28,50,32,35,56,28,39,31,35,44,44,36,36,35,48,24,25,51,37,32,33,34,30,34,61,43,29,43,28,33,36,28,50,44,46,33,43,45,25,39,45,34,62,35,36,41,31,29,36,36,41,32,33,45,21,25,39,42,38,34,42,47,34,44,35,34,44,46,28,45,38,41,35,35,33,78,36,35,31,48,35,42,36,35,27,47,31,40,24,32,53,34,40,75,33,48,32,37,33,65,28,37,33,39,43,61,37,37,35,53,51,49,38,32,34,34,31,33,44,29,32,45,41,28,39,43,51,35,38,42,33,32,38,38,33,44,26,41,31,38,39,40,39,34,36,35,56,42,46,39,35,42,28,38,36,35,38,34,29,36,40,65,62,50,22,30,67,38,31,31,38,25,37,35,37,25,38,19,50,40,33,35,42,57,50,37,44,50,39,49,58,52,41,27,40,28,42,31,32,46,29,26,43,38,41,31,44,38,42,45,60,35,29,44,28,37,40,44,28,38,27,33,29,38,61,24,42,41,36,37,42,35,19,35,29,36,61,29,41,43,63,27,30,41,52,68,26,40,38,71,33,60,34,42,33,32,73,29,34,28,26,26,32,33,33,30,39,29,61,25,47,46,37,23,50,39,44,30,32,31,46,41,39,64,35,41,49,36,42,45,40,48,25,60,39,34,35,35,47,39,31,37,37,37,27,46,49,34,26,40,33,46,38,41,43,29,45,40,22,54,44,31,35,38,30,34,42,61,38,43,32,41,34,45,29,37,40,36,41,45,50,28,32,44,37,23,31,39,32,34,30,40,45,36,29,51,44,35,36,31,49,39,66,36,40,42,36,33,71,29,48,40,26,42,55,27,42,38,32,57,39,45,37,54,45,30,50,35,38,35,38,47,33,60,32,42,38,41,30,40,41,43,69,34,29,37,47,35,51,36,62,29,35,37,32,37,27,26,49,32,37,29,35,51,40,71,49,38,21,29,33,29,45,33,51,22,33,22,40,34,46,31,56,30,38,37,48,40,40,32,39,53,62,46,31,43,33,21,40,19,33,39,26,36,41,28,31,55,38,38,29,40,33,54,31,38,34,35,48,39,37,30,23,34,27,27,42,40,29,45,30,32,66,46,33,39,33,38,42,27,47,39,31,28,49,36,54,44,48,39,39,53,43,36,32,30,46,47,41,34,37,22,31,38,30,41,33,53,55,43,40,32,45,35,44,57,41,29,31,33,39,38,76,40,33,48,32,42,40,35,30,43,37,28,29,35,37,49,37,45,44,38,40,41,24,31,37,37,28,41,33,35,25,35,53,32,27,32,45,35,59,62,20,28,31,37,30,41,19,22,24,31,28,24,33,38,45,26,37,48,59,38,34,30,35,35,52,35,33,27,46,41,44,50,44,33,40,39,36,37,34,27,32,27,26,46,45,29,31,46,37,69,40,36,41,44,45,52,42,47,23,25,31,56,44,39,47,32,31,23,37,45,34,41,52,35,52,45,36,45,42,24,37,41,31,42,52,40,38,31,45,37,27,30,27,26,33,43,38,31,37,41,47,57,52,30,32,36,28,50,34,28,35,41,26,31,23,34,36,44,40,73,37,49,33,40,48,44,33,32,34,29,33,35,43,35,60,34,33,25,37,33,51,47,37,31,24,38,24,46,22,33,31,30,34,41,31,64,31,39,26,33,29,31,26,21,38,34,28,58,41,64,75,26,29,32,61,43,73,26,31,38,37,40,34,37,39,37,53,48,36,37,36,47,39,43,27,43,28,56,41,29,54,31,33,31,41,49,49,33,29,51,33,34,40,30,40,62,36,35,41,47,31,43,37,33,45,31,32,39,32,46,34,42,36,71,48,47,34,37,36,38,28,26,47,27,33,52,33,20,39,40,46,47,48,42,37,32,34,37,55,37,36,27,28,32,35,44,37,44,37,33,48,45,36,24,49,46,43,52,33,54,34,72,55,26,31,22,37,33,35,41,32,40,63,27,24,33,27,42,50,34,34,52,24,41,45,42,49,38,33,33,27,52,25,43,29,28,27,41,67,37,29,57,19,32,47,50,34,28,59,31,36,41,34,39,35,35,34,35,35,35,43,39,24,37,40,37,55,41,35,50,35,31,25,48,27,38,35,42,41,43,68,32,45,39,25,34,40,28,48,73,41,52,38,35,34,47,67,38,64,46,33,37,37,35,33,24,36,31,32,40,43,44,30,37,38,28,41,41,36,44,33,26,48,30,46,36,55,49,41,33,30,44,33,63,21,53,20,21,42,26,37,27,44,47,23,47,41,43,39,45,37,39,38,40,39,33,53,45,26,33,37,44,37,47,45,33,92,37,30,34,31,37,45,28,29,43,44,35,29,31,51,36,45,29,36,57,30,33,26,32,31,35,23,41,40,34,22,37,41,40,34,35,49,24,39,32,41,44,26,40,31,44,31,34,30,35,35,28,39,44,50,27,32,43,30,40,37,32,48,56,32,42,40,46,50,24,41,26,65,32,51,49,50,41,35,42,31,35,34,34,38,27,37,75,45,67,47,27,36,37,39,34,45,33,35,35,29,45,27,20,30,38,32,39,30,34,50,31,35,51,40,38,38,32,48,44,25,47,33,30,54,54,38,38,46,21,35,38,55,37,38,28,36,30,71,60,21,23,39,33,33,28,45,30,33,33,30,40,24,22,32,29,49,36,51,38,35,47,33,31,41,40,41,54,27,64,28,34,26,33,54,29,32,36,50,43,28,46,41,66,41,57,39,36,44,31,42,42,59,24,36,36,41,36,33,37,34,33,37,42,37,26,47,41,46,38,23,30,44,35,33,31,39,29,36,36,31,42,32,32,26,34,56,43,49,35,36,36,36,52,26,32,30,60,31,29,48,57,34,50,38,22,41,30,24,39,27,37,33,48,41,31,41,39,37,37,49,45,33,64,39,34,66,39,36,43,46,36,67,29,58,34,39,26,77,29,51,41,40,50,36,33,50,46,32,37,28,55,37,57,38,35,55,40,44,26,51,30,55,39,34,31,24,42,53,38,38,28,38,39,36,28,92,41,27,37,67,37,40,33,48,42,44,38,29,39,43,48,48,43,27,50,38,37,42,55,31,32,41,30,37,37,46,40,39,34,50,54,48,25,46,60,38,35,43,32,44,30,35,35,36,30,26,42,42,63,44,25,36,50,56,41,39,29,39,47,24,38,44,51,49,34,43,43,52,21,34,50,33,42,40,29,36,30,26,36,33,33,24,40,30,33,44,42,39,37,43,36,41,34,52,46,38,45,41,33,24,48,26,32,32,39,30,36,48,27,37,28,57,42,37,35,25,23,29,32,30,35,27,45,19,31,25,39,48,56,50,26,49,42,48,41,66,41,31,44,41,29,35,46,34,38,43,40,54,48,36,40,31,24,41,24,33,38,39,60,34,43,29,34,37,48,39,30,37,42,46,39,33,31,50,33,43,46,25,42,40,36,31,36,31,33,37,38,42,37,35,38,35,49,44,33,46,39,33,26,39,55,30,22,26,50,38,66,44,52,39,44,38,39,42,47,40,34,39,50,35,44,32,48,60,44,36,41,29,39,35,24,32,50,68,47,27,28,48,32,44,50,43,33,38,65,28,35,25,44,34,35,30,50,25,50,36,28,28,54,29,45,51,27,37,26,53,33,48,41,45,53,56,37,46,31,60,48,38,44,34,26,36,20,31,57,39,29,43,32,43,38,33,31,72,71,35,32,35,41,76,39,53,42,24,54,46,39,63,37,40,36,34,25,24,67,30,51,36,36,32,56,38,38,35,54,48,47,53,40,41,67,38,38,50,51,37,24,44,39,42,41,45,40,45,37,39,28,39,35,24,39,42,49,31,32,31,23,34,46,38,34,32,26,44,38,33,33,35,48,30,41,57,49,28,66,67,39,38,63,54,55,30,41,36,30,37,32,34,46,36,33,45,65,32,55,59,23,36,34,46,34,28,40,29,33,34,36,30,33,30,50,38,39,28,38,42,30,42,49,36,23,44,44,38,34,40,52,42,44,34,70,33,35,42,33,32,28,30,72,33,39,29,47,30,25,47,28,37,25,55,36,32,41,41,36,54,40,41,39,31,34,35,46,24,47,29,37,40,30,38,35,35,34,43,62,45,32,37,44,77,33,36,37,40,57,25,28,31,40,55,36,32,31,47,58,32,41,53,40,46,33,38,60,31,27,34,51,42,74,38,34,42,35,32,33,37,55,59,44,31,35,29,43,32,30,35,39,33,34,34,31,31,37,43,28,51,45,33,72,43,58,28,38,28,53,22,41,37,43,36,36,33,54,59,32,37,31,36,32,24,39,34,49,42,56,34,34,59,42,43,18,41,28,34,54,42,39,54,30,34,28,49,27,42,25,42,25,34,38,21,30,35,37,29,49,36,54,36,73,40,34,36,35,42,36,26,37,30,34,37,38,77,23,40,34,36,41,25,28,39,41,38,37,44,29,34,20,31,67,28,22,45,56,47,40,37,35,39,33,56,39,34,58,22,35,42,34,23,36,31,45,29,36,37,36,40,38,36,29,36,38,33,48,33,32,43,35,38,31,37,35,50,57,29,32,27,47,54,36,24,29,45,35,30,36,37,39,20,44,35,46,33,20,43,43,29,30,32,40,36,37,30,30,37,26,35,47,55,36,32,50,31,44,56,22,35,40,34,43,44,35,32,49,56,42,26,35,40,28,37,36,27,49,27,36,71,47,58,32,44,32,27,44,44,54,37,36,38,50,29,64,35,40,58,30,42,26,43,41,72,40,35,81,35,46,33,52,40,33,51,32,36,42,38,28,42,37,28,34,43,34,26,42,29,62,44,38,37,76,35,30,41,49,34,36,30,51,41,33,53,38,52,36,44,54,28,32,52,37,37,33,49,27,43,39,40,34,42,33,26,39,40,42,38,33,35,42,30,44,28,33,50,40,29,60,45,30,31,29,28,60,39,31,41,31,46,36,38,28,37,37,37,27,33,40,32,27,39,46,61,69,19,46,40,28,68,42,40,43,47,38,29,59,32,23,46,34,31,40,32,28,39,32,25,31,31,42,45,24,30,38,38,51,40,53,31,36,44,50,39,35,37,25,29,61,38,29,39,30,37,28,37,33,36,31,32,25,33,29,26,41,40,48,61,45,46,31,38,74,46,64,47,39,41,60,36,31,29,31,48,34,29,31,35,39,64,40,46,30,56,30,62,32,46,60,71,68,33,18,35,44,35,55,63,31,35,43,42,31,58,41,41,41,30,33,41,51,60,22,35,36,40,35,24,35,38,25,39,38,28,42,34,36,40,41,55,34,30,34,36,44,49,35,49,20,27,29,29,50,67,43,40,63,21,22,46,33,34,54,43,64,26,33,57,76,38,22,31,40,56,25,44,36,33,46,46,52,54,63,52,59,34,25,34,55,43,34,30,24,63,33,38,42,58,25,29,40,28,50,32,44,23,51,41,40,36,33,42,46,33,56,41,42,48,32,21,47,46,43,36,38,34,27,20,49,41,36,68,39,47,49,59,33,27,22,28,32,28,35,47,33,30,38,46,29,45,29,36,46,36,32,38,45,41,38,44,38,46,45,45,36,42,36,30,31,57,49,48,31,40,67,43,41,30,72,40,54,28,38,34,32,35,37,39,35,61,28,26,35,24,35,56,33,38,37,31,34,35,39,38,47,33,54,30,38,30,38,47,40,70,31,33,22,36,39,26,29,33,42,42,39,45,35,35,25,52,33,40,33,33,30,38,81,34,34,40,37,38,56,37,30,51,34,40,45,49,30,42,36,31,50,42,35,47,30,26,27,38,33,36,46,27,45,32,51,39,32,39,40,33,21,67,22,24,28,26,36,32,37,57,45,36,41,41,44,34,51,35,34,32,39,26,41,50,23,73,46,41,31,36,30,24,33,39,37,50,38,36,34,36,42,30,21,62,50,43,36,50,37,31,23,47,47,33,33,31,33,56,34,29,47,41,33,34,50,34,39,31,46,34,29,49,43,29,29,44,31,48,51,34,27,58,36,40,50,37,47,30,36,29,28,33,50,38,39,24,48,29,38,47,66,36,38,52,68,38,40,43,45,51,31,60,51,50,35,34,36,31,35,34,49,32,43,34,28,31,45,35,53,33,33,38,39,35,39,31,47,33,29,34,41,24,38,33,36,30,36,24,41,23,34,37,48,39,47,38,29,40,36,25,42,38,71,32,37,25,25,31,27,48,38,37,37,24,33,27,61,44,31,31,31,22,40,40,46,27,42,28,36,59,50,40,39,39,59,21,47,40,36,66,42,59,30,54,36,32,47,49,27,33,34,39,34,63,29,32,31,39,32,34,32,61,41,75,40,39,42,59,25,27,50,57,38,30,39,37,32,43,25,33,47,37,37,39,40,34,50,32,50,29,32,35,24,25,29,38,35,37,56,36,28,40,58,40,41,38,30,38,33,32,33,40,35,38,42,53,34,37,32,32,31,46,32,40,36,34,53,40,21,57,39,25,28,36,34,40,37,38,41,28,36,40,34,35,51,50,48,58,39,43,69,58,33,30,36,27,43,42,47,38,33,41,53,27,39,50,33,64,35,30,55,27,36,35,34,43,38,38,49,30,37,35,33,41,42,42,25,31,34,49,43,46,32,28,36,39,38,30,49,32,31,44,26,34,40,22,33,35,36,57,45,31,41,60,34,37,32,29,44,29,55,38,39,40,37,55,32,36,25,36,34,62,41,44,53,25,48,38,32,60,69,30,48,29,45,34,39,58,36,28,47,40,26,28,36,38,46,56,22,36,29,38,32,26,39,26,29,43,52,44,26,29,26,40,36,28,38,33,47,41,41,43,40,29,48,22,33,23,34,23,70,26,33,33,49,33,44,22,46,41,35,53,37,32,71,23,28,44,59,49,34,40,36,62,27,71,26,51,31,33,33,58,51,42,66,50,29,38,34,34,60,25,40,34,70,41,48,42,28,46,36,42,43,36,37,35,37,29,37,48,42,28,48,38,27,42,40,28,39,27,29,35,34,20,50,29,52,37,18,54,34,29,27,39,35,45,33,30,35,34,31,43,43,46,33,25,40,47,40,30,46,34,35,47,46,37,47,32,22,58,24,25,41,32,39,39,28,36,63,45,48,40,39,30,64,36,28,42,38,26,59,45,37,65,47,34,31,43,32,38,19,45,46,41,29,34,41,39,40,36,37,23,32,53,49,35,43,45,63,59,39,49,42,38,31,40,23,30,39,26,32,39,27,37,41,36,40,33,36,38,35,43,40,42,44,23,44,30,42,35,39,29,46,34,27,30,32,47,44,40,29,20,25,43,48,30,27,43,43,57,42,30,31,43,38,25,27,36,44,39,48,40,35,46,37,39,55,35,38,56,67,54,41,40,28,35,42,40,34,49,27,43,71,42,40,67,43,39,32,50,48,31,34,37,30,32,23,37,37,31,42,35,55,35,48,39,37,65,35,40,41,41,38,44,37,44,28,27,35,51,30,27,43,30,41,48,30,41,29,42,47,30,44,34,43,59,29,23,45,25,49,28,34,29,44,47,32,30,30,32,43,52,37,44,34,66,34,63,60,61,51,39,36,29,62,31,59,31,30,34,33,37,44,24,37,34,39,60,27,34,41,27,19,73,35,36,35,25,34,66,29,38,33,45,23,34,37,52,40,41,41,39,38,60,36,38,21,35,26,26,51,43,31,40,37,36,36,42,64,50,35,49,29,41,38,40,39,41,35,50,34,34,43,46,33,40,33,36,27,42,35,39,53,40,29,38,50,42,38,43,39,43,26,36,37,32,24,43,59,38,29,72,34,38,38,41,42,30,30,34,50,36,46,24,47,43,49,29,39,28,38,45,36,37,23,39,49,34,32,46,39,40,34,51,40,41,71,51,39,35,40,36,32,34,32,29,48,32,24,31,39,36,46,62,52,32,36,37,35,55,46,32,28,39,29,35,69,55,26,32,37,43,54,31,47,34,38,34,37,37,49,35,28,43,48,46,35,23,47,42,54,50,42,37,52,26,26,44,38,52,37,58,43,25,33,51,61,40,32,33,43,41,29,31,41,35,35,35,32,37,25,41,43,36,37,31,28,42,40,35,43,28,32,33,38,38,37,32,36,33,33,38,20,31,40,54,59,42,41,34,60,41,31,40,67,34,34,61,23,28,47,29,36,37,45,18,51,39,27,34,49,45,36,41,50,44,38,49,29,39,47,27,23,41,40,33,33,31,47,35,30,55,46,33,48,34,33,38,64,39,49,30,30,41,38,32,26,44,43,60,41,40,27,36,52,27,81,54,36,40,47,42,29,35,36,34,39,40,38,31,32,38,37,43,32,29,35,38,61,29,34,31,52,38,41,33,29,40,73,29,36,36,62,32,23,40,58,40,29,33,37,34,51,39,43,40,39,27,33,36,40,49,20,38,59,29,21,43,35,34,43,45,40,35,37,43,28,49,23,36,27,39,46,32,31,32,24,40,63,47,36,46,35,26,43,45,30,54,39,43,61,38,35,28,39,34,44,47,28,42,56,35,58,38,28,32,46,30,58,26,40,29,37,34,28,26,30,43,31,51,30,31,52,52,44,24,36,38,37,40,39,37,30,31,48,31,60,37,28,67,39,32,27,31,39,35,35,38,49,31,49,27,47,40,50,32,46,35,32,37,25,41,20,29,34,39,42,39,31,49,32,41,37,37,20,40,39,61,52,31,60,38,38,32,29,35,21,47,42,31,33,42,54,29,35,62,45,31,34,27,61,48,29,32,36,31,33,36,74,38,36,45,56,30,27,26,41,43,36,38,40,39,37,40,27,83,47,50,40,37,51,42,49,42,69,27,31,61,35,50,71,41,35,40,35,35,34,19,62,78,25,50,49,47,58,29,45,29,28,43,28,50,41,36,34,43,42,63,40,37,43,40,42,46,29,43,39,45,35,35,49,29,36,40,28,39,43,31,30,36,32,48,47,26,35,26,70,45,38,23,57,44,33,32,39,32,37,61,39,43,35,52,40,52,34,39,31,46,69,36,43,36,31,27,55,34,46,40,26,44,53,43,37,33,27,26,28,34,33,28,40,72,53,39,70,32,33,24,28,39,34,38,38,27,63,31,27,33,37,54,41,28,30,41,35,28,33,29,27,27,52,55,39,28,36,47,35,40,46,24,39,56,52,36,45,25,28,22,74,45,51,46,48,41,53,35,33,35,40,36,30,37,32,32,32,33,80,35,48,36,43,33,37,25,52,25,27,18,29,48,44,28,69,41,26,29,26,33,45,48,28,38,32,37,44,27,18,40,35,32,38,46,18,40,34,41,41,60,29,45,52,41,42,40,29,29,46,38,37,35,37,57,29,34,43,36,40,31,41,38,29,72,34,67,46,39,41,36,39,28,42,38,37,29,33,30,35,41,18,35,37,30,42,52,34,45,38,28,62,34,41,35,20,76,42,71,34,40,28,67,55,61,37,26,35,32,55,33,59,39,31,29,44,28,44,35,40,37,36,33,37,47,35,35,24,35,37,33,31,47,40,44,27,31,22,44,31,37,34,31,27,49,40,31,50,32,35,34,38,41,35,31,71,31,40,38,33,33,40,58,34,40,32,32,39,42,30,39,39,40,30,30,35,37,34,37,32,78,28,62,31,39,34,33,29,19,36,63,39,32,33,45,63,31,68,57,34,42,52,51,25,37,32,51,49,23,36,38,31,43,22,36,30,41,22,57,37,41,32,40,56,34,39,30,62,47,40,38,36,32,41,36,43,45,43,23,38,29,39,64,70,32,78,22,37,25,29,35,45,32,46,36,41,69,24,35,51,59,21,68,40,36,43,35,43,27,31,60,21,27,40,64,39,33,54,44,49,39,30,36,42,26,29,39,43,40,40,48,18,49,39,27,34,32,28,45,39,35,28,42,23,43,22,40,30,46,35,30,40,31,36,33,35,36,39,39,27,31,31,29,36,34,48,30,31,51,45,28,39,26,26,28,40,33,39,38,32,48,64,41,46,31,39,38,39,41,26,46,30,24,40,38,25,34,38,34,26,28,43,37,37,24,32,39,40,55,30,38,27,43,33,49,24,32,43,38,40,34,37,33,44,39,36,33,43,62,42,40,50,41,48,33,31,24,21,32,37,49,40,40,77,56,40,61,38,28,39,56,27,36,36,41,38,28,45,58,55,44,34,44,34,41,44,53,31,26,49,36,36,29,50,38,36,31,38,38,40,34,18,46,43,28,77,42,36,57,20,36,25,23,41,44,33,34,53,47,39,46,37,47,45,29,46,25,37,38,33,44,44,33,34,33,35,48,40,41,42,34,26,27,33,50,33,32,40,58,35,42,46,40,35,36,47,30,30,28,33,53,36,28,29,39,35,36,42,28],\"xaxis\":\"x\",\"xbingroup\":\"x\",\"y\":[0.0,83807.86,159660.8,0.0,125510.82,113755.78,0.0,115046.74,142051.07,134603.88,102016.72,0.0,0.0,0.0,0.0,143129.41,132602.88,0.0,0.0,0.0,0.0,0.0,0.0,0.0,0.0,0.0,136815.64,0.0,141349.43,59697.17,0.0,85311.7,110112.54,0.0,0.0,134264.04,145260.23,76548.6,0.0,70349.48,0.0,122522.32,117419.35,131394.56,155931.11,109421.13,112045.67,137843.8,103391.38,103769.22,116363.37,146050.97,0.0,125561.97,98495.72,125211.92,127864.4,75888.2,0.0,40685.92,136857.0,152328.88,56084.69,78707.16,109166.37,169831.46,101633.04,123180.01,150725.53,98373.26,133745.44,0.0,163607.18,157780.84,0.0,178718.19,0.0,0.0,77253.22,122189.66,96645.54,0.0,0.0,90307.62,0.0,0.0,121681.82,0.0,0.0,81623.67,0.0,118626.55,0.0,0.0,0.0,176273.95,102827.44,97086.4,0.0,0.0,0.0,0.0,82674.15,0.0,0.0,107073.27,88938.62,99806.85,150092.8,92833.89,90536.81,108055.1,100238.35,106190.55,154475.54,132351.29,167864.4,0.0,107818.63,185173.81,129433.34,120193.42,0.0,126384.42,0.0,152603.45,0.0,148507.24,0.0,101827.07,0.0,130862.43,122570.87,0.0,124828.46,144895.05,63663.93,133463.1,213146.2,129490.36,137452.09,0.0,125851.93,0.0,40915.55,113157.22,138296.94,106967.18,120681.63,0.0,0.0,0.0,0.0,127609.59,0.0,0.0,0.0,0.0,97259.25,123246.7,101060.25,0.0,108007.36,0.0,133702.89,125189.75,113034.22,109013.23,0.0,57929.81,130114.39,95826.49,129608.57,169462.09,0.0,133868.21,0.0,190479.48,101993.12,161608.81,122311.21,0.0,162150.42,0.0,0.0,0.0,99010.67,0.0,0.0,111388.18,56214.85,84327.77,0.0,93012.89,61710.44,174790.15,0.0,107720.64,0.0,96423.84,141040.01,105420.18,0.0,129022.06,176666.62,0.0,89763.84,134954.53,0.0,106376.85,161814.64,0.0,0.0,63095.01,118287.01,106854.21,49512.55,0.0,105799.32,0.0,114722.05,0.0,0.0,0.0,99564.22,170557.91,0.0,74596.15,96888.39,130830.22,0.0,0.0,0.0,119714.25,113978.97,100160.75,0.0,116220.5,0.0,81173.83,0.0,116803.8,105961.68,117411.6,0.0,123497.58,152400.51,0.0,103097.85,126418.14,77846.9,0.0,0.0,79731.91,0.0,0.0,0.0,37266.67,127992.25,54901.01,108748.08,99906.19,184686.41,110654.02,79019.8,99240.51,0.0,0.0,0.0,52436.2,0.0,100337.96,149297.19,0.0,145605.44,0.0,0.0,0.0,84026.86,0.0,0.0,0.0,138718.92,118274.71,174185.98,113208.86,103907.28,119023.28,166297.89,0.0,63227.0,94521.17,0.0,112822.26,0.0,135903.33,125169.26,0.0,149117.31,0.0,0.0,132311.71,0.0,0.0,118082.89,119266.69,0.0,156847.29,137104.47,78398.69,0.0,63669.42,0.0,135296.33,153804.44,0.0,147069.78,0.0,0.0,95741.75,145965.33,141441.75,139290.41,0.0,0.0,144428.87,0.0,95441.27,144848.74,116244.14,0.0,146502.07,117028.6,112013.81,108269.37,182123.79,150923.74,0.0,165272.13,115301.31,129502.49,118342.26,0.0,0.0,0.0,0.0,106937.05,170331.37,114510.85,0.0,107594.11,81273.13,169399.6,0.0,187841.99,0.0,126776.3,126436.29,101960.74,0.0,0.0,150842.93,102535.57,99027.61,0.0,0.0,87271.41,102742.91,40105.51,152265.43,141947.67,106307.91,107884.81,125013.72,58469.37,0.0,117231.63,152390.26,34013.63,0.0,0.0,101583.11,77168.87,124695.72,105934.96,0.0,0.0,0.0,0.0,161525.96,147199.07,183102.29,127209.0,0.0,97378.54,136925.09,54503.55,155726.85,0.0,135842.41,63349.75,129499.42,0.0,70438.01,0.0,0.0,141434.04,0.0,152958.29,138306.34,0.0,0.0,124328.84,181461.48,0.0,0.0,110368.03,89588.35,0.0,0.0,115924.89,0.0,111756.5,0.0,0.0,162923.85,124576.65,80793.58,71340.09,99282.63,137946.39,127892.57,101084.36,114754.08,0.0,99286.98,79871.02,104088.59,168190.33,85679.25,0.0,0.0,121551.58,122220.19,116528.15,77780.29,0.0,125832.2,68065.8,127299.34,174937.64,0.0,110071.1,139432.37,127357.76,0.0,0.0,0.0,95556.31,0.0,111681.98,0.0,108738.71,133950.37,0.0,89968.69,0.0,130878.75,0.0,0.0,134169.62,149762.08,93844.69,0.0,0.0,141078.37,117992.59,100812.33,0.0,80262.6,156478.62,0.0,0.0,115217.99,0.0,155470.55,0.0,135096.77,0.0,180075.22,97541.24,156067.05,81550.94,0.0,170061.92,92310.54,169089.38,80613.93,121581.56,0.0,0.0,0.0,85891.55,77637.35,0.0,0.0,116927.89,137326.65,0.0,0.0,67238.98,86569.76,0.0,133598.4,136188.78,0.0,0.0,120092.52,101238.24,89685.92,211774.31,131317.48,93722.73,101160.99,120320.54,0.0,0.0,0.0,152827.99,64097.75,119035.35,135219.57,93694.42,59408.63,114354.95,0.0,128173.9,0.0,114931.35,111071.36,151226.18,0.0,64740.12,169312.13,0.0,112652.08,0.0,143964.36,122451.46,0.0,65253.07,106901.94,128509.63,0.0,129834.67,154962.99,138241.9,91536.93,0.0,0.0,105204.01,152968.73,158261.68,0.0,121021.05,0.0,0.0,137715.66,121192.22,0.0,100486.18,0.0,92566.53,0.0,110929.96,0.0,138901.61,123217.66,0.0,0.0,0.0,108431.87,0.0,72392.41,119741.77,100946.71,170491.84,0.0,0.0,157296.02,144606.22,134811.3,115897.12,82034.0,174318.13,114206.84,0.0,111574.41,162448.69,148249.54,0.0,123709.46,0.0,0.0,150525.8,0.0,0.0,0.0,0.0,111018.98,129755.99,0.0,129555.7,87202.38,146133.39,0.0,170184.99,140745.33,139070.51,0.0,114193.24,167878.5,141616.55,145747.67,129120.64,110349.82,141325.56,78653.84,0.0,142253.65,0.0,115988.86,75592.43,164113.04,67996.23,0.0,0.0,138778.15,147832.15,135438.4,116060.08,112564.62,125406.58,135134.99,133102.92,42157.08,0.0,82259.29,0.0,0.0,0.0,0.0,150461.07,133994.52,164870.81,121702.73,193858.2,131039.97,113829.45,0.0,81877.38,116326.07,0.0,0.0,0.0,0.0,127070.73,0.0,122549.64,176099.13,122388.38,0.0,0.0,118879.35,0.0,0.0,88736.44,102703.62,0.0,0.0,97318.25,128468.69,133432.59,141782.57,135125.28,178820.91,112212.14,126674.81,136294.97,66392.64,122552.34,76408.85,145071.24,0.0,109730.22,0.0,64119.38,106138.33,0.0,181656.51,0.0,95128.86,126615.94,0.0,76190.48,168286.81,88109.81,0.0,0.0,123971.51,148116.48,116269.01,120599.21,144260.5,86605.5,0.0,58629.97,0.0,0.0,0.0,209767.31,129634.25,0.0,169824.46,97530.25,145988.65,0.0,0.0,137494.28,0.0,147360.0,0.0,125167.02,121152.05,128981.07,0.0,151858.98,114628.4,0.0,95059.02,128736.39,156325.38,105405.97,88915.37,0.0,0.0,160980.03,177619.71,62276.99,127559.97,0.0,95523.16,107749.03,110777.26,166733.92,157120.86,127160.78,0.0,156091.97,98668.18,134022.06,124151.09,77253.5,114292.48,140080.32,135277.96,0.0,115920.62,119782.72,114715.71,129748.54,129722.57,0.0,139180.2,113599.74,134944.0,116922.25,118945.09,0.0,119182.73,0.0,71264.02,0.0,0.0,116313.57,92140.15,0.0,177640.09,0.0,167997.6,82275.35,0.0,111962.99,131736.88,0.0,108239.11,98444.19,114540.38,187530.66,133636.16,0.0,84745.03,120599.38,0.0,127771.35,0.0,0.0,0.0,167772.96,95845.6,0.0,134714.7,0.0,122384.22,0.0,157993.15,0.0,123331.36,75263.16,137824.03,132578.92,156021.31,0.0,137453.43,0.0,164284.72,0.0,0.0,112373.49,0.0,0.0,0.0,154333.82,111432.77,0.0,137390.11,0.0,111642.08,0.0,83543.37,145338.76,186796.37,58641.43,0.0,137148.68,80001.23,86402.52,0.0,122874.74,97544.29,170826.55,97133.92,153895.65,0.0,0.0,0.0,134956.02,143637.58,147506.25,0.0,190227.46,172448.77,113980.21,0.0,0.0,76968.12,88293.13,170833.46,108122.39,0.0,0.0,129818.39,163943.89,0.0,101430.3,117301.66,173340.83,0.0,134348.57,105525.65,0.0,0.0,106192.1,45144.43,92113.61,0.0,128366.44,0.0,106545.53,145618.37,141541.25,57017.06,0.0,0.0,125884.95,61825.5,0.0,0.0,102967.41,171770.55,93051.64,161064.64,90612.34,145105.64,0.0,0.0,174912.72,104947.72,135213.71,0.0,116229.85,111201.41,0.0,131899.0,124525.52,0.0,0.0,47134.75,0.0,0.0,0.0,0.0,0.0,138657.08,70302.48,101609.01,0.0,130170.82,133802.29,106234.02,132628.98,103522.75,192390.52,0.0,0.0,0.0,109922.61,128605.32,0.0,68598.56,106518.52,0.0,0.0,121326.42,67226.37,82931.85,0.0,118590.41,145981.87,73309.38,130796.33,151607.56,111577.01,107042.74,156371.61,129605.99,0.0,0.0,132576.25,129101.3,108822.4,137948.51,100433.8,96134.11,115888.04,124626.07,139810.34,0.0,84496.71,116854.71,138333.03,0.0,78992.75,97257.41,122453.37,112940.07,132558.26,0.0,133297.24,0.0,197041.8,71497.79,0.0,128100.28,124532.78,82293.82,142120.91,151839.26,149620.88,168197.66,93147.0,97440.02,65046.08,95357.49,123105.88,0.0,0.0,121286.27,167738.82,104091.29,121980.56,0.0,50880.98,175159.9,105514.69,116497.31,0.0,99824.45,0.0,0.0,0.0,122964.88,0.0,0.0,0.0,89634.69,95710.11,139706.31,103909.86,0.0,173434.9,102238.01,179380.74,0.0,108691.95,0.0,0.0,133377.8,0.0,0.0,116537.6,0.0,0.0,130131.08,0.0,0.0,107316.09,0.0,83181.29,0.0,153946.14,0.0,135483.17,0.0,119624.54,121132.26,0.0,0.0,54817.55,107949.45,0.0,80816.45,98205.77,94684.27,141604.76,0.0,0.0,122949.14,81677.22,80293.98,155413.06,0.0,67111.65,103818.43,0.0,152169.12,0.0,214346.96,0.0,113348.14,170935.94,103023.26,0.0,0.0,111855.04,140348.56,0.0,145512.84,146720.98,107209.73,130933.74,0.0,89772.3,0.0,0.0,0.0,100749.5,0.0,0.0,123981.31,91622.42,126195.81,94267.9,0.0,0.0,0.0,100717.85,0.0,141581.71,0.0,148586.64,0.0,0.0,123403.85,0.0,106511.85,0.0,135549.9,110555.37,0.0,185891.54,130854.59,92578.14,132312.06,144976.5,87070.23,0.0,115414.19,91070.43,117412.19,90018.45,0.0,112414.81,158456.76,0.0,149641.53,122528.18,143734.01,155663.31,0.0,101736.66,125822.21,0.0,0.0,0.0,157791.07,0.0,0.0,181627.14,109679.72,96652.86,190008.32,0.0,0.0,148962.76,0.0,131344.52,101713.84,0.0,0.0,137963.07,129938.07,151421.44,135643.0,122773.5,152303.8,0.0,79415.67,125801.03,0.0,0.0,104817.41,0.0,67495.04,164850.54,154776.42,143124.63,0.0,0.0,102133.38,79932.41,120711.73,122717.53,92363.3,203715.15,0.0,0.0,0.0,0.0,93460.47,0.0,40224.7,168069.73,0.0,130538.77,132623.6,103465.02,126547.8,128262.72,169742.64,0.0,150795.81,129855.72,146098.43,0.0,0.0,65643.3,0.0,104584.16,0.0,99785.28,127655.22,0.0,101257.16,0.0,121313.88,0.0,81523.38,128252.66,0.0,0.0,0.0,0.0,0.0,0.0,0.0,0.0,145541.56,0.0,124601.58,115182.84,163789.49,65733.41,0.0,128486.11,109663.47,88324.31,146445.24,0.0,0.0,109949.05,78653.05,107850.82,83765.35,143773.07,116227.27,103471.52,0.0,137492.35,0.0,129829.59,146329.57,114027.7,146580.69,132122.42,81553.93,0.0,0.0,0.0,0.0,175214.71,125534.51,97705.99,126817.65,46870.43,0.0,120094.93,0.0,0.0,104356.94,147004.34,73023.17,173432.55,165679.92,104678.62,116973.26,0.0,126732.85,148481.09,137654.05,115315.04,99095.73,165610.41,0.0,161628.66,146605.27,113488.68,77002.2,0.0,0.0,0.0,182364.53,0.0,149364.58,127450.14,162278.32,152212.88,161993.89,131468.44,102980.44,143321.97,130404.92,0.0,87505.47,133634.02,151233.62,70263.83,0.0,57657.49,153572.31,134752.08,83132.09,0.0,134096.53,118100.59,76915.4,81576.75,0.0,118327.17,124857.69,90971.85,153147.75,65942.26,0.0,0.0,100912.19,0.0,0.0,0.0,124439.49,0.0,0.0,58781.76,159453.64,142721.52,167795.6,128345.69,165260.98,118233.81,0.0,0.0,143452.74,145018.49,82407.51,79460.98,0.0,126473.99,133537.1,164978.01,128029.72,97403.18,176845.41,0.0,81589.04,119507.58,0.0,94443.77,0.0,92199.84,0.0,135756.96,120633.42,134542.73,0.0,0.0,0.0,154344.49,0.0,189026.53,120764.08,97975.82,0.0,113270.2,0.0,124548.99,201696.07,0.0,114203.47,0.0,125437.64,0.0,64897.75,0.0,135555.66,107764.75,117307.44,73700.12,60603.4,40169.88,92041.87,130483.95,0.0,0.0,151097.28,67563.31,112808.18,0.0,86459.8,118633.08,159441.27,0.0,125212.65,88656.37,146033.62,120268.13,0.0,0.0,135070.58,0.0,0.0,122550.05,0.0,130306.49,0.0,90350.77,128747.69,126873.52,108424.19,0.0,84350.07,0.0,84958.6,99097.36,136622.55,156771.68,167658.33,0.0,109483.54,134504.78,114427.86,83888.54,110029.77,127523.75,139762.13,91611.12,109471.79,150500.64,101609.77,0.0,78892.23,82344.84,0.0,0.0,127706.33,124349.34,0.0,119336.29,0.0,104217.3,0.0,144757.02,0.0,0.0,0.0,0.0,100169.51,145731.83,110802.03,120392.99,135067.52,136556.44,0.0,99587.43,0.0,70731.07,109342.82,0.0,0.0,78247.31,117561.49,88980.32,0.0,103560.57,113308.84,0.0,63763.49,169988.35,180303.24,0.0,120656.86,61592.14,164701.68,80780.16,0.0,154221.37,0.0,101641.14,0.0,92786.66,131081.66,98014.74,0.0,97460.1,104077.19,0.0,0.0,0.0,93656.95,121345.88,141675.23,0.0,102365.49,0.0,0.0,0.0,101868.51,0.0,112392.45,106570.34,0.0,81947.76,144162.3,86350.87,158623.14,0.0,132403.56,0.0,134985.66,0.0,103772.45,133040.32,0.0,0.0,0.0,71460.67,133214.13,96558.66,93806.31,0.0,124043.8,131694.97,0.0,106266.8,0.0,0.0,139840.36,0.0,124098.54,145807.59,0.0,107508.93,0.0,145980.23,212778.2,152522.47,168964.77,0.0,0.0,98266.3,113000.92,137060.88,112146.12,129307.32,163975.09,0.0,158414.85,92072.68,88243.29,0.0,59486.31,0.0,0.0,0.0,119278.01,158741.43,140596.95,0.0,90432.92,104783.81,77992.97,110822.9,119624.6,109052.59,139129.44,152324.66,0.0,127480.58,115029.4,114005.78,116646.76,110864.38,156267.59,109528.28,102482.76,115563.71,0.0,95624.36,0.0,160376.61,37702.79,118273.83,131082.17,94456.0,0.0,0.0,93791.38,0.0,0.0,155973.13,89409.95,97854.37,0.0,60280.62,135216.8,124923.35,0.0,188614.07,62321.62,120782.7,115961.58,115062.61,160602.25,108825.34,166287.85,152663.77,80844.69,97001.36,0.0,122524.61,132292.63,0.0,91502.99,0.0,59385.98,0.0,97956.5,0.0,0.0,141223.68,151762.74,141749.74,75075.14,165686.11,0.0,0.0,0.0,0.0,92961.61,0.0,130812.91,107174.58,152677.48,132005.77,0.0,0.0,127305.5,0.0,0.0,0.0,170291.22,102562.23,111061.01,0.0,124379.14,0.0,57745.76,129293.74,0.0,150777.1,0.0,0.0,108632.48,153861.1,100374.58,0.0,61196.54,116891.72,133656.91,92911.52,119825.75,111852.84,106683.52,139022.24,148571.07,0.0,129776.72,0.0,0.0,0.0,0.0,114739.92,122545.65,0.0,131908.35,105722.69,0.0,0.0,0.0,82767.42,87842.98,133261.13,0.0,97925.11,0.0,140453.91,117356.19,0.0,137204.77,0.0,0.0,54098.18,0.0,113758.48,0.0,118636.92,0.0,95488.82,110829.52,144244.59,122021.92,0.0,0.0,0.0,85839.62,96974.97,148172.44,0.0,0.0,0.0,0.0,134766.85,123210.56,139887.01,149961.11,152880.97,108589.47,0.0,56674.48,0.0,0.0,105663.56,0.0,100683.54,0.0,139541.58,121801.72,112281.7,0.0,93499.82,132255.99,0.0,0.0,121973.28,99462.8,165878.76,117494.27,138577.34,0.0,107525.07,139224.92,121453.63,0.0,77354.37,0.0,79259.99,116295.29,0.0,74309.81,152797.9,133701.07,114430.18,127504.57,84113.41,101126.66,103564.83,0.0,168178.21,143903.11,129753.69,0.0,110641.18,166909.2,154139.45,97459.06,0.0,112088.04,0.0,0.0,141038.57,84468.67,118520.26,142663.46,118627.16,137523.02,110976.23,107283.4,0.0,124314.45,95858.37,0.0,0.0,0.0,117707.18,135289.33,174060.46,114446.84,0.0,157848.53,0.0,0.0,108071.36,14262.8,102749.72,161757.87,0.0,95698.79,124969.13,93960.35,88308.87,0.0,0.0,112935.87,98567.1,180530.51,140931.57,148913.72,0.0,0.0,0.0,115335.32,0.0,0.0,134678.13,0.0,90547.48,103324.78,114590.58,91286.51,163340.12,150900.29,124577.33,0.0,91292.7,93716.72,111723.08,110765.68,173459.45,169649.73,0.0,116917.07,0.0,0.0,0.0,130627.66,56580.95,142316.14,0.0,152759.0,109733.2,117444.51,76001.57,107747.57,0.0,134997.49,0.0,0.0,0.0,64345.21,141665.63,0.0,136624.6,161209.66,95010.92,167545.32,109044.6,122031.55,27755.97,118560.55,0.0,0.0,97840.72,158651.29,175303.06,96950.21,123859.6,0.0,0.0,85227.84,97786.08,128135.99,0.0,85996.19,0.0,104502.11,95772.97,98108.79,131607.28,63127.41,0.0,0.0,140355.56,0.0,0.0,107418.27,0.0,0.0,167557.12,117300.02,0.0,143672.9,0.0,0.0,76798.92,0.0,115309.75,178171.04,0.0,0.0,127258.79,0.0,0.0,0.0,0.0,0.0,107569.96,134874.4,0.0,0.0,0.0,0.0,70105.87,0.0,78939.15,105128.85,113836.27,0.0,100900.5,129248.11,109118.05,0.0,0.0,126397.66,108546.16,148061.89,122277.87,0.0,0.0,152899.24,134388.11,109740.62,92366.72,129109.02,0.0,105102.5,111375.32,0.0,150412.14,156660.72,90957.81,104960.46,117052.82,88915.85,148071.39,152182.83,0.0,130056.23,95039.73,0.0,0.0,112773.73,123806.28,144453.75,94667.29,0.0,174397.21,108888.24,118803.35,171137.62,0.0,136678.52,135515.76,177799.83,143542.36,147487.23,97764.41,0.0,139480.18,0.0,140553.46,0.0,141162.08,65848.36,83319.28,0.0,129731.64,0.0,0.0,0.0,107106.33,0.0,0.0,105303.73,165798.1,0.0,126495.57,116393.59,81733.74,0.0,106171.68,96020.86,0.0,181671.16,185709.28,134250.17,0.0,95671.75,0.0,142151.75,127823.93,144164.29,63492.94,0.0,0.0,106134.46,127269.75,124493.03,0.0,146547.78,99610.92,117837.43,168522.37,117337.54,108131.53,136496.12,116324.53,75470.23,172646.82,0.0,160358.68,98415.37,57809.32,128743.8,130806.42,123971.16,0.0,0.0,0.0,0.0,0.0,156297.58,0.0,123372.3,92171.35,0.0,148375.19,0.0,147422.44,173962.32,0.0,145215.43,167539.97,94968.97,106116.5,0.0,0.0,0.0,120018.86,112541.54,166118.45,102882.4,0.0,106881.5,120727.97,169832.57,0.0,113599.42,0.0,0.0,0.0,0.0,146282.79,119413.62,122084.63,103060.63,0.0,0.0,110483.86,120718.28,36566.96,108601.0,0.0,0.0,0.0,0.0,141136.62,108231.37,0.0,144855.34,68432.45,136855.24,44020.89,133060.63,0.0,0.0,97665.61,185013.02,0.0,65971.61,150463.11,0.0,0.0,136425.18,250898.09,146798.81,0.0,128486.91,0.0,143407.29,0.0,76165.65,0.0,0.0,90560.3,62391.22,0.0,0.0,123378.2,99836.47,161434.36,0.0,138311.76,0.0,0.0,101744.84,0.0,125456.07,0.0,0.0,0.0,0.0,118449.21,0.0,178095.55,109175.14,127785.17,0.0,0.0,134260.36,69143.91,100054.77,0.0,116248.88,86053.52,123157.95,63438.91,95295.39,133550.67,106871.81,105266.32,105229.53,102768.42,0.0,112689.95,122334.26,0.0,137847.41,122486.47,101286.11,0.0,101247.06,86977.96,0.0,110123.59,178111.82,126306.64,100768.77,0.0,0.0,118991.79,140997.26,0.0,166824.59,76322.69,0.0,149083.7,0.0,0.0,126588.81,143249.67,81844.91,0.0,190298.89,117212.18,0.0,139848.17,101861.36,167455.66,0.0,116360.07,88466.82,0.0,123642.36,0.0,72286.84,0.0,109681.61,145018.64,0.0,187487.63,165692.91,137648.41,118560.0,164385.53,108286.5,0.0,0.0,118079.47,127283.78,0.0,141389.06,130091.5,143744.77,97408.03,111927.45,0.0,0.0,0.0,188285.68,109705.52,0.0,127122.79,98241.04,170840.08,87541.06,62610.96,0.0,113328.93,104832.49,102289.85,125227.82,140510.89,132253.22,39043.29,0.0,99685.06,125385.49,131365.37,98308.51,0.0,140856.16,0.0,172274.01,0.0,122447.76,0.0,157559.59,126550.7,158584.82,163569.61,0.0,127211.45,118199.97,101014.08,119208.85,0.0,53772.73,0.0,138878.81,130922.81,0.0,0.0,130866.19,187257.94,0.0,147733.64,0.0,163139.27,0.0,119540.15,129553.76,0.0,66101.89,140431.98,0.0,0.0,0.0,116471.43,0.0,123785.24,0.0,88758.95,153611.83,112044.72,123826.07,106804.26,0.0,68892.77,0.0,125827.43,0.0,0.0,148495.64,133043.66,74989.58,60263.23,129370.91,157955.83,0.0,70729.17,0.0,0.0,90721.52,0.0,57784.22,131765.72,0.0,110022.74,131569.63,164523.5,114330.95,135923.16,0.0,0.0,124693.48,147936.42,0.0,126558.92,106938.11,140002.35,123444.72,147107.91,128514.84,0.0,106756.01,0.0,0.0,155393.32,110414.48,0.0,157098.52,85626.6,93796.42,0.0,125268.03,148143.84,115545.33,0.0,44928.88,0.0,162442.35,0.0,96213.82,156569.43,0.0,0.0,110463.25,154575.76,0.0,0.0,147037.32,119276.31,108664.85,0.0,163034.82,93059.34,179581.31,113625.93,119961.48,129209.48,137227.04,119024.75,74623.5,157929.45,92606.86,127862.93,0.0,142711.81,0.0,163159.85,108586.86,110624.99,154846.24,122917.71,0.0,82787.93,102500.34,0.0,159492.79,0.0,118241.02,113090.4,65763.57,125537.38,94263.91,133434.57,0.0,0.0,94748.76,98640.74,74681.9,0.0,179915.85,128207.23,132739.26,0.0,120509.81,124547.13,0.0,88815.56,82231.51,184715.86,0.0,0.0,147972.19,0.0,170008.84,0.0,0.0,95386.82,90373.28,133467.77,0.0,96288.26,91547.84,138292.64,0.0,71667.74,118994.84,0.0,145610.07,138162.81,135020.21,0.0,135161.67,0.0,94486.47,117640.39,111379.55,0.0,136820.99,98752.51,158266.42,105599.67,0.0,0.0,139723.9,141806.46,132571.67,180516.9,0.0,92805.72,0.0,135309.36,128917.84,56580.93,131390.75,0.0,0.0,97361.66,0.0,0.0,0.0,0.0,0.0,102714.65,67816.72,81710.46,75237.54,124023.18,100727.5,107238.85,0.0,139994.66,126224.87,145751.03,0.0,121166.89,0.0,0.0,70655.48,129901.21,125470.81,169406.33,0.0,107041.3,95153.77,145166.09,0.0,65962.63,140418.81,139799.63,171787.84,149238.97,163146.46,0.0,0.0,61482.47,145150.28,126670.37,84390.8,89728.86,0.0,118628.8,0.0,96863.13,142263.45,0.0,0.0,0.0,122724.37,174902.26,0.0,108914.17,98052.66,123873.19,111920.13,0.0,0.0,0.0,75150.34,0.0,114753.76,0.0,111871.93,0.0,135927.06,0.0,0.0,57037.74,0.0,79468.96,121063.85,118537.47,0.0,105082.07,0.0,0.0,104702.65,95813.76,167026.61,102453.26,148045.45,0.0,0.0,0.0,104498.79,0.0,0.0,149542.52,87946.39,68639.57,148826.32,0.0,108166.09,103214.71,134760.21,0.0,90124.64,0.0,87361.02,111257.59,131583.59,95020.8,0.0,80242.37,0.0,0.0,122661.39,0.0,0.0,0.0,0.0,81742.84,0.0,145127.85,148912.44,0.0,89900.24,119027.28,105222.86,0.0,116114.93,187911.55,0.0,144432.04,77065.9,180520.29,0.0,130024.87,110086.69,174853.46,108724.98,91285.13,0.0,110610.41,102994.04,59893.85,149318.55,116409.55,127760.07,132591.36,0.0,113402.14,0.0,0.0,0.0,136953.47,0.0,0.0,123863.64,120811.89,148430.55,47869.69,150926.99,103163.35,130206.28,136674.51,200322.45,0.0,80927.56,0.0,0.0,142574.71,160426.07,116160.23,98683.47,118829.03,118870.92,0.0,0.0,107192.38,108010.78,0.0,129837.72,106458.31,97009.15,122929.42,152296.83,0.0,0.0,128993.76,0.0,185267.45,0.0,116805.82,129750.68,129177.01,82506.72,107247.69,0.0,157780.93,172170.36,0.0,0.0,75361.44,0.0,0.0,98263.46,0.0,109308.79,0.0,164365.44,98800.0,193125.85,51522.75,84284.48,0.0,119889.84,137910.45,0.0,100116.82,166082.15,0.0,0.0,148595.55,94078.97,0.0,0.0,164948.98,140549.4,152509.25,191864.51,96418.09,131945.94,0.0,142910.15,0.0,146311.58,87894.26,97445.49,0.0,0.0,154485.74,115625.07,108396.67,65095.41,103018.45,84764.79,0.0,115680.81,0.0,73088.06,150905.03,143054.85,0.0,0.0,99948.45,115451.05,108235.91,0.0,98795.61,0.0,0.0,0.0,113146.98,162532.14,92053.44,0.0,0.0,104944.1,0.0,0.0,107879.04,110356.42,0.0,109783.69,149777.0,104339.56,85818.18,212692.97,89696.84,0.0,68067.24,148564.66,136354.16,122214.0,0.0,119684.88,135139.33,146100.75,123110.9,111760.4,110728.39,121558.46,120623.21,114713.57,103457.76,101134.87,78136.36,0.0,133446.34,0.0,108076.33,131354.25,62974.64,143340.44,116993.43,58662.92,128808.65,137555.44,142393.11,0.0,125785.23,136444.25,121527.4,144696.75,0.0,0.0,128140.17,120383.41,0.0,129735.3,185078.26,0.0,0.0,0.0,144591.96,0.0,0.0,0.0,100194.44,145295.31,106070.29,120621.89,0.0,0.0,0.0,171283.91,0.0,128218.47,0.0,77776.39,124978.19,0.0,0.0,109799.55,0.0,125397.21,0.0,111347.37,104291.41,94867.18,0.0,135703.59,106453.53,132412.38,124401.6,118022.06,82531.11,184552.12,127278.31,0.0,0.0,184244.86,59669.43,79543.59,151553.19,166527.88,150329.15,121911.59,156773.78,127864.26,113709.28,79974.55,0.0,0.0,0.0,144427.96,99263.09,79368.87,0.0,0.0,0.0,125095.94,162485.8,95668.82,0.0,0.0,0.0,74197.38,89688.94,103121.33,0.0,120170.07,149136.31,141136.79,152341.55,120026.98,132168.28,85200.82,84903.33,0.0,0.0,0.0,121535.18,116662.96,0.0,124829.16,155180.56,108262.87,0.0,0.0,0.0,99812.88,132164.26,103583.05,142406.43,99842.5,0.0,0.0,81042.42,0.0,0.0,199689.49,142645.43,0.0,110219.14,0.0,0.0,0.0,142072.02,0.0,149564.61,0.0,153366.13,76467.16,121508.28,0.0,73211.12,0.0,0.0,92674.94,96196.24,114391.62,80262.66,173331.52,147285.52,119785.47,140137.15,107467.56,98218.04,133607.75,0.0,95139.41,0.0,0.0,0.0,97331.19,139265.63,0.0,168094.01,131563.88,0.0,0.0,0.0,107363.29,94493.03,170214.23,139781.06,0.0,148610.41,170241.7,128306.83,0.0,0.0,175454.0,0.0,100885.93,93320.8,63176.44,139451.67,49113.75,123906.22,0.0,0.0,131441.51,0.0,136325.48,113150.44,0.0,0.0,102785.16,83264.28,72252.64,148051.52,138489.66,0.0,111589.33,122104.79,96106.83,115930.87,124513.66,0.0,0.0,0.0,100988.39,118577.24,0.0,0.0,0.0,0.0,0.0,113311.11,0.0,0.0,124365.42,147249.29,103688.19,138740.24,111900.14,152760.24,143966.3,141556.96,0.0,0.0,0.0,0.0,0.0,0.0,162560.32,123229.46,76665.71,140278.99,0.0,115764.32,131142.53,68375.27,117833.3,0.0,0.0,0.0,111093.01,132657.55,128882.49,69129.59,0.0,121404.64,131355.3,102097.33,154863.15,99945.93,121704.32,0.0,138782.76,0.0,136291.71,107856.57,108348.66,93871.95,0.0,125860.2,172713.44,0.0,0.0,130786.92,112367.34,91091.06,106198.5,142669.93,112833.35,0.0,0.0,104336.43,104305.74,140187.1,0.0,114959.12,164704.38,119096.55,0.0,0.0,0.0,115465.28,0.0,184926.61,85957.88,114084.6,166930.76,0.0,0.0,107193.82,116275.12,0.0,91068.56,123049.21,0.0,0.0,137781.65,108128.96,105317.73,80569.73,174852.89,89158.94,0.0,89800.14,101207.75,106086.42,0.0,0.0,101440.36,0.0,106603.74,130420.2,0.0,45022.23,74298.43,133003.03,0.0,136689.66,0.0,0.0,102520.37,0.0,0.0,88382.01,115049.15,104796.54,123082.08,0.0,0.0,0.0,88311.48,0.0,71872.19,110046.93,104430.08,0.0,138653.51,102575.04,137780.74,0.0,0.0,105209.54,109570.21,118715.86,0.0,153393.18,132603.36,0.0,129398.01,0.0,151352.74,136836.49,91592.06,0.0,0.0,0.0,165536.28,62482.95,68155.59,55853.33,0.0,79589.43,100880.76,174330.35,143390.51,91415.76,134366.42,0.0,88786.81,96814.46,160680.41,0.0,0.0,145537.21,0.0,0.0,119370.11,0.0,134381.52,114888.74,149332.48,105061.74,0.0,0.0,0.0,155062.8,88798.34,0.0,143139.87,0.0,107027.52,140720.93,80964.57,178585.46,135889.13,134919.85,115130.34,138190.13,131519.49,0.0,126935.98,133707.09,97893.2,127900.03,143835.47,0.0,0.0,0.0,129596.77,0.0,110407.44,0.0,142015.76,81370.07,69329.47,116755.5,83870.33,130694.89,117451.47,206868.78,111695.62,137285.26,149218.39,0.0,0.0,130701.29,0.0,167949.48,131254.81,0.0,0.0,86656.13,114737.26,0.0,0.0,119817.33,130806.99,0.0,0.0,80931.75,0.0,132178.67,0.0,0.0,164769.02,107233.85,176227.07,109949.39,0.0,117738.81,133292.45,160474.59,0.0,154393.43,110827.49,145750.45,109044.3,75170.54,0.0,105795.9,0.0,0.0,0.0,118097.87,172693.54,129440.3,0.0,96471.2,0.0,140197.18,0.0,135946.26,0.0,81290.02,0.0,113715.36,168883.08,143421.74,153644.39,109330.06,115095.88,0.0,183276.32,68193.72,0.0,139729.54,98365.33,0.0,122453.97,132174.41,0.0,0.0,104349.45,138881.04,116968.91,105346.03,136623.19,0.0,0.0,0.0,124445.52,68999.66,85768.42,0.0,100628.0,0.0,0.0,0.0,0.0,125647.36,100375.39,0.0,171922.72,146810.99,109032.23,0.0,0.0,128653.59,80387.81,0.0,108508.82,155978.17,0.0,121175.56,89349.47,86131.71,102346.86,121263.62,0.0,0.0,0.0,149726.08,0.0,161274.05,0.0,103138.17,109628.44,0.0,97286.16,118004.26,85534.83,0.0,95140.44,0.0,0.0,75900.84,126619.27,111833.47,0.0,238387.56,108698.96,112687.69,81556.89,136596.85,98807.45,0.0,0.0,107499.7,0.0,0.0,0.0,176024.05,0.0,127631.62,0.0,109819.16,138734.94,111363.1,0.0,143988.0,118838.75,161637.75,133793.89,71553.83,0.0,0.0,0.0,64667.95,121164.11,0.0,98903.06,104158.84,0.0,139529.93,0.0,64646.7,0.0,0.0,118894.22,0.0,0.0,68213.99,0.0,139196.0,0.0,126345.55,0.0,0.0,0.0,0.0,129278.43,119558.35,92467.58,0.0,0.0,0.0,99340.83,0.0,126833.79,109676.52,0.0,134729.99,98431.37,130368.31,123974.96,138082.16,129855.32,132308.22,155447.65,124268.64,176311.36,99886.42,0.0,0.0,85089.3,134318.21,75395.53,116765.7,0.0,111501.66,76595.08,160541.36,129728.6,0.0,130929.02,116800.25,101016.53,0.0,190566.65,0.0,97067.69,92208.54,186347.97,103176.62,0.0,77270.08,111911.63,94216.05,0.0,0.0,106770.82,138089.97,133191.19,0.0,74135.85,99208.46,92242.34,108380.72,91893.32,85757.93,0.0,96759.42,0.0,0.0,0.0,0.0,132150.26,0.0,175443.75,78990.15,113743.37,157624.84,125163.62,0.0,0.0,80922.75,193354.86,107648.94,131769.04,138992.48,113899.92,114450.32,0.0,0.0,63609.92,0.0,75497.51,0.0,0.0,0.0,117704.73,130463.55,46161.18,0.0,110182.54,0.0,117221.15,0.0,79120.27,177069.24,61636.97,0.0,104414.03,159732.02,89437.03,0.0,0.0,0.0,142400.77,88011.4,0.0,154870.28,0.0,0.0,118402.25,87374.88,105397.8,125341.69,129164.88,141004.46,0.0,89079.41,103604.31,182705.05,0.0,94598.48,188241.05,0.0,0.0,117469.91,80790.74,107735.93,133379.41,168066.87,69014.49,0.0,98548.62,0.0,76554.06,0.0,107375.82,122417.17,0.0,97188.62,61297.05,112666.67,0.0,157842.07,91443.75,110148.49,53299.96,0.0,0.0,70233.74,0.0,75212.28,41299.03,83286.56,0.0,0.0,85668.59,57327.04,0.0,69609.85,129269.27,0.0,165350.61,152105.57,0.0,106290.64,100548.67,106344.95,137482.19,116465.53,0.0,0.0,127637.92,0.0,0.0,81951.74,147531.82,0.0,135120.72,0.0,0.0,0.0,0.0,0.0,28082.95,0.0,111087.5,0.0,127120.07,115651.6,77743.01,0.0,71996.09,61581.97,0.0,0.0,87873.39,105617.73,0.0,148770.61,94901.09,174851.9,0.0,120847.11,0.0,0.0,103267.8,109699.08,135133.39,0.0,137649.47,113567.94,0.0,141547.26,62055.17,131156.76,134837.58,0.0,104784.23,0.0,156948.41,147751.75,124619.33,124182.21,142028.36,0.0,125837.86,117160.32,0.0,97565.74,0.0,104833.79,101675.22,0.0,0.0,174701.05,71142.77,108805.42,0.0,0.0,116037.76,0.0,80673.96,124640.51,182275.23,98635.77,0.0,0.0,79757.21,53053.76,120911.75,115285.85,0.0,221532.8,105056.13,88363.03,123757.52,123959.97,114822.64,145219.3,106807.64,148159.71,99745.95,156282.79,0.0,0.0,0.0,0.0,121376.15,111582.11,129417.82,0.0,0.0,0.0,94607.08,131368.3,166883.07,0.0,172812.72,126606.63,134950.19,96956.1,107601.79,92060.06,0.0,0.0,137688.71,85845.43,125552.96,167298.42,55732.92,110689.07,98544.11,178317.6,115713.84,143267.14,89750.21,116576.45,143001.5,157761.56,0.0,103430.11,0.0,0.0,115115.38,122501.28,0.0,0.0,146758.24,0.0,0.0,110738.89,94203.8,105792.49,153198.23,0.0,61811.23,101116.06,74458.25,142871.27,98585.94,0.0,0.0,80764.03,144801.97,0.0,110053.62,118890.81,0.0,151218.98,150507.21,0.0,131023.76,122314.5,0.0,0.0,111739.4,113882.31,98148.61,0.0,59271.82,0.0,0.0,69413.44,160599.06,0.0,147803.48,0.0,170228.59,133111.73,0.0,176139.5,0.0,110245.13,0.0,158719.57,160979.68,123557.65,0.0,0.0,112896.86,120962.13,96048.55,0.0,185063.7,118064.93,0.0,0.0,149131.03,0.0,0.0,125512.98,83492.07,0.0,0.0,125739.26,98592.88,141789.15,112949.71,105057.33,89087.89,147435.96,154439.86,73054.37,124678.35,152576.25,152243.57,0.0,88120.97,143930.92,0.0,137059.05,186558.55,115654.47,0.0,126152.84,105701.91,0.0,157094.78,113228.38,0.0,108432.88,0.0,120702.67,0.0,0.0,139106.19,101851.8,130935.56,116509.99,93124.04,111578.18,0.0,86546.29,0.0,129669.32,0.0,164557.95,0.0,118989.92,0.0,0.0,79259.75,112230.38,118129.87,86824.09,128306.7,117641.43,125734.2,103302.37,0.0,82696.09,145471.37,101506.66,156265.31,128554.98,139959.55,132944.53,0.0,0.0,93547.23,152302.72,147674.26,148021.12,0.0,142360.62,151027.56,138843.7,109958.15,138857.59,105426.5,149155.53,135096.05,170890.05,89122.3,78126.28,123894.43,0.0,106913.43,127845.83,0.0,106397.75,0.0,0.0,166492.48,0.0,114493.68,126104.98,124425.99,0.0,0.0,0.0,101140.76,150844.94,115024.5,131286.46,0.0,141267.67,137761.55,0.0,98064.97,114519.57,101012.77,0.0,82291.1,84719.98,0.0,104386.53,128131.73,122806.95,0.0,112510.89,117056.46,131778.66,70784.27,0.0,0.0,0.0,140752.06,92126.26,93148.74,110132.55,0.0,122227.71,121647.54,110597.76,120731.39,0.0,0.0,153722.47,114088.32,0.0,0.0,152532.3,0.0,143292.95,149144.61,127157.04,84673.17,135962.4,151691.44,88335.05,139859.23,43134.65,99580.13,110717.38,0.0,0.0,0.0,108197.11,0.0,104450.86,0.0,0.0,0.0,0.0,116099.82,111169.91,0.0,123616.43,155619.58,89558.39,0.0,131938.92,151772.63,0.0,0.0,0.0,97700.02,0.0,103244.86,147833.3,0.0,0.0,0.0,84521.48,91938.31,124240.93,0.0,157084.99,108244.82,0.0,82161.7,104568.41,119912.46,68881.59,0.0,86376.29,150840.03,155059.1,0.0,78128.13,98899.76,0.0,160982.89,87926.24,0.0,79385.21,127997.83,168396.34,134896.03,0.0,94238.75,0.0,0.0,212696.32,0.0,139153.68,0.0,0.0,0.0,92887.13,0.0,83442.98,144773.29,111973.97,178032.53,140007.19,98400.61,0.0,108924.33,132835.56,0.0,118334.44,81732.88,121411.9,121455.65,0.0,0.0,117989.76,0.0,137411.29,73688.2,122330.7,99906.89,0.0,167664.83,141525.55,124832.51,132121.71,0.0,78539.84,123770.46,0.0,116150.65,160729.1,88378.6,182888.08,0.0,0.0,85600.08,0.0,0.0,95001.33,113873.22,0.0,74896.92,89492.62,128718.78,0.0,0.0,144954.75,0.0,94001.61,0.0,0.0,0.0,0.0,0.0,0.0,0.0,0.0,141546.35,141528.88,109805.3,86614.06,91680.1,38848.19,153639.11,0.0,123870.07,0.0,46323.57,162039.78,110928.51,0.0,114421.55,130036.21,151510.17,0.0,0.0,83568.55,139972.18,100212.13,90217.07,0.0,124067.32,0.0,162082.31,117306.69,122889.88,148790.61,180226.24,104857.19,166833.86,102936.72,108736.52,129974.79,85982.07,134397.61,137841.53,100260.88,139822.11,123151.51,95331.83,0.0,138162.41,0.0,126066.26,96763.89,0.0,139561.46,0.0,0.0,172463.45,107798.85,70181.48,177997.07,0.0,0.0,0.0,0.0,123200.78,0.0,0.0,137742.9,116270.72,113220.2,0.0,115895.22,121730.49,113811.85,136214.08,146200.01,106242.67,0.0,0.0,24043.45,0.0,132287.92,0.0,0.0,90322.99,0.0,131283.11,131659.59,120952.74,153166.17,53291.86,167924.95,86394.14,0.0,0.0,0.0,158978.79,100431.84,0.0,150358.97,114347.85,0.0,134007.9,98899.91,0.0,137430.82,0.0,0.0,188976.89,0.0,75990.97,0.0,112181.08,97208.46,0.0,0.0,150856.79,146748.07,0.0,0.0,148863.17,0.0,0.0,153360.02,92055.36,124723.92,103033.83,0.0,0.0,0.0,0.0,116726.22,113923.81,0.0,0.0,0.0,0.0,121827.43,0.0,125389.7,103895.31,111128.04,0.0,0.0,0.0,151242.48,0.0,129709.62,83347.25,84121.04,0.0,102338.19,87375.78,0.0,104677.09,121669.23,108407.34,154969.79,141829.67,0.0,109162.82,87471.63,147229.65,0.0,182532.23,0.0,160903.2,138053.79,153548.12,149085.9,95231.91,0.0,85109.21,125338.8,0.0,106831.69,159597.45,147361.57,176134.54,0.0,0.0,84055.43,0.0,174088.3,199229.14,0.0,0.0,78833.15,0.0,0.0,102540.61,0.0,0.0,129401.87,0.0,0.0,0.0,106702.94,139584.57,121016.23,0.0,118210.42,0.0,148654.84,136963.12,137774.11,111156.52,121237.65,97234.58,0.0,0.0,97382.53,103108.8,0.0,131852.81,0.0,107553.33,0.0,161806.09,0.0,0.0,128243.03,126645.13,62094.71,112291.34,89188.83,0.0,109161.25,0.0,0.0,0.0,0.0,158271.74,96951.21,121863.61,83495.11,146566.01,0.0,186101.18,0.0,107494.86,0.0,146943.38,0.0,125130.28,0.0,0.0,0.0,0.0,0.0,0.0,0.0,150685.79,141359.37,0.0,94631.26,118336.14,0.0,0.0,124233.24,51116.26,91869.69,122338.43,0.0,0.0,86270.93,0.0,117289.92,0.0,153663.27,0.0,123599.49,0.0,134208.25,0.0,98556.89,0.0,0.0,134593.79,0.0,68781.82,137464.04,147307.91,0.0,145754.91,0.0,112610.77,71481.79,0.0,77826.8,87140.85,132002.7,178011.5,102954.68,123783.25,101802.67,148659.48,142724.48,112152.89,89550.85,75915.75,118889.66,118788.57,156555.54,99141.86,61211.18,128932.4,0.0,80728.15,127660.46,106070.89,137560.38,111905.43,126212.64,0.0,111835.94,0.0,99705.69,0.0,108895.93,154669.77,128061.0,0.0,0.0,190678.02,0.0,0.0,136712.91,154733.97,112609.91,115462.44,133501.36,58668.02,89118.26,0.0,76510.52,140694.78,95448.32,91562.99,72541.48,120867.18,0.0,157320.51,0.0,139676.95,0.0,0.0,0.0,103000.94,134237.07,118235.7,0.0,0.0,115442.19,0.0,0.0,0.0,115557.0,166518.63,135370.12,92877.33,102073.67,97042.6,0.0,108528.07,79064.85,74274.87,0.0,100421.1,84006.88,0.0,0.0,80293.81,125437.14,0.0,0.0,127536.44,0.0,82794.18,108117.1,0.0,61688.61,0.0,0.0,159304.07,138664.24,126362.57,160652.45,183572.84,88421.81,0.0,112871.19,60880.68,0.0,101455.7,88084.13,0.0,127197.14,0.0,83456.79,98298.18,0.0,86911.8,139707.28,0.0,142876.98,146301.31,47364.45,0.0,58137.08,179886.41,107637.97,167685.56,136525.99,52106.33,0.0,104930.38,106434.94,112803.92,120530.34,113641.49,145081.72,0.0,135842.89,112203.25,129895.19,149049.92,153279.39,41473.33,0.0,113193.51,113174.21,0.0,164951.56,153325.1,134032.01,125445.04,126077.43,0.0,90371.09,0.0,142802.02,90537.16,0.0,156123.73,0.0,141074.59,0.0,117899.95,0.0,166257.96,0.0,169362.43,205962.0,0.0,126061.51,105627.95,100606.02,0.0,0.0,138171.1,139395.08,0.0,0.0,109062.28,89994.71,0.0,103996.74,175111.11,66079.45,148055.74,0.0,0.0,0.0,95994.98,0.0,110741.56,0.0,0.0,0.0,96947.58,0.0,109786.82,0.0,0.0,102721.49,69478.57,156674.2,174506.1,166070.48,105957.44,0.0,110340.68,0.0,135870.01,0.0,0.0,0.0,85704.95,0.0,105435.74,0.0,108513.25,156687.1,150604.52,155114.9,0.0,91216.0,141784.02,127763.24,0.0,82613.56,69423.52,86167.82,0.0,131406.56,121898.82,77487.2,0.0,164450.94,138705.02,132730.17,0.0,0.0,116498.22,0.0,139979.07,127216.31,0.0,148222.65,0.0,0.0,134152.29,111537.23,119565.92,0.0,0.0,121063.8,124995.98,0.0,86891.84,0.0,78022.61,154495.79,189443.72,152926.6,142989.69,115371.94,0.0,178056.54,206014.94,0.0,101191.83,0.0,0.0,0.0,0.0,149814.54,115617.24,0.0,113657.41,138160.0,117700.86,0.0,122506.38,0.0,0.0,166501.17,89743.05,0.0,0.0,0.0,0.0,98894.39,168735.74,0.0,133201.17,0.0,127237.25,117864.85,153469.26,93911.3,76597.79,79927.36,0.0,40172.91,115195.58,116644.29,180293.84,139872.81,34547.82,0.0,96462.25,130334.35,119688.81,0.0,0.0,71187.24,0.0,0.0,0.0,136422.41,0.0,0.0,0.0,153238.88,0.0,47536.4,0.0,142882.49,0.0,160566.11,131935.51,127678.8,105214.58,139859.54,0.0,112324.45,134497.27,120171.58,106012.2,0.0,0.0,0.0,0.0,119839.69,0.0,92219.21,142055.41,29602.08,0.0,0.0,0.0,141803.77,0.0,0.0,126589.12,108393.35,115643.58,132876.23,110949.41,130666.2,103821.47,0.0,0.0,132187.73,98649.55,126444.08,154159.51,0.0,129250.0,0.0,167733.51,56116.3,141581.08,139675.07,66201.96,0.0,133658.24,136202.78,131778.08,0.0,0.0,42712.87,0.0,0.0,142631.54,141204.65,131402.21,92636.96,0.0,102088.68,0.0,134887.53,0.0,159900.38,102278.79,0.0,0.0,0.0,76989.97,0.0,0.0,114491.82,144768.94,145056.59,117206.3,138014.4,128352.59,112568.31,0.0,176958.46,99167.54,103210.27,104478.12,125921.37,0.0,80697.44,161887.81,109558.36,124271.26,0.0,190569.23,143923.96,96542.16,0.0,139825.56,111769.14,0.0,113672.18,147256.86,107023.03,125529.55,0.0,131834.8,0.0,99529.7,0.0,107303.72,72783.42,0.0,0.0,115743.6,161256.53,0.0,0.0,0.0,162261.01,74896.33,0.0,144037.6,93522.2,0.0,0.0,106922.92,112972.57,123042.0,100488.92,123322.15,0.0,68683.68,59532.18,140260.36,88302.65,0.0,114655.58,148283.94,0.0,0.0,123916.67,0.0,0.0,165896.0,0.0,111168.97,103549.24,0.0,103804.97,165901.59,119152.1,122950.31,0.0,133384.66,0.0,0.0,158411.95,122028.65,0.0,128751.65,133436.52,123177.01,0.0,120328.88,130147.98,92716.96,0.0,0.0,76914.21,106045.92,103133.26,145974.79,0.0,0.0,0.0,0.0,0.0,139183.06,0.0,74974.89,61691.45,121952.75,0.0,0.0,0.0,80107.83,0.0,147856.82,0.0,65407.16,114233.18,0.0,187602.18,156834.34,0.0,157498.9,0.0,0.0,0.0,0.0,130274.22,0.0,149379.66,0.0,100829.94,96408.98,0.0,0.0,0.0,149105.08,0.0,0.0,0.0,90218.11,87347.7,0.0,137811.75,105563.0,0.0,0.0,91125.75,0.0,0.0,135120.56,0.0,0.0,86837.95,100446.57,0.0,0.0,0.0,114512.59,136364.46,106260.67,146126.75,111284.53,121056.63,128270.56,0.0,0.0,0.0,191775.65,0.0,85141.79,126392.18,0.0,129860.37,127642.44,0.0,125584.17,50911.21,91955.61,84266.44,147149.59,0.0,104822.45,146766.72,148745.92,0.0,0.0,0.0,135203.81,93301.97,96341.0,165326.2,0.0,99786.2,114440.24,141573.55,0.0,133676.65,147493.7,0.0,0.0,95022.57,0.0,0.0,149713.61,107963.38,0.0,0.0,0.0,0.0,102017.25,0.0,0.0,96674.55,81811.71,79281.61,0.0,122314.39,140733.74,116933.11,165445.04,123805.03,107548.94,111634.29,109153.96,0.0,86055.17,98438.23,0.0,144705.87,0.0,91612.91,0.0,0.0,192122.84,179904.0,178058.06,176166.56,156864.2,0.0,0.0,0.0,161588.89,109349.29,0.0,0.0,0.0,152335.7,124662.54,91522.04,0.0,62052.28,107871.72,99472.76,128039.01,0.0,114634.63,56738.47,90355.12,115725.24,114327.59,100762.64,0.0,89039.9,78829.53,112372.96,122029.15,157829.12,108377.75,95507.12,127146.68,133811.78,121092.47,126979.75,144235.73,152582.2,172478.15,126477.42,97473.87,138053.67,164003.05,0.0,0.0,122486.11,0.0,53667.44,0.0,109327.65,121151.05,101043.63,83501.66,80462.24,0.0,109093.41,140355.6,0.0,130170.82,0.0,109542.29,33563.95,148795.17,0.0,174126.75,0.0,106405.03,0.0,128393.29,127841.52,137295.19,155828.22,0.0,144351.86,106365.29,127801.88,122793.96,113525.84,136100.69,0.0,140916.81,0.0,121365.39,0.0,0.0,93578.68,0.0,115409.6,90791.69,123681.32,92436.86,167194.36,0.0,160838.13,0.0,144470.77,0.0,130169.27,0.0,81076.8,0.0,101465.31,0.0,113865.23,87603.35,120037.96,0.0,121205.15,75408.33,0.0,0.0,0.0,121818.84,0.0,141806.0,61354.14,124954.94,95039.12,103417.74,0.0,43028.77,119638.21,122689.51,0.0,73179.34,171913.87,0.0,92659.2,137239.17,102955.14,65190.29,96863.52,154983.98,106819.65,128578.52,126473.33,110570.78,0.0,0.0,0.0,0.0,111099.79,0.0,100913.57,0.0,16893.59,122267.85,125685.79,127397.34,105271.56,115265.14,0.0,0.0,139542.82,111512.75,148466.93,0.0,108155.49,0.0,84622.13,146997.64,0.0,98590.25,0.0,134980.74,108078.56,0.0,0.0,106836.67,102490.27,112746.54,125487.89,142862.21,0.0,0.0,79388.33,0.0,0.0,107784.65,142880.28,149571.94,142767.39,121537.71,0.0,0.0,89838.71,103399.87,0.0,136855.94,0.0,140891.46,0.0,89364.91,146011.4,0.0,145294.08,106000.12,0.0,0.0,104508.77,127539.3,0.0,96891.46,78535.25,112712.17,119618.42,0.0,74963.5,138023.79,0.0,185513.67,185648.56,102286.6,128015.83,39539.39,0.0,77608.46,141462.13,0.0,131691.33,93833.86,137933.39,105770.14,0.0,0.0,166328.65,164307.77,163965.69,125608.72,0.0,118433.94,98488.08,0.0,98362.35,144237.91,0.0,0.0,105767.28,0.0,0.0,0.0,134467.26,138515.02,128647.98,121858.98,0.0,120108.56,196853.62,121418.62,0.0,0.0,97495.8,0.0,127343.4,158633.61,0.0,183744.98,0.0,0.0,79962.92,0.0,0.0,140956.99,0.0,0.0,145241.63,138008.06,0.0,0.0,0.0,0.0,0.0,127570.93,0.0,107812.67,91560.58,121303.77,161546.68,128415.45,57530.06,0.0,142243.54,138341.51,0.0,0.0,0.0,146466.46,0.0,0.0,0.0,120307.58,87637.26,94652.04,114415.84,0.0,84315.02,0.0,93955.83,67087.69,101528.61,110824.52,0.0,179960.2,134006.77,121532.17,0.0,0.0,129717.3,94762.16,155196.17,129514.99,113386.36,0.0,172196.23,97612.12,104719.94,0.0,139592.98,0.0,139096.85,140301.72,0.0,0.0,111233.09,0.0,147737.63,0.0,125725.02,128289.7,0.0,88826.07,143443.61,0.0,0.0,149134.46,124119.54,116822.7,103219.47,0.0,81954.6,95196.26,0.0,0.0,136555.01,0.0,119452.03,0.0,69881.09,0.0,0.0,0.0,204223.03,110314.21,163760.82,141069.18,115934.74,151457.88,154206.07,89928.99,89182.09,79706.25,0.0,0.0,117799.28,0.0,0.0,146422.22,150186.22,100275.88,0.0,147493.89,0.0,0.0,121823.4,0.0,113688.63,100471.34,100032.52,0.0,116358.0,163549.63,99183.9,131955.07,134177.06,0.0,0.0,0.0,94348.94,155584.21,0.0,0.0,170661.47,185544.36,52831.13,97750.07,114007.5,104308.77,84719.13,0.0,140236.98,0.0,75302.85,0.0,104760.82,0.0,113693.0,174180.39,115766.26,0.0,0.0,121215.9,144677.19,115350.63,105683.63,135179.49,117551.23,157404.02,77910.23,110942.9,0.0,179305.09,150593.59,123815.86,0.0,69385.17,138032.15,0.0,0.0,143500.82,119670.18,99106.73,120135.55,0.0,120905.03,0.0,102277.52,125292.53,0.0,101629.3,171937.27,0.0,0.0,0.0,129743.75,0.0,151191.31,102630.13,114023.64,124227.14,0.0,80285.16,175477.15,132144.35,136911.07,133299.67,0.0,117691.0,0.0,0.0,133199.71,135506.58,127154.14,0.0,49508.79,0.0,75051.49,123925.23,0.0,153819.58,0.0,0.0,70417.79,111484.88,146343.98,160541.0,130274.26,98993.02,0.0,141827.33,110054.45,0.0,0.0,98088.09,118317.27,0.0,99774.5,0.0,0.0,133806.54,0.0,124993.29,157622.58,126111.61,161651.37,142856.95,111100.98,102918.38,0.0,0.0,0.0,125265.61,82500.28,175754.87,109387.33,100443.36,83102.72,0.0,0.0,0.0,115290.27,0.0,140197.71,105245.34,0.0,0.0,142296.13,99097.33,171069.39,0.0,102523.88,0.0,143391.07,106022.73,0.0,128960.21,0.0,0.0,0.0,126442.59,0.0,127261.35,0.0,0.0,0.0,73481.05,160515.37,149525.34,166522.78,135536.5,120481.69,103421.32,135658.73,0.0,191402.82,94504.35,126147.84,0.0,0.0,87624.03,153697.53,0.0,0.0,116585.97,134464.58,83008.31,113635.16,0.0,122552.48,118899.45,99713.87,0.0,134208.22,85906.65,137714.25,160777.9,0.0,0.0,102585.88,102556.18,126772.57,158373.23,0.0,141927.1,109876.82,0.0,111369.79,116969.35,136729.51,152086.15,0.0,127289.28,119852.01,0.0,0.0,0.0,117183.74,129907.63,0.0,145387.32,124616.23,0.0,95808.19,0.0,0.0,117152.3,106250.72,111837.78,97023.21,137687.72,113348.5,122109.78,120452.4,0.0,65812.35,54428.37,0.0,0.0,143279.58,103846.65,125190.86,0.0,38340.02,123802.98,96651.03,0.0,0.0,133237.21,142105.35,166115.42,81070.34,0.0,123835.52,123401.43,169377.31,130015.24,0.0,133936.04,114543.27,119794.67,0.0,0.0,0.0,157138.99,0.0,136733.24,82498.14,151914.93,80090.93,83739.32,181166.44,130588.82,0.0,94126.67,0.0,148045.68,0.0,0.0,168165.84,72835.56,0.0,123212.08,0.0,0.0,119501.88,144550.83,126729.41,119984.07,0.0,0.0,121490.05,91897.8,139443.75,144961.97,126041.02,69459.05,198338.77,0.0,109196.66,134168.5,0.0,0.0,0.0,0.0,120100.41,0.0,0.0,0.0,0.0,0.0,0.0,0.0,0.0,135559.8,150355.35,0.0,133489.12,105489.31,60205.2,0.0,0.0,0.0,0.0,0.0,0.0,112333.63,116936.81,117721.02,165896.22,153656.85,94164.0,0.0,191808.73,152199.33,125396.24,104405.54,133801.49,0.0,0.0,100047.33,109848.6,127849.38,0.0,95947.76,0.0,137638.69,0.0,0.0,0.0,0.0,89416.99,0.0,0.0,143262.04,119656.45,132954.64,105206.7,0.0,83061.26,147650.68,73348.56,0.0,0.0,116320.68,0.0,0.0,0.0,66250.71,95675.62,92616.64,0.0,0.0,100565.94,190305.78,118536.4,127649.64,165358.77,0.0,78249.53,125193.96,0.0,154007.21,133214.88,146202.93,0.0,90963.49,0.0,0.0,114386.85,0.0,0.0,0.0,137260.78,111060.05,124447.73,0.0,0.0,135310.41,0.0,0.0,0.0,139393.19,0.0,104258.8,0.0,113447.01,0.0,111063.73,161378.02,82766.43,0.0,104267.7,91718.8,63488.7,12459.19,159863.9,104592.55,132088.59,0.0,120654.68,0.0,83772.95,172325.67,117685.31,0.0,0.0,0.0,135871.5,0.0,128504.76,0.0,56228.25,98792.4,181768.32,101198.01,0.0,0.0,0.0,139064.06,104508.1,113948.58,0.0,0.0,0.0,117524.72,160389.82,0.0,125547.53,92783.68,97036.22,0.0,0.0,102145.13,113452.66,155681.72,127475.24,0.0,112751.13,0.0,144889.18,0.0,150126.44,69712.74,0.0,0.0,117438.92,119315.75,89571.59,102251.57,118546.71,0.0,103257.14,124209.02,0.0,150302.84,108653.93,85325.93,0.0,135776.36,131411.24,0.0,0.0,106431.97,90305.76,117466.03,148884.47,91115.76,77373.87,104744.89,0.0,91538.51,0.0,185734.75,143396.54,125909.85,0.0,154525.7,0.0,100654.8,83325.77,110934.54,113680.54,117020.08,145359.99,151391.68,123935.35,0.0,70291.02,166031.45,96643.32,0.0,0.0,0.0,0.0,0.0,97268.1,0.0,76296.81,0.0,64497.94,0.0,0.0,0.0,0.0,0.0,0.0,134249.7,0.0,105443.68,0.0,0.0,0.0,86147.46,96939.06,106758.6,112528.65,116563.58,0.0,0.0,141786.78,136416.82,0.0,133245.52,90757.64,92350.36,78778.49,102143.93,0.0,98459.6,114603.76,0.0,148074.79,0.0,108004.64,107712.57,0.0,0.0,145303.52,138476.41,127471.56,156551.63,97092.87,0.0,129312.79,100315.1,81684.97,88827.53,152092.44,0.0,0.0,102406.76,109130.96,0.0,75242.28,0.0,0.0,129142.54,0.0,139129.92,0.0,66483.32,62389.03,0.0,91857.66,0.0,0.0,176173.52,0.0,131834.76,92347.96,0.0,95297.11,0.0,0.0,123845.36,143426.34,0.0,112708.2,100013.51,208165.53,0.0,0.0,0.0,121685.31,111525.02,0.0,113546.3,95696.52,88963.31,144880.34,136576.02,63093.01,132271.12,88814.4,90594.55,141816.25,138547.97,52192.08,124976.19,0.0,104356.38,150315.92,129299.28,140950.92,128065.12,107433.48,117468.67,0.0,0.0,0.0,0.0,153040.03,142084.04,0.0,112079.58,132044.6,66582.81,0.0,0.0,0.0,102895.1,0.0,117578.35,198546.1,0.0,0.0,116623.31,0.0,0.0,0.0,105770.7,0.0,94435.45,112889.91,0.0,127940.47,129745.1,0.0,0.0,141535.52,139914.27,120243.49,91835.16,0.0,67178.19,0.0,115378.94,127786.28,0.0,64900.32,109172.88,0.0,114091.38,0.0,0.0,145933.27,131504.73,107926.02,112281.6,0.0,0.0,0.0,124781.67,132865.56,129055.13,96166.88,165298.12,0.0,120682.53,102773.15,144386.32,104449.8,137102.65,142475.87,0.0,103195.2,112070.44,0.0,96473.59,0.0,108437.89,153195.59,96877.21,0.0,0.0,95452.89,63873.56,148298.59,0.0,143258.85,121342.24,99152.73,0.0,68423.89,0.0,79656.81,0.0,110240.04,125321.84,0.0,84378.9,0.0,136281.41,119380.37,108716.59,0.0,0.0,106596.29,99546.25,0.0,0.0,112615.86,0.0,0.0,0.0,75381.15,0.0,0.0,0.0,123086.39,0.0,0.0,109472.47,155766.05,101985.81,96019.5,0.0,0.0,147900.43,100755.66,0.0,83036.05,125427.37,98202.76,72509.91,140393.65,142644.64,23503.31,145729.71,122295.17,0.0,119799.27,163708.58,61687.33,79144.34,0.0,104848.68,0.0,0.0,0.0,146652.01,0.0,0.0,130622.34,187013.13,0.0,0.0,0.0,98862.54,0.0,98443.14,0.0,0.0,123575.51,0.0,105239.1,110993.79,0.0,157691.98,105245.21,0.0,117687.35,0.0,123067.63,0.0,0.0,101457.14,100549.43,174588.8,121161.57,0.0,90063.74,0.0,134936.97,110495.27,133200.09,82596.8,103837.75,0.0,93590.47,104149.66,114141.64,117153.0,156353.46,175534.78,135637.0,0.0,0.0,0.0,83415.04,141859.12,132767.66,110635.32,177657.35,157777.58,107915.94,86568.75,137755.76,137262.71,0.0,0.0,0.0,116309.01,131244.65,125155.83,140691.08,58820.32,105099.45,0.0,168372.52,94682.56,0.0,0.0,0.0,146329.73,0.0,167962.7,0.0,0.0,0.0,116967.68,0.0,0.0,93244.42,0.0,0.0,0.0,80442.06,150561.03,0.0,125474.44,127076.68,0.0,128650.11,145580.61,0.0,144900.58,0.0,97588.6,0.0,0.0,122200.31,151709.33,0.0,122134.4,137260.45,88594.14,0.0,127205.32,96997.09,0.0,142200.19,160761.41,0.0,0.0,0.0,116234.61,155143.52,0.0,0.0,84009.47,139246.22,170113.0,0.0,145578.28,126273.95,162482.76,0.0,87814.89,113858.95,87612.64,0.0,106648.98,0.0,103653.51,116880.53,97990.49,150635.3,0.0,129674.89,0.0,83568.26,178144.91,147137.74,0.0,114370.41,108289.28,149887.49,170172.9,0.0,0.0,64808.32,62732.65,0.0,95167.55,152508.99,134644.19,0.0,51293.47,0.0,116622.73,0.0,198113.86,85646.81,0.0,141234.98,0.0,77641.99,0.0,117304.29,0.0,92340.69,146780.52,144974.55,0.0,0.0,0.0,115137.26,101952.97,164649.52,0.0,91956.49,0.0,123938.6,123571.77,120777.88,90248.79,0.0,0.0,106396.48,104887.43,72079.71,0.0,0.0,99844.68,0.0,156815.71,146034.74,152283.39,118897.1,96781.39,102772.67,0.0,0.0,150578.0,0.0,0.0,0.0,163548.07,148580.12,96709.07,106011.59,135650.88,111362.76,39344.83,130809.77,133009.51,135337.49,112536.57,122570.69,63562.02,0.0,100368.63,0.0,136082.0,114169.16,47884.92,0.0,0.0,202904.64,0.0,161807.18,110791.97,0.0,108755.0,0.0,0.0,117294.12,102251.14,0.0,0.0,132057.92,0.0,114285.2,0.0,76087.98,160272.27,114552.6,102000.17,0.0,137853.0,0.0,162318.61,140292.58,0.0,0.0,0.0,126431.54,123475.04,97652.96,0.0,137455.99,0.0,99046.31,0.0,105907.42,97720.35,0.0,97392.18,0.0,152812.58,139301.68,76319.64,125919.35,124348.38,117199.8,148384.64,113905.48,133476.09,117879.32,0.0,122359.5,0.0,108585.35,145875.74,121542.57,109508.68,146407.11,0.0,112330.83,90413.12,105302.66,0.0,0.0,121520.36,103960.38,102945.01,92760.55,0.0,134590.21,104255.03,0.0,0.0,0.0,121399.98,147127.81,125927.51,0.0,111599.32,0.0,0.0,114212.6,0.0,115251.64,0.0,107571.61,0.0,152367.21,130969.77,97738.97,0.0,113794.22,128396.33,118207.69,124730.26,0.0,136298.65,0.0,0.0,0.0,125724.95,0.0,0.0,0.0,95872.86,0.0,0.0,74260.03,123407.69,123783.91,0.0,153880.15,0.0,106301.85,0.0,0.0,138076.47,135422.31,0.0,126875.62,96381.68,119703.1,152102.18,127675.39,133776.86,72788.03,76226.9,163630.76,0.0,0.0,155423.17,98710.89,0.0,126683.8,140700.61,168078.83,107726.93,0.0,0.0,35741.69,98268.84,133800.98,125682.79,0.0,130428.78,0.0,0.0,0.0,137138.2,73112.95,152347.01,115144.68,0.0,137817.52,157332.26,0.0,124586.93,116980.78,128398.38,0.0,137657.25,167259.44,0.0,119009.57,80002.33,140211.88,118742.74,138207.08,148636.21,178827.79,83134.3,121513.31,95900.04,112543.42,0.0,141751.82,124140.57,116546.59,0.0,157576.47,0.0,141428.99,127510.99,0.0,0.0,81818.49,100895.54,63832.43,0.0,116085.06,0.0,0.0,115761.51,0.0,139626.01,0.0,115576.44,0.0,77647.6,0.0,148962.46,0.0,0.0,80542.81,0.0,0.0,102050.47,0.0,114948.76,136000.45,156001.68,147974.16,0.0,90402.77,0.0,0.0,0.0,162701.65,0.0,0.0,82453.96,100107.99,0.0,83348.89,96553.52,201009.64,125167.74,0.0,153313.67,0.0,125879.29,170057.62,0.0,131326.47,128472.8,160485.16,84445.68,115409.18,62400.48,143054.56,133628.09,107135.04,0.0,151659.52,0.0,155903.82,82940.25,112650.89,0.0,95853.39,82228.67,0.0,163700.78,106328.08,152992.91,116439.65,101352.78,0.0,105609.17,0.0,0.0,103894.38,139834.93,112518.71,115895.42,146408.68,165363.31,0.0,71843.15,105492.53,183027.25,131968.57,104118.5,0.0,125023.1,74323.2,109346.13,0.0,109698.41,0.0,127758.09,102645.48,93249.4,0.0,87779.83,0.0,138131.34,70362.52,0.0,168286.58,86102.27,115142.9,126597.89,0.0,157989.21,187997.15,172192.49,133105.47,0.0,0.0,0.0,192407.97,107199.75,115796.7,164858.18,117633.28,0.0,0.0,126663.51,140273.47,0.0,153344.72,123943.18,0.0,98630.31,58036.33,0.0,109200.74,0.0,0.0,0.0,83173.98,0.0,0.0,82559.42,73494.21,132450.24,128663.9,79951.9,132508.3,120530.13,74988.59,94722.88,0.0,71269.89,98612.1,138033.55,91621.69,140014.42,126815.97,139663.37,0.0,165312.27,0.0,0.0,123699.28,97325.15,97041.16,0.0,104129.24,0.0,104367.5,135369.71,112119.48,123760.68,0.0,0.0,0.0,0.0,0.0,0.0,0.0,152160.21,0.0,0.0,0.0,172381.8,106116.56,141952.07,0.0,138497.84,0.0,124213.36,126872.6,0.0,0.0,120923.52,142643.54,79857.64,95502.21,0.0,197715.93,85859.76,85304.27,132371.3,0.0,0.0,79896.0,0.0,0.0,0.0,146587.3,0.0,0.0,109109.33,0.0,0.0,142147.32,0.0,0.0,0.0,109106.8,112262.84,0.0,0.0,144238.7,159397.75,125385.01,69365.25,155271.83,197200.04,144837.79,0.0,0.0,163085.79,125903.22,154377.3,107511.52,127406.5,143656.55,138106.75,128940.24,114453.58,0.0,0.0,131762.94,0.0,150300.65,108935.39,135847.47,109908.06,142946.18,104339.11,157274.36,98848.19,105103.33,0.0,127120.62,0.0,129118.5,0.0,0.0,146053.66,124577.15,151012.55,216109.88,144318.97,0.0,0.0,27517.15,147092.65,92246.14,0.0,148897.02,0.0,0.0,138335.96,92895.56,160736.63,0.0,0.0,107141.27,0.0,132446.08,92053.0,96798.79,134498.54,132387.91,147171.2,100524.69,0.0,138214.5,0.0,0.0,0.0,128743.55,122647.32,79263.9,0.0,121389.78,123906.55,143006.7,157597.61,127117.8,117103.26,102989.83,145118.83,126076.24,0.0,0.0,98186.7,0.0,0.0,0.0,129335.65,75801.74,0.0,159316.64,96479.81,117726.33,0.0,122351.29,0.0,0.0,0.0,0.0,132598.38,119272.29,0.0,0.0,106415.57,0.0,127772.1,104631.67,0.0,0.0,118050.79,0.0,136093.74,88477.36,161572.24,126608.37,68332.96,179852.26,0.0,104763.41,88541.57,162888.73,0.0,0.0,0.0,0.0,0.0,0.0,92474.05,0.0,115479.48,87098.91,86351.85,0.0,148843.56,163714.52,0.0,94153.56,162702.35,129255.2,90605.29,0.0,102787.42,120145.96,63723.78,159203.71,0.0,0.0,0.0,0.0,162691.16,127806.91,157960.49,139493.25,87096.82,84944.58,160139.59,0.0,0.0,0.0,0.0,94615.11,90727.79,119545.48,118311.76,129574.98,148163.57,117154.9,154251.67,0.0,65667.79,0.0,50194.59,96748.89,0.0,132667.17,0.0,127087.06,125566.9,106074.89,137367.94,157658.36,114422.85,103154.66,0.0,149592.14,133903.12,84587.9,197436.82,104254.27,140133.08,0.0,136980.23,120568.41,43658.33,0.0,0.0,72092.95,0.0,0.0,181821.96,90920.75,0.0,0.0,0.0,0.0,0.0,94920.71,113939.36,0.0,0.0,110666.42,0.0,141819.02,156974.26,151215.34,116318.23,113882.33,0.0,127253.98,100062.39,0.0,126605.14,106942.08,0.0,88594.93,123737.04,110752.15,0.0,0.0,0.0,0.0,0.0,125889.3,78314.63,206329.65,145536.9,77082.65,145081.73,115897.73,108058.07,191523.09,0.0,91187.9,0.0,113958.55,147167.25,82916.48,0.0,0.0,57098.96,115341.19,165257.2,0.0,0.0,68799.72,116120.19,0.0,84102.11,0.0,0.0,0.0,0.0,104013.79,120822.86,128389.12,102800.72,135470.9,90145.04,0.0,161801.47,99660.13,123081.84,102870.93,151105.68,163856.76,0.0,127290.61,180614.04,55053.62,96110.22,106521.49,82255.51,0.0,102395.79,118201.41,44582.07,0.0,0.0,105522.06,123936.54,0.0,119499.42,135814.7,0.0,106259.63,0.0,115463.16,0.0,120233.83,0.0,81132.21,122196.99,112290.22,0.0,0.0,154409.74,0.0,132759.8,76705.87,0.0,0.0,0.0,125961.74,49572.73,103015.12,0.0,104001.38,87116.71,82547.11,0.0,121325.84,111167.7,139714.4,139875.2,113063.83,138340.06,114974.24,0.0,0.0,117325.54,0.0,0.0,0.0,0.0,0.0,0.0,0.0,78737.61,182876.88,130023.38,152606.82,0.0,167268.98,167831.88,144287.6,151855.33,0.0,0.0,155994.15,147527.03,0.0,100267.03,83287.05,0.0,0.0,117438.17,121235.05,129965.18,150836.92,0.0,163894.35,0.0,0.0,0.0,87967.42,0.0,0.0,121093.29,121691.54,0.0,154121.32,0.0,0.0,0.0,165048.5,0.0,127638.35,0.0,135290.42,170252.05,108269.2,0.0,145623.36,145809.53,130334.84,0.0,0.0,0.0,0.0,111009.32,0.0,157371.54,0.0,134560.62,0.0,72373.62,109564.1,132116.13,101195.23,149436.73,130682.11,115280.49,129944.39,0.0,0.0,151802.29,0.0,138731.95,155621.08,150005.38,0.0,64430.06,106261.63,0.0,132670.53,0.0,117314.92,145874.35,146777.44,109978.83,0.0,108881.73,0.0,112957.26,103362.14,89015.61,133618.01,93680.43,97486.15,137794.18,101928.51,0.0,0.0,79585.96,161884.99,129068.54,0.0,132623.76,121461.87,175307.32,136658.61,146584.19,0.0,131414.76,0.0,99441.21,0.0,0.0,0.0,181110.13,100476.46,51949.95,121063.49,88441.64,127023.39,144147.68,173306.13,0.0,106425.75,135392.31,0.0,152685.4,82083.52,131629.17,0.0,108477.27,114779.35,57568.94,0.0,0.0,0.0,110559.46,0.0,0.0,0.0,128152.82,120961.5,129472.33,105000.23,109339.17,55328.4,72012.76,110480.48,132439.99,0.0,94108.54,105173.99,0.0,131959.86,0.0,122952.9,107379.68,122641.56,0.0,124037.28,117565.03,133189.4,120252.02,152264.81,105069.98,115076.06,0.0,117280.23,110540.43,135095.47,187861.18,124655.59,0.0,134105.01,0.0,0.0,83693.34,114631.23,128601.98,91258.52,70416.75,0.0,0.0,0.0,88294.6,0.0,93577.3,136650.89,98765.84,84309.57,136258.06,0.0,131160.85,145222.99,98141.57,0.0,102282.61,116121.84,190066.54,149349.58,155176.83,98986.28,147726.98,0.0,144852.06,89299.81,0.0,97663.16,95161.75,154586.92,127095.14,92526.15,107362.8,0.0,127286.04,0.0,0.0,139930.18,77949.69,121405.04,124580.69,133087.76,0.0,0.0,0.0,103741.14,98877.95,105843.26,77526.66,0.0,0.0,105264.88,0.0,110150.43,0.0,0.0,0.0,138166.3,122265.24,133295.98,0.0,148326.09,68927.57,139914.6,118723.11,106957.28,190238.93,113537.73,101090.27,0.0,0.0,0.0,168920.75,111589.67,172310.33,118028.35,147910.3,131287.36,121276.32,109869.32,97435.85,0.0,133853.27,109528.16,84607.34,101438.0,0.0,113657.83,189318.16,99513.91,97585.32,0.0,0.0,136659.74,85755.86,0.0,0.0,51690.89,0.0,111669.68,154741.45,125681.51,155303.71,140681.68,71902.52,146606.6,123949.75,144753.21,91285.22,0.0,125850.53,108116.66,0.0,67639.56,150200.23,141287.15,0.0,0.0,0.0,97157.96,0.0,125241.17,128966.13,152581.06,0.0,142688.57,130089.56,0.0,117094.02,0.0,0.0,0.0,90218.9,194532.66,169743.83,0.0,155973.88,129321.44,138650.49,136487.86,0.0,38617.2,0.0,82909.14,145151.4,147187.84,0.0,108185.81,0.0,0.0,0.0,105918.1,0.0,0.0,0.0,59972.26,157228.61,0.0,0.0,210433.08,102452.71,0.0,142987.46,143330.56,0.0,120165.4,0.0,0.0,66573.17,102833.46,164757.56,153610.61,0.0,0.0,169025.83,153455.72,0.0,153972.89,114609.55,143625.83,116520.28,80926.02,166594.78,115465.98,0.0,0.0,92618.62,141825.88,149594.02,130051.66,0.0,0.0,158468.76,161889.79,133681.78,0.0,187294.46,0.0,0.0,119706.22,0.0,138523.2,90778.76,99353.42,111524.49,128645.67,117458.51,129189.15,121260.19,94231.13,0.0,163757.06,0.0,0.0,141005.47,105356.09,0.0,85897.95,0.0,164672.66,99169.67,0.0,0.0,124053.03,0.0,103499.09,151766.71,0.0,101486.96,123601.56,127201.58,144962.74,0.0,122017.19,100262.88,117302.62,135984.15,0.0,160997.54,128389.63,0.0,130554.51,90212.0,71996.29,85615.66,62339.81,142319.03,0.0,0.0,87413.19,0.0,0.0,97560.16,141787.31,129934.64,166178.02,163097.55,0.0,0.0,151958.19,0.0,118400.91,0.0,116322.27,0.0,0.0,143138.91,0.0,0.0,129804.17,108308.11,110153.27,116377.48,117791.06,0.0,105419.73,99219.47,119327.93,83947.12,99883.16,165438.26,156111.24,111095.58,119963.45,0.0,153137.74,156111.08,113014.7,132615.73,102016.38,0.0,0.0,0.0,0.0,80380.24,108909.12,90865.8,99799.76,200724.96,140363.95,151844.64,0.0,133231.48,0.0,126598.99,113317.1,0.0,93173.88,0.0,105007.31,0.0,0.0,131593.85,119530.52,118614.6,95829.13,0.0,0.0,153590.73,0.0,113109.52,130557.24,93183.19,151933.63,125495.64,0.0,118547.72,97792.21,0.0,0.0,167181.01,121355.19,0.0,0.0,113226.47,118392.75,145262.54,163505.16,118114.28,108449.23,0.0,103294.56,0.0,0.0,0.0,119919.12,0.0,0.0,0.0,0.0,0.0,0.0,0.0,128744.04,137727.34,106731.58,123544.21,133968.96,126534.6,0.0,87609.68,0.0,0.0,0.0,108960.0,0.0,144953.31,103544.88,0.0,0.0,101487.18,105355.81,77967.5,0.0,0.0,120047.77,175464.85,79475.3,167735.69,0.0,74385.98,94754.0,0.0,86920.86,132077.48,127847.86,0.0,176702.36,83555.58,0.0,0.0,0.0,0.0,96858.35,0.0,0.0,132796.04,154970.54,88902.21,98738.92,0.0,0.0,137456.28,0.0,73937.02,158621.04,113257.2,0.0,116536.43,0.0,101070.69,0.0,127331.46,0.0,0.0,105969.42,119547.46,0.0,138668.18,51582.5,0.0,169902.92,87262.4,0.0,0.0,0.0,0.0,0.0,0.0,0.0,0.0,150348.37,115074.02,0.0,99986.98,110357.0,166685.92,95312.8,202443.47,109493.62,88977.39,104982.57,154110.99,185714.28,116022.53,0.0,164011.48,0.0,101514.89,0.0,0.0,134599.33,147511.26,78396.08,0.0,110581.29,151836.36,83624.55,148197.15,122924.75,72594.0,115221.36,117808.74,147754.68,0.0,113292.17,0.0,115163.38,118098.62,0.0,0.0,120825.7,0.0,0.0,133845.28,0.0,108541.04,0.0,0.0,113817.06,137300.23,158024.38,127837.54,161533.0,161171.7,80958.36,0.0,146193.6,0.0,115021.76,126773.43,92889.91,0.0,146622.35,131038.14,88820.29,115406.97,132951.92,108891.7,141788.63,116954.32,90450.0,125997.22,0.0,0.0,0.0,144637.86,86616.35,0.0,127924.25,0.0,131240.61,0.0,120046.74,97819.36,62979.93,0.0,161450.03,0.0,119496.25,0.0,43772.66,100249.41,0.0,108028.08,53013.29,0.0,122088.67,90544.0,0.0,141252.18,147813.05,134140.68,0.0,0.0,128548.49,122198.21,145177.84,94222.53,143212.22,0.0,143350.41,130931.83,137851.31,0.0,0.0,0.0,140614.15,118680.57,122917.69,0.0,131754.11,0.0,0.0,119948.09,0.0,0.0,0.0,97266.1,113690.83,99056.22,0.0,116338.68,97339.99,0.0,137592.31,108760.27,128770.88,0.0,44054.84,119657.53,108797.63,0.0,102025.32,122446.61,158786.67,125689.29,154640.41,146710.76,136709.35,129305.09,0.0,0.0,82844.33,0.0,0.0,76692.22,117715.84,87105.32,0.0,69311.16,0.0,66948.67,0.0,128410.71,99897.53,0.0,152622.34,0.0,138227.19,111395.53,84386.57,0.0,174673.65,0.0,109019.65,107906.75,128914.97,111179.83,124099.13,122471.09,134692.4,123816.5,106288.54,127723.25,145843.82,148200.72,104145.65,142755.25,81245.79,168560.46,0.0,132193.94,0.0,139330.1,0.0,0.0,134571.5,143829.2,0.0,133444.97,104753.84,116574.84,0.0,176914.8,68348.18,0.0,56726.83,65269.23,66220.17,0.0,96147.55,0.0,0.0,145330.43,0.0,124192.28,111288.18,107805.67,103700.69,0.0,0.0,87739.08,133313.34,0.0,154902.66,0.0,112595.85,119695.75,0.0,0.0,152614.51,131647.01,96654.72,137583.04,62717.84,95377.13,135936.1,161591.11,142382.03,0.0,0.0,127043.09,0.0,78885.88,95922.9,0.0,91711.59,110031.09,81210.72,122947.92,182065.85,0.0,69974.66,123711.73,76495.04,0.0,0.0,121874.89,0.0,188455.19,99045.93,0.0,205770.78,79340.95,138456.03,0.0,101099.9,0.0,109219.83,123276.69,113034.31,0.0,129548.5,74812.84,0.0,0.0,153538.13,0.0,0.0,155619.36,159693.9,171653.17,47685.47,0.0,0.0,123692.0,148853.29,133161.95,143221.35,0.0,0.0,0.0,126265.88,0.0,112713.34,141173.03,0.0,0.0,118866.36,0.0,0.0,92316.31,122185.53,123345.85,73070.18,0.0,95120.59,102800.65,97072.42,132876.55,0.0,0.0,0.0,0.0,51962.91,98759.89,156570.86,0.0,159024.71,73493.17,0.0,69617.36,136526.26,113736.27,106723.28,138847.9,0.0,107868.14,96926.12,77599.23,178787.54,0.0,129668.43,146178.13,0.0,0.0,154763.21,116251.24,0.0,100954.88,124620.01,0.0,112701.04,84692.5,108204.52,86449.39,0.0,73194.99,124593.23,119655.77,121765.37,110837.73,99835.17,91057.37,0.0,149400.27,89111.63,132527.9,114997.42,161798.53,96129.32,0.0,133050.97,120124.35,0.0,133705.74,0.0,0.0,152805.05,151701.45,0.0,112465.06,156007.09,132405.52,142662.68,102603.3,0.0,0.0,105000.85,0.0,69518.95,126145.54,138937.35,113581.98,112572.39,114514.71,0.0,0.0,84906.45,126816.18,105249.76,0.0,109387.9,122478.51,137732.23,157866.77,0.0,136789.14,0.0,144684.03,107065.31,91301.72,207034.96,0.0,0.0,0.0,0.0,0.0,0.0,0.0,92472.1,0.0,127738.75,101242.98,92599.55,0.0,0.0,82373.94,141356.47,0.0,72664.0,123365.34,121898.58,0.0,103696.97,0.0,74129.18,0.0,185379.02,118087.68,109402.13,130367.87,108410.87,90408.16,90425.15,140094.59,0.0,95439.4,204017.4,0.0,137115.16,134740.19,0.0,98955.87,49157.09,130240.33,108019.27,126725.25,96693.66,129810.6,156652.13,0.0,130661.96,0.0,0.0,130747.1,106629.49,112029.83,130575.26,96679.71,0.0,171740.69,0.0,100116.67,120596.93,0.0,95984.69,142557.11,0.0,0.0,143644.16,132129.72,0.0,183555.24,91902.56,156218.19,93259.57,168085.38,107714.74,117852.26,0.0,84474.62,0.0,126803.34,0.0,68806.84,115141.18,0.0,90723.36,151249.45,0.0,94752.49,0.0,0.0,132084.66,0.0,0.0,45472.28,0.0,130229.71,123948.85,127415.85,110067.71,65521.2,0.0,0.0,155736.42,0.0,118307.57,0.0,103099.17,0.0,125789.69,109646.83,127187.86,0.0,0.0,130385.82,107787.47,99325.04,0.0,123764.95,128264.03,86006.21,57068.43,103607.24,99004.24,0.0,147386.72,93608.28,0.0,119496.87,0.0,0.0,0.0,152885.77,99607.37,137003.68,122831.58,99811.44,154712.58,0.0,147687.24,0.0,127009.83,124737.96,179356.28,0.0,127320.36,125175.58,186788.96,148556.74,128644.46,127476.73,159561.93,112419.92,129991.76,0.0,0.0,0.0,89175.06,0.0,162390.52,190353.08,0.0,0.0,139180.97,114435.47,149950.19,126115.6,111396.97,115007.08,102141.9,133686.52,120879.73,0.0,82321.88,0.0,116474.28,132352.69,182491.57,0.0,120787.18,130181.47,88348.43,0.0,146186.28,0.0,104488.17,109196.67,80538.56,109026.8,61319.63,0.0,0.0,177822.03,110939.3,165413.43,77805.66,0.0,175575.95,124197.22,0.0,160132.75,70258.88,162657.64,132217.45,148042.97,92855.02,129289.98,100252.18,107592.89,113096.41,0.0,149940.04,121438.58,0.0,0.0,148874.01,68138.37,110080.3,0.0,114268.85,117412.35,0.0,0.0,35549.81,0.0,136492.92,123675.69,139532.34,178713.98,0.0,89086.31,96143.47,32197.64,0.0,0.0,0.0,0.0,140306.38,0.0,0.0,74483.97,0.0,0.0,152303.66,159904.79,0.0,99557.94,116886.59,142188.2,149961.99,0.0,0.0,0.0,28649.64,81025.6,0.0,152462.79,0.0,155519.59,118851.05,92899.27,0.0,75263.7,147904.31,106640.5,90696.78,175509.8,0.0,0.0,114321.28,95560.04,88379.81,85915.52,72309.3,0.0,0.0,0.0,0.0,0.0,133844.22,154872.08,0.0,116121.67,107104.5,71026.77,0.0,0.0,0.0,0.0,0.0,145644.05,129667.77,109341.87,0.0,0.0,0.0,87485.67,0.0,53369.13,0.0,146679.77,112499.42,48387.0,68079.8,160133.88,66190.33,0.0,123761.68,122325.58,0.0,138912.17,0.0,128524.19,0.0,0.0,132934.89,150805.17,0.0,0.0,165969.26,124495.98,141559.5,114756.14,0.0,155393.98,0.0,128663.81,113522.64,0.0,0.0,79035.95,0.0,141918.09,107944.33,0.0,120043.13,125191.69,96399.31,0.0,76961.6,98675.74,126817.13,121394.42,106059.4,112755.34,0.0,0.0,145400.69,72647.64,0.0,96340.81,0.0,124450.36,113877.23,0.0,148667.81,0.0,111065.93,0.0,158697.61,0.0,0.0,90044.32,84651.79,102128.27,148846.39,154953.94,108883.29,112070.86,131354.39,132746.2,0.0,125211.55,0.0,139422.37,0.0,157099.47,0.0,83600.24,0.0,81795.74,129378.32,0.0,0.0,99339.0,0.0,74430.1,91241.85,99092.45,0.0,100062.16,98723.67,0.0,128760.32,144772.69,0.0,71281.29,117035.89,0.0,3768.69,108913.84,101100.22,110615.47,152143.89,121797.09,109798.25,122403.24,145860.98,0.0,0.0,105086.74,114991.45,96769.04,0.0,0.0,132725.1,0.0,0.0,0.0,84557.82,93817.41,113913.53,140406.68,105229.34,0.0,137891.35,0.0,0.0,165252.52,0.0,0.0,0.0,122034.4,0.0,118962.58,0.0,71379.53,171178.25,131307.11,0.0,87099.85,183135.39,0.0,0.0,0.0,0.0,72535.45,128137.42,0.0,115915.53,0.0,0.0,107000.49,0.0,0.0,152806.74,92887.06,0.0,114940.67,140641.26,71816.74,0.0,165282.42,143145.87,114731.76,113909.69,116695.27,0.0,0.0,0.0,93978.96,121968.11,97324.91,0.0,0.0,0.0,145155.37,137222.77,0.0,114268.22,0.0,0.0,150490.32,160858.13,170288.38,111568.01,83889.03,171982.95,0.0,137624.4,121159.65,0.0,0.0,91184.01,0.0,144027.8,0.0,140170.61,62092.9,0.0,0.0,0.0,103516.87,0.0,0.0,0.0,0.0,85162.26,143061.88,0.0,137388.01,137712.01,106901.42,105603.21,150679.71,108300.27,52016.08,60515.13,158584.28,118812.5,0.0,0.0,91219.29,0.0,76318.64,0.0,0.0,111432.13,150148.51,38550.06,119013.86,111213.64,71097.23,109632.85,148368.02,148600.91,71083.98,139625.34,0.0,0.0,81564.1,0.0,124540.28,133616.39,101648.5,124281.84,0.0,0.0,183613.66,136186.44,137682.68,106005.54,152310.55,0.0,134446.04,142289.28,0.0,0.0,149003.76,131341.46,77919.78,0.0,108309.0,0.0,0.0,115462.02,0.0,122739.1,0.0,113781.5,0.0,0.0,128284.45,120591.19,0.0,166968.28,0.0,0.0,0.0,71667.97,82729.47,0.0,0.0,0.0,129626.19,114035.39,151922.94,0.0,107751.68,0.0,101179.23,0.0,0.0,0.0,58571.18,153058.64,98270.34,130788.71,99165.84,0.0,0.0,115636.05,185932.18,72549.0,0.0,0.0,0.0,121890.06,99786.07,0.0,115084.53,0.0,127661.69,118907.6,77627.33,160625.17,0.0,124266.86,127974.06,0.0,0.0,104911.35,0.0,0.0,110646.54,0.0,126704.49,0.0,84560.04,0.0,129893.56,167385.81,0.0,105858.71,123070.89,0.0,0.0,0.0,125141.24,96173.17,0.0,0.0,0.0,127543.11,0.0,0.0,103101.56,126113.28,40488.76,137389.77,85146.36,129828.58,80214.36,0.0,141796.43,195238.29,111348.15,0.0,0.0,64404.26,154309.67,129431.36,134204.67,0.0,0.0,0.0,116711.06,0.0,54980.81,99773.85,101231.77,117070.21,73314.04,0.0,212314.03,136067.82,109052.04,79126.17,0.0,108308.0,102290.56,102025.08,113383.07,102541.1,0.0,0.0,109941.51,141749.68,0.0,0.0,85146.48,134066.1,0.0,0.0,87619.29,0.0,0.0,0.0,103409.16,123040.38,108128.52,169023.33,0.0,0.0,0.0,222267.63,144090.42,114835.43,0.0,145030.92,71240.3,138772.15,93617.07,0.0,0.0,74237.2,127421.78,61274.7,106486.66,73194.52,146498.76,0.0,0.0,0.0,120355.0,117265.21,0.0,0.0,109974.22,98009.13,0.0,0.0,171671.9,0.0,0.0,128213.96,116197.65,0.0,86607.39,0.0,98854.34,0.0,0.0,97338.19,0.0,0.0,131698.57,130110.45,0.0,165149.13,101707.8,105588.66,111336.89,78391.17,0.0,0.0,144326.09,101278.25,108711.57,108555.07,146781.24,0.0,0.0,0.0,0.0,103291.25,209490.21,0.0,0.0,0.0,0.0,0.0,149405.18,191665.21,0.0,135071.12,0.0,0.0,181804.34,47020.65,128518.98,142658.04,120150.39,81905.95,137998.2,123126.29,0.0,135645.29,122449.31,161766.87,0.0,123187.51,150956.71,105021.28,0.0,133204.91,0.0,115488.52,0.0,0.0,0.0,0.0,130565.02,91328.71,0.0,81310.34,107136.6,0.0,0.0,0.0,108477.49,144757.97,0.0,113110.26,106414.57,106920.91,0.0,131513.26,0.0,134320.23,79715.36,74306.19,0.0,126428.38,99640.89,66338.68,0.0,128226.37,0.0,0.0,0.0,0.0,122168.65,178074.33,135078.41,69434.4,0.0,0.0,122726.56,164496.99,0.0,150219.41,187534.79,0.0,0.0,103108.17,96486.57,90560.48,131764.96,92476.88,152076.93,0.0,0.0,43504.42,0.0,0.0,93569.86,102486.21,0.0,114346.3,110203.77,128362.59,143888.22,170600.78,0.0,0.0,75339.64,122038.34,0.0,186825.57,124788.18,0.0,0.0,138553.57,0.0,105387.89,95053.1,0.0,0.0,137361.96,158537.42,0.0,143595.87,169947.41,148167.83,0.0,48023.83,155655.46,0.0,0.0,0.0,121240.76,0.0,0.0,129847.75,118772.71,0.0,105163.88,0.0,0.0,0.0,93934.63,117866.92,0.0,122857.46,0.0,127103.97,0.0,96402.96,132512.26,107604.66,0.0,0.0,120875.23,71786.9,113143.12,150777.72,174894.53,0.0,160416.56,91246.53,0.0,0.0,98775.23,139756.12,177626.77,0.0,0.0,0.0,152496.82,0.0,112930.28,113674.2,0.0,144450.58,171236.3,96776.49,145984.92,96353.8,0.0,115777.23,122822.0,0.0,0.0,79450.09,122394.0,0.0,134378.89,0.0,88161.85,142412.13,121030.9,165982.43,0.0,206663.75,94661.53,174400.36,123428.69,175735.5,78381.13,115345.86,118613.34,109960.06,142703.4,121729.42,0.0,139496.35,0.0,138521.83,0.0,83727.68,0.0,0.0,124179.3,128829.25,171490.78,0.0,0.0,0.0,0.0,160818.08,156367.6,121669.93,133970.22,0.0,96127.27,121907.97,0.0,0.0,77701.64,0.0,0.0,113922.44,183997.7,0.0,0.0,89799.46,0.0,85660.96,115569.21,81828.22,132694.73,108867.0,0.0,0.0,96152.68,153855.52,0.0,141334.95,104584.11,98173.02,0.0,135157.05,171601.27,179539.2,80615.46,0.0,126285.73,137964.51,159434.03,113574.61,0.0,124573.33,105864.6,104552.61,0.0,0.0,0.0,119492.88,130499.09,140576.11,91025.58,0.0,125877.65,45752.78,121778.71,127948.57,0.0,115286.68,62078.21,0.0,175406.13,131643.25,151739.65,93616.35,138597.54,0.0,0.0,85225.21,148749.29,130013.12,0.0,0.0,111729.47,180169.44,0.0,0.0,0.0,0.0,0.0,103914.17,88772.87,0.0,131184.67,117810.79,0.0,92466.21,102741.15,178755.84,0.0,146602.25,0.0,0.0,115702.67,137655.31,0.0,59877.33,100082.14,107304.39,0.0,96032.22,0.0,144553.5,86172.81,0.0,87212.8,0.0,130700.92,0.0,0.0,0.0,171325.98,92930.92,0.0,77556.79,102874.28,146093.39,0.0,79811.72,105473.74,121927.92,61671.19,149363.12,152309.37,0.0,111629.29,0.0,96296.78,95830.43,135919.33,185966.64,0.0,0.0,92244.83,112727.06,100359.54,105301.5,112994.65,89025.88,95478.17,0.0,119127.46,128206.79,0.0,71433.08,118214.32,102258.11,151963.26,163764.84,128551.36,118158.74,118520.41,0.0,163823.37,104469.58,0.0,0.0,141726.88,137852.96,0.0,154100.3,0.0,0.0,0.0,140004.96,127132.96,0.0,125328.56,0.0,139986.65,119787.76,107556.06,0.0,0.0,142705.95,0.0,0.0,161613.94,116353.2,60013.81,0.0,144272.07,0.0,117696.67,79954.61,149989.39,124339.9,135759.4,0.0,83074.0,141792.61,0.0,0.0,106870.12,120962.59,0.0,0.0,110527.17,133723.43,112670.48,0.0,116084.32,0.0,0.0,0.0,82441.75,0.0,134171.8,0.0,0.0,124442.38,0.0,0.0,108862.76,141099.43,128843.67,86843.61,120074.97,130231.8,0.0,109724.38,111743.43,121309.17,82697.28,44301.43,138317.94,120688.61,176913.52,89047.14,114318.78,0.0,94753.55,0.0,0.0,106520.73,134006.39,132837.7,120549.29,139432.55,80895.44,0.0,171646.76,109121.71,109844.81,140931.82,0.0,0.0,101543.51,102708.77,149000.91,83459.86,75893.11,167395.6,0.0,71283.09,0.0,0.0,104016.88,127616.56,154737.88,0.0,125476.31,176511.08,110783.28,141642.92,0.0,0.0,75681.52,0.0,0.0,161111.45,0.0,72494.69,133964.3,0.0,0.0,157201.48,95679.29,106230.92,0.0,81231.85,81480.27,73059.38,117559.05,186445.31,137657.71,133889.35,134562.8,100781.75,174356.13,190125.43,146266.0,164046.1,123536.52,0.0,171848.38,0.0,139562.05,0.0,168001.34,0.0,123356.63,0.0,125845.66,45408.85,125977.81,147262.11,133767.19,108806.96,106036.52,0.0,0.0,0.0,82182.1,0.0,76817.0,142550.25,0.0,103711.56,0.0,128369.75,0.0,0.0,166133.28,148214.36,121206.96,0.0,127552.85,159458.53,102085.72,142537.18,182781.74,0.0,0.0,0.0,152063.59,110997.76,148942.0,0.0,84438.57,93920.47,158713.08,0.0,123204.88,72945.29,178742.71,0.0,0.0,0.0,0.0,0.0,140121.17,132906.88,179334.83,137179.39,0.0,119960.29,127414.55,0.0,137409.19,0.0,0.0,0.0,112494.99,78133.15,0.0,145553.07,123593.22,0.0,146286.22,111827.27,0.0,94416.78,91549.78,59568.57,94464.81,0.0,95368.14,102185.42,144875.71,0.0,0.0,113291.05,0.0,0.0,111677.88,131101.04,76101.81,0.0,92510.9,0.0,77652.4,98360.03,115518.07,27288.43,0.0,0.0,0.0,131996.66,121580.42,132436.34,0.0,107978.4,78119.59,98684.15,0.0,0.0,129264.05,131753.41,0.0,0.0,57422.62,0.0,144094.2,147510.34,161592.76,0.0,0.0,75225.53,0.0,87542.89,144581.96,122568.05,172231.93,171932.26,0.0,0.0,111798.06,0.0,79336.61,120916.52,142905.51,0.0,96834.78,105261.76,123544.0,127913.71,95328.6,73218.89,0.0,149995.72,123674.28,124125.26,159035.45,0.0,156811.74,0.0,0.0,150555.83,109137.12,158351.02,0.0,0.0,0.0,0.0,0.0,0.0,0.0,0.0,82729.49,142765.24,121172.97,132932.14,123374.46,161371.5,0.0,79563.36,0.0,138232.24,0.0,81571.05,0.0,95927.04,116932.59,0.0,79551.12,116416.94,88141.1,177729.13,0.0,123912.78,0.0,0.0,108306.44,102962.62,103502.22,119654.44,183768.47,0.0,0.0,140900.97,94049.92,98926.4,142872.36,46057.96,119769.77,143244.97,79562.98,0.0,0.0,96659.64,0.0,165947.99,92676.3,83195.12,129387.94,0.0,130233.14,123502.53,140894.06,163867.86,0.0,93816.7,0.0,0.0,114668.89,146756.68,150213.71,111183.53,99816.46,0.0,0.0,0.0,0.0,0.0,86714.06,0.0,132838.07,128707.31,0.0,0.0,123192.12,115248.11,59360.77,0.0,112668.7,138503.51,0.0,0.0,0.0,0.0,157267.95,133871.05,141989.27,0.0,0.0,46388.16,148666.99,115101.5,148363.38,0.0,144102.32,128876.71,118448.15,0.0,0.0,0.0,135979.01,117271.8,0.0,0.0,0.0,129205.49,0.0,0.0,104015.54,0.0,0.0,103873.39,112383.03,117731.79,135827.33,114135.17,0.0,118756.62,98382.72,100520.92,79858.13,0.0,95052.29,177728.55,83116.68,111565.91,83015.71,124511.01,130652.52,0.0,0.0,121854.45,0.0,86893.28,79523.13,131033.76,89939.62,95727.05,0.0,155047.56,0.0,118569.03,0.0,0.0,0.0,0.0,130461.02,0.0,0.0,0.0,0.0,61172.04,90194.34,95508.2,99967.76,101470.29,70541.06,112211.61,154543.98,111098.85,131873.07,137275.36,153316.14,0.0,121250.04,109578.04,53573.18,58003.41,113000.66,0.0,0.0,139973.65,151290.16,121498.11,103515.39,0.0,0.0,106687.76,0.0,0.0,106089.2,69608.14,0.0,96202.32,0.0,0.0,127818.52,0.0,137318.42,0.0,55776.39,84421.62,83161.65,0.0,87807.29,0.0,0.0,0.0,95293.86,92847.59,0.0,0.0,0.0,0.0,0.0,0.0,68345.86,76656.4,0.0,0.0,60374.98,0.0,88046.88,0.0,0.0,0.0,129968.67,157731.6,0.0,89276.48,138825.19,103729.79,75499.24,169445.4,111359.55,142388.61,123311.39,115532.52,167273.71,77886.53,135795.63,97514.07,127545.56,106160.37,0.0,143680.47,124483.53,86006.3,111094.05,0.0,0.0,0.0,115171.71,111543.26,137936.94,122304.65,120586.54,0.0,46520.69,105473.74,0.0,115730.71,145396.49,131078.42,128298.74,165526.71,83714.41,0.0,125540.05,100254.76,0.0,138150.57,0.0,95984.21,0.0,136858.42,102609.0,0.0,0.0,77356.92,110923.15,151675.65,0.0,0.0,0.0,80204.11,0.0,0.0,115587.49,106968.96,0.0,139659.04,86038.21,102773.2,0.0,70754.18,122781.51,0.0,153545.11,121629.22,167983.17,81153.82,99760.84,125890.72,0.0,119148.55,72948.58,133974.36,154483.98,98627.13,136770.67,95252.72,117413.95,137986.58,143571.52,121197.64,121626.9,84440.1,0.0,0.0,140356.7,0.0,92224.56,0.0,121355.99,109003.26,147341.43,102983.91,96252.98,0.0,155879.09,142929.16,64082.09,0.0,0.0,0.0,118336.95,168253.21,101979.16,164902.43,0.0,111812.52,0.0,119755.0,119556.1,119349.69,139528.23,94773.11,108345.22,166939.88,174571.36,71829.34,0.0,76769.68,104614.29,0.0,128927.93,110941.93,99250.08,0.0,0.0,0.0,0.0,0.0,104682.83,118886.55,156823.7,124216.93,144258.52,128793.63,126315.26,0.0,0.0,0.0,115341.55,99162.29,156848.13,105736.32,200117.76,62212.29,0.0,0.0,151532.4,121523.51,0.0,0.0,68238.51,136808.53,92398.08,143566.12,0.0,127728.24,0.0,119658.49,0.0,149879.66,119859.52,104533.24,145382.61,121231.39,141078.57,108465.65,70657.61,120105.43,129646.91,191091.74,0.0,0.0,131433.33,137937.95,0.0,0.0,0.0,93143.39,0.0,112544.45,123034.43,0.0,119278.44,0.0,0.0,169312.72,106506.77,128412.61,118356.89,137479.13,0.0,105229.72,148088.11,0.0,126679.69,90826.27,143582.89,125712.2,0.0,155187.3,0.0,155455.43,100480.53,0.0,127585.98,101891.1,0.0,0.0,128929.88,121681.91,139603.22,0.0,0.0,91760.11,93925.3,175739.36,0.0,170295.04,101579.28,118793.6,115282.3,107980.37,133866.22,102723.35,0.0,193213.02,117005.55,132862.59,0.0,204510.94,65349.71,139753.35,0.0,107959.39,195926.39,0.0,87772.52,71018.6,111096.91,166776.6,101266.51,134796.87,0.0,118588.83,160454.15,0.0,0.0,91132.18,0.0,0.0,0.0,113113.12,0.0,190409.34,0.0,0.0,83503.11,139687.66,137301.87,129845.26,0.0,125489.4,0.0,155417.61,0.0,85216.61,0.0,0.0,113607.47,104552.72,0.0,0.0,126524.11,117593.48,83199.05,125920.98,118469.38,153537.57,0.0,151027.05,144751.81,155739.76,0.0,122531.86,113957.01,103377.81,0.0,93017.47,90022.85,74371.49,152039.7,137145.12,0.0,90602.42,123841.49,183579.54,180307.73,0.0,0.0,35016.6,88381.21,0.0,155060.41,0.0,0.0,57369.61,0.0,75075.31,130142.79],\"yaxis\":\"y\",\"ybingroup\":\"y\",\"type\":\"histogram2d\"}],                        {\"template\":{\"data\":{\"histogram2dcontour\":[{\"type\":\"histogram2dcontour\",\"colorbar\":{\"outlinewidth\":0,\"ticks\":\"\"},\"colorscale\":[[0.0,\"#0d0887\"],[0.1111111111111111,\"#46039f\"],[0.2222222222222222,\"#7201a8\"],[0.3333333333333333,\"#9c179e\"],[0.4444444444444444,\"#bd3786\"],[0.5555555555555556,\"#d8576b\"],[0.6666666666666666,\"#ed7953\"],[0.7777777777777778,\"#fb9f3a\"],[0.8888888888888888,\"#fdca26\"],[1.0,\"#f0f921\"]]}],\"choropleth\":[{\"type\":\"choropleth\",\"colorbar\":{\"outlinewidth\":0,\"ticks\":\"\"}}],\"histogram2d\":[{\"type\":\"histogram2d\",\"colorbar\":{\"outlinewidth\":0,\"ticks\":\"\"},\"colorscale\":[[0.0,\"#0d0887\"],[0.1111111111111111,\"#46039f\"],[0.2222222222222222,\"#7201a8\"],[0.3333333333333333,\"#9c179e\"],[0.4444444444444444,\"#bd3786\"],[0.5555555555555556,\"#d8576b\"],[0.6666666666666666,\"#ed7953\"],[0.7777777777777778,\"#fb9f3a\"],[0.8888888888888888,\"#fdca26\"],[1.0,\"#f0f921\"]]}],\"heatmap\":[{\"type\":\"heatmap\",\"colorbar\":{\"outlinewidth\":0,\"ticks\":\"\"},\"colorscale\":[[0.0,\"#0d0887\"],[0.1111111111111111,\"#46039f\"],[0.2222222222222222,\"#7201a8\"],[0.3333333333333333,\"#9c179e\"],[0.4444444444444444,\"#bd3786\"],[0.5555555555555556,\"#d8576b\"],[0.6666666666666666,\"#ed7953\"],[0.7777777777777778,\"#fb9f3a\"],[0.8888888888888888,\"#fdca26\"],[1.0,\"#f0f921\"]]}],\"heatmapgl\":[{\"type\":\"heatmapgl\",\"colorbar\":{\"outlinewidth\":0,\"ticks\":\"\"},\"colorscale\":[[0.0,\"#0d0887\"],[0.1111111111111111,\"#46039f\"],[0.2222222222222222,\"#7201a8\"],[0.3333333333333333,\"#9c179e\"],[0.4444444444444444,\"#bd3786\"],[0.5555555555555556,\"#d8576b\"],[0.6666666666666666,\"#ed7953\"],[0.7777777777777778,\"#fb9f3a\"],[0.8888888888888888,\"#fdca26\"],[1.0,\"#f0f921\"]]}],\"contourcarpet\":[{\"type\":\"contourcarpet\",\"colorbar\":{\"outlinewidth\":0,\"ticks\":\"\"}}],\"contour\":[{\"type\":\"contour\",\"colorbar\":{\"outlinewidth\":0,\"ticks\":\"\"},\"colorscale\":[[0.0,\"#0d0887\"],[0.1111111111111111,\"#46039f\"],[0.2222222222222222,\"#7201a8\"],[0.3333333333333333,\"#9c179e\"],[0.4444444444444444,\"#bd3786\"],[0.5555555555555556,\"#d8576b\"],[0.6666666666666666,\"#ed7953\"],[0.7777777777777778,\"#fb9f3a\"],[0.8888888888888888,\"#fdca26\"],[1.0,\"#f0f921\"]]}],\"surface\":[{\"type\":\"surface\",\"colorbar\":{\"outlinewidth\":0,\"ticks\":\"\"},\"colorscale\":[[0.0,\"#0d0887\"],[0.1111111111111111,\"#46039f\"],[0.2222222222222222,\"#7201a8\"],[0.3333333333333333,\"#9c179e\"],[0.4444444444444444,\"#bd3786\"],[0.5555555555555556,\"#d8576b\"],[0.6666666666666666,\"#ed7953\"],[0.7777777777777778,\"#fb9f3a\"],[0.8888888888888888,\"#fdca26\"],[1.0,\"#f0f921\"]]}],\"mesh3d\":[{\"type\":\"mesh3d\",\"colorbar\":{\"outlinewidth\":0,\"ticks\":\"\"}}],\"scatter\":[{\"fillpattern\":{\"fillmode\":\"overlay\",\"size\":10,\"solidity\":0.2},\"type\":\"scatter\"}],\"parcoords\":[{\"type\":\"parcoords\",\"line\":{\"colorbar\":{\"outlinewidth\":0,\"ticks\":\"\"}}}],\"scatterpolargl\":[{\"type\":\"scatterpolargl\",\"marker\":{\"colorbar\":{\"outlinewidth\":0,\"ticks\":\"\"}}}],\"bar\":[{\"error_x\":{\"color\":\"#2a3f5f\"},\"error_y\":{\"color\":\"#2a3f5f\"},\"marker\":{\"line\":{\"color\":\"#E5ECF6\",\"width\":0.5},\"pattern\":{\"fillmode\":\"overlay\",\"size\":10,\"solidity\":0.2}},\"type\":\"bar\"}],\"scattergeo\":[{\"type\":\"scattergeo\",\"marker\":{\"colorbar\":{\"outlinewidth\":0,\"ticks\":\"\"}}}],\"scatterpolar\":[{\"type\":\"scatterpolar\",\"marker\":{\"colorbar\":{\"outlinewidth\":0,\"ticks\":\"\"}}}],\"histogram\":[{\"marker\":{\"pattern\":{\"fillmode\":\"overlay\",\"size\":10,\"solidity\":0.2}},\"type\":\"histogram\"}],\"scattergl\":[{\"type\":\"scattergl\",\"marker\":{\"colorbar\":{\"outlinewidth\":0,\"ticks\":\"\"}}}],\"scatter3d\":[{\"type\":\"scatter3d\",\"line\":{\"colorbar\":{\"outlinewidth\":0,\"ticks\":\"\"}},\"marker\":{\"colorbar\":{\"outlinewidth\":0,\"ticks\":\"\"}}}],\"scattermapbox\":[{\"type\":\"scattermapbox\",\"marker\":{\"colorbar\":{\"outlinewidth\":0,\"ticks\":\"\"}}}],\"scatterternary\":[{\"type\":\"scatterternary\",\"marker\":{\"colorbar\":{\"outlinewidth\":0,\"ticks\":\"\"}}}],\"scattercarpet\":[{\"type\":\"scattercarpet\",\"marker\":{\"colorbar\":{\"outlinewidth\":0,\"ticks\":\"\"}}}],\"carpet\":[{\"aaxis\":{\"endlinecolor\":\"#2a3f5f\",\"gridcolor\":\"white\",\"linecolor\":\"white\",\"minorgridcolor\":\"white\",\"startlinecolor\":\"#2a3f5f\"},\"baxis\":{\"endlinecolor\":\"#2a3f5f\",\"gridcolor\":\"white\",\"linecolor\":\"white\",\"minorgridcolor\":\"white\",\"startlinecolor\":\"#2a3f5f\"},\"type\":\"carpet\"}],\"table\":[{\"cells\":{\"fill\":{\"color\":\"#EBF0F8\"},\"line\":{\"color\":\"white\"}},\"header\":{\"fill\":{\"color\":\"#C8D4E3\"},\"line\":{\"color\":\"white\"}},\"type\":\"table\"}],\"barpolar\":[{\"marker\":{\"line\":{\"color\":\"#E5ECF6\",\"width\":0.5},\"pattern\":{\"fillmode\":\"overlay\",\"size\":10,\"solidity\":0.2}},\"type\":\"barpolar\"}],\"pie\":[{\"automargin\":true,\"type\":\"pie\"}]},\"layout\":{\"autotypenumbers\":\"strict\",\"colorway\":[\"#636efa\",\"#EF553B\",\"#00cc96\",\"#ab63fa\",\"#FFA15A\",\"#19d3f3\",\"#FF6692\",\"#B6E880\",\"#FF97FF\",\"#FECB52\"],\"font\":{\"color\":\"#2a3f5f\"},\"hovermode\":\"closest\",\"hoverlabel\":{\"align\":\"left\"},\"paper_bgcolor\":\"white\",\"plot_bgcolor\":\"#E5ECF6\",\"polar\":{\"bgcolor\":\"#E5ECF6\",\"angularaxis\":{\"gridcolor\":\"white\",\"linecolor\":\"white\",\"ticks\":\"\"},\"radialaxis\":{\"gridcolor\":\"white\",\"linecolor\":\"white\",\"ticks\":\"\"}},\"ternary\":{\"bgcolor\":\"#E5ECF6\",\"aaxis\":{\"gridcolor\":\"white\",\"linecolor\":\"white\",\"ticks\":\"\"},\"baxis\":{\"gridcolor\":\"white\",\"linecolor\":\"white\",\"ticks\":\"\"},\"caxis\":{\"gridcolor\":\"white\",\"linecolor\":\"white\",\"ticks\":\"\"}},\"coloraxis\":{\"colorbar\":{\"outlinewidth\":0,\"ticks\":\"\"}},\"colorscale\":{\"sequential\":[[0.0,\"#0d0887\"],[0.1111111111111111,\"#46039f\"],[0.2222222222222222,\"#7201a8\"],[0.3333333333333333,\"#9c179e\"],[0.4444444444444444,\"#bd3786\"],[0.5555555555555556,\"#d8576b\"],[0.6666666666666666,\"#ed7953\"],[0.7777777777777778,\"#fb9f3a\"],[0.8888888888888888,\"#fdca26\"],[1.0,\"#f0f921\"]],\"sequentialminus\":[[0.0,\"#0d0887\"],[0.1111111111111111,\"#46039f\"],[0.2222222222222222,\"#7201a8\"],[0.3333333333333333,\"#9c179e\"],[0.4444444444444444,\"#bd3786\"],[0.5555555555555556,\"#d8576b\"],[0.6666666666666666,\"#ed7953\"],[0.7777777777777778,\"#fb9f3a\"],[0.8888888888888888,\"#fdca26\"],[1.0,\"#f0f921\"]],\"diverging\":[[0,\"#8e0152\"],[0.1,\"#c51b7d\"],[0.2,\"#de77ae\"],[0.3,\"#f1b6da\"],[0.4,\"#fde0ef\"],[0.5,\"#f7f7f7\"],[0.6,\"#e6f5d0\"],[0.7,\"#b8e186\"],[0.8,\"#7fbc41\"],[0.9,\"#4d9221\"],[1,\"#276419\"]]},\"xaxis\":{\"gridcolor\":\"white\",\"linecolor\":\"white\",\"ticks\":\"\",\"title\":{\"standoff\":15},\"zerolinecolor\":\"white\",\"automargin\":true,\"zerolinewidth\":2},\"yaxis\":{\"gridcolor\":\"white\",\"linecolor\":\"white\",\"ticks\":\"\",\"title\":{\"standoff\":15},\"zerolinecolor\":\"white\",\"automargin\":true,\"zerolinewidth\":2},\"scene\":{\"xaxis\":{\"backgroundcolor\":\"#E5ECF6\",\"gridcolor\":\"white\",\"linecolor\":\"white\",\"showbackground\":true,\"ticks\":\"\",\"zerolinecolor\":\"white\",\"gridwidth\":2},\"yaxis\":{\"backgroundcolor\":\"#E5ECF6\",\"gridcolor\":\"white\",\"linecolor\":\"white\",\"showbackground\":true,\"ticks\":\"\",\"zerolinecolor\":\"white\",\"gridwidth\":2},\"zaxis\":{\"backgroundcolor\":\"#E5ECF6\",\"gridcolor\":\"white\",\"linecolor\":\"white\",\"showbackground\":true,\"ticks\":\"\",\"zerolinecolor\":\"white\",\"gridwidth\":2}},\"shapedefaults\":{\"line\":{\"color\":\"#2a3f5f\"}},\"annotationdefaults\":{\"arrowcolor\":\"#2a3f5f\",\"arrowhead\":0,\"arrowwidth\":1},\"geo\":{\"bgcolor\":\"white\",\"landcolor\":\"#E5ECF6\",\"subunitcolor\":\"white\",\"showland\":true,\"showlakes\":true,\"lakecolor\":\"white\"},\"title\":{\"x\":0.05},\"mapbox\":{\"style\":\"light\"}}},\"xaxis\":{\"anchor\":\"y\",\"domain\":[0.0,1.0],\"title\":{\"text\":\"Age\"}},\"yaxis\":{\"anchor\":\"x\",\"domain\":[0.0,1.0],\"title\":{\"text\":\"Balance\"}},\"coloraxis\":{\"colorbar\":{\"title\":{\"text\":\"count\"}},\"colorscale\":[[0.0,\"#0d0887\"],[0.1111111111111111,\"#46039f\"],[0.2222222222222222,\"#7201a8\"],[0.3333333333333333,\"#9c179e\"],[0.4444444444444444,\"#bd3786\"],[0.5555555555555556,\"#d8576b\"],[0.6666666666666666,\"#ed7953\"],[0.7777777777777778,\"#fb9f3a\"],[0.8888888888888888,\"#fdca26\"],[1.0,\"#f0f921\"]]},\"legend\":{\"tracegroupgap\":0},\"margin\":{\"t\":60}},                        {\"responsive\": true}                    ).then(function(){\n",
              "                            \n",
              "var gd = document.getElementById('fca8a201-cc8b-486d-9f85-87eb8ec0e4cb');\n",
              "var x = new MutationObserver(function (mutations, observer) {{\n",
              "        var display = window.getComputedStyle(gd).display;\n",
              "        if (!display || display === 'none') {{\n",
              "            console.log([gd, 'removed!']);\n",
              "            Plotly.purge(gd);\n",
              "            observer.disconnect();\n",
              "        }}\n",
              "}});\n",
              "\n",
              "// Listen for the removal of the full notebook cells\n",
              "var notebookContainer = gd.closest('#notebook-container');\n",
              "if (notebookContainer) {{\n",
              "    x.observe(notebookContainer, {childList: true});\n",
              "}}\n",
              "\n",
              "// Listen for the clearing of the current output cell\n",
              "var outputEl = gd.closest('.output');\n",
              "if (outputEl) {{\n",
              "    x.observe(outputEl, {childList: true});\n",
              "}}\n",
              "\n",
              "                        })                };                            </script>        </div>\n",
              "</body>\n",
              "</html>"
            ]
          },
          "metadata": {}
        }
      ]
    },
    {
      "cell_type": "markdown",
      "source": [
        "**NOT Handling Imbalanced**"
      ],
      "metadata": {
        "id": "bqZmwW2YWfyO"
      }
    },
    {
      "cell_type": "code",
      "source": [
        "data['Exited'].value_counts()"
      ],
      "metadata": {
        "colab": {
          "base_uri": "https://localhost:8080/"
        },
        "id": "Rh3j2RpDSybI",
        "outputId": "dff50ce8-ecc5-4c54-df0f-77baaaa0688a"
      },
      "execution_count": 20,
      "outputs": [
        {
          "output_type": "execute_result",
          "data": {
            "text/plain": [
              "0    7963\n",
              "1    2037\n",
              "Name: Exited, dtype: int64"
            ]
          },
          "metadata": {},
          "execution_count": 20
        }
      ]
    },
    {
      "cell_type": "code",
      "source": [
        "sns.countplot(x='Exited', data=data, hue='Exited')\n",
        "plt.show()"
      ],
      "metadata": {
        "colab": {
          "base_uri": "https://localhost:8080/",
          "height": 449
        },
        "id": "h-rGKjLzSyZt",
        "outputId": "72738cd9-eeca-4243-bdac-aa6f479af06c"
      },
      "execution_count": 21,
      "outputs": [
        {
          "output_type": "display_data",
          "data": {
            "text/plain": [
              "<Figure size 640x480 with 1 Axes>"
            ],
            "image/png": "[encoded data removed]"
          },
          "metadata": {}
        }
      ]
    },
    {
      "cell_type": "markdown",
      "source": [
        "We can see in the above graph the data is imbalanced"
      ],
      "metadata": {
        "id": "4nlRnaK_Ytmx"
      }
    },
    {
      "cell_type": "code",
      "source": [
        "X= data.drop('Exited',axis=1)\n",
        "y= data['Exited']"
      ],
      "metadata": {
        "id": "Ay8vQwI6dXhJ"
      },
      "execution_count": 25,
      "outputs": []
    },
    {
      "cell_type": "markdown",
      "source": [
        "**10.Handling Imbalanced data**\n"
      ],
      "metadata": {
        "id": "EH-dKvLIdKxA"
      }
    },
    {
      "cell_type": "code",
      "source": [
        "from imblearn.over_sampling import SMOTE"
      ],
      "metadata": {
        "id": "jaf5gSfgdWgD"
      },
      "execution_count": 22,
      "outputs": []
    },
    {
      "cell_type": "code",
      "source": [
        "X = pd.get_dummies(X, drop_first=True)"
      ],
      "metadata": {
        "id": "DEgYfhCsehi9"
      },
      "execution_count": 26,
      "outputs": []
    },
    {
      "cell_type": "code",
      "source": [
        "X_res,y_res=SMOTE(). fit_resample(X,y)"
      ],
      "metadata": {
        "id": "5xJBqUKRd_HM"
      },
      "execution_count": 29,
      "outputs": []
    },
    {
      "cell_type": "code",
      "source": [
        "y_res.value_counts()"
      ],
      "metadata": {
        "colab": {
          "base_uri": "https://localhost:8080/"
        },
        "id": "VsOPnJihd--s",
        "outputId": "a856daaa-7176-4115-890d-0bdabe5fb6c0"
      },
      "execution_count": 30,
      "outputs": [
        {
          "output_type": "execute_result",
          "data": {
            "text/plain": [
              "1    7963\n",
              "0    7963\n",
              "Name: Exited, dtype: int64"
            ]
          },
          "metadata": {},
          "execution_count": 30
        }
      ]
    },
    {
      "cell_type": "markdown",
      "source": [
        "**11. Splitting The Dataset into The Training Set And Test Set**"
      ],
      "metadata": {
        "id": "hsDGtIzhaJv7"
      }
    },
    {
      "cell_type": "code",
      "source": [
        "from sklearn.model_selection import train_test_split"
      ],
      "metadata": {
        "id": "djX7_8s6ZQnT"
      },
      "execution_count": 31,
      "outputs": []
    },
    {
      "cell_type": "code",
      "source": [
        "X_train,X_test,y_train,y_test=train_test_split(X_res,y_res,test_size=0.20,random_state=42)"
      ],
      "metadata": {
        "id": "Nd6PWdPEZQj3"
      },
      "execution_count": 32,
      "outputs": []
    },
    {
      "cell_type": "markdown",
      "source": [
        "**12.Feature Scaling**"
      ],
      "metadata": {
        "id": "io4PUFSpaDva"
      }
    },
    {
      "cell_type": "code",
      "source": [
        "from sklearn.preprocessing import StandardScaler"
      ],
      "metadata": {
        "id": "71sCpNCYZQhb"
      },
      "execution_count": 33,
      "outputs": []
    },
    {
      "cell_type": "code",
      "source": [
        "sc = StandardScaler()"
      ],
      "metadata": {
        "id": "1cP9mnXHZQfJ"
      },
      "execution_count": 34,
      "outputs": []
    },
    {
      "cell_type": "code",
      "source": [
        "X_train = pd.get_dummies(X_train, drop_first=True)\n",
        "X_test = pd.get_dummies(X_test, drop_first=True)"
      ],
      "metadata": {
        "id": "noV95jByb50v"
      },
      "execution_count": 35,
      "outputs": []
    },
    {
      "cell_type": "code",
      "source": [
        "X_train=sc.fit_transform(X_train)\n",
        "X_test=sc.transform(X_test)"
      ],
      "metadata": {
        "id": "Xj5T7gRUZO_j"
      },
      "execution_count": 36,
      "outputs": []
    },
    {
      "cell_type": "code",
      "source": [
        "X_train"
      ],
      "metadata": {
        "colab": {
          "base_uri": "https://localhost:8080/"
        },
        "id": "hqx0nMwAcvhW",
        "outputId": "3fffd5c4-ab46-42d1-8d75-2b08bbaee460"
      },
      "execution_count": 37,
      "outputs": [
        {
          "output_type": "execute_result",
          "data": {
            "text/plain": [
              "array([[-0.90423215,  0.10344297,  0.44801793, ..., -0.57686688,\n",
              "        -0.458499  ,  1.17472288],\n",
              "       [ 1.09499677,  0.10344297, -1.38951617, ..., -0.57686688,\n",
              "        -0.458499  ,  1.17472288],\n",
              "       [ 0.83280282, -0.2993886 ,  1.18303157, ..., -0.57686688,\n",
              "        -0.458499  , -0.8512646 ],\n",
              "       ...,\n",
              "       [ 0.19916742,  0.20415087,  1.18303157, ..., -0.57686688,\n",
              "        -0.458499  ,  1.17472288],\n",
              "       [ 0.74540483,  0.00273508, -0.28699571, ..., -0.57686688,\n",
              "        -0.458499  , -0.8512646 ],\n",
              "       [ 0.52690987,  1.00981402, -1.38951617, ...,  1.7335022 ,\n",
              "        -0.458499  ,  1.17472288]])"
            ]
          },
          "metadata": {},
          "execution_count": 37
        }
      ]
    },
    {
      "cell_type": "markdown",
      "source": [
        "**13.Logistic Regression**"
      ],
      "metadata": {
        "id": "5GcgjZG3j1Ak"
      }
    },
    {
      "cell_type": "code",
      "source": [
        "from sklearn.linear_model import LogisticRegression"
      ],
      "metadata": {
        "id": "aq8bakz8cvd1"
      },
      "execution_count": 38,
      "outputs": []
    },
    {
      "cell_type": "code",
      "source": [
        "log = LogisticRegression()\n",
        "log.fit(X_train,y_train)"
      ],
      "metadata": {
        "colab": {
          "base_uri": "https://localhost:8080/",
          "height": 74
        },
        "id": "se2XmbGwcvb0",
        "outputId": "136ebf35-ce3a-4159-cfd2-ac9c3bbdab19"
      },
      "execution_count": 39,
      "outputs": [
        {
          "output_type": "execute_result",
          "data": {
            "text/plain": [
              "LogisticRegression()"
            ],
            "text/html": [
              "<style>#sk-container-id-1 {color: black;background-color: white;}#sk-container-id-1 pre{padding: 0;}#sk-container-id-1 div.sk-toggleable {background-color: white;}#sk-container-id-1 label.sk-toggleable__label {cursor: pointer;display: block;width: 100%;margin-bottom: 0;padding: 0.3em;box-sizing: border-box;text-align: center;}#sk-container-id-1 label.sk-toggleable__label-arrow:before {content: \"▸\";float: left;margin-right: 0.25em;color: #696969;}#sk-container-id-1 label.sk-toggleable__label-arrow:hover:before {color: black;}#sk-container-id-1 div.sk-estimator:hover label.sk-toggleable__label-arrow:before {color: black;}#sk-container-id-1 div.sk-toggleable__content {max-height: 0;max-width: 0;overflow: hidden;text-align: left;background-color: #f0f8ff;}#sk-container-id-1 div.sk-toggleable__content pre {margin: 0.2em;color: black;border-radius: 0.25em;background-color: #f0f8ff;}#sk-container-id-1 input.sk-toggleable__control:checked~div.sk-toggleable__content {max-height: 200px;max-width: 100%;overflow: auto;}#sk-container-id-1 input.sk-toggleable__control:checked~label.sk-toggleable__label-arrow:before {content: \"▾\";}#sk-container-id-1 div.sk-estimator input.sk-toggleable__control:checked~label.sk-toggleable__label {background-color: #d4ebff;}#sk-container-id-1 div.sk-label input.sk-toggleable__control:checked~label.sk-toggleable__label {background-color: #d4ebff;}#sk-container-id-1 input.sk-hidden--visually {border: 0;clip: rect(1px 1px 1px 1px);clip: rect(1px, 1px, 1px, 1px);height: 1px;margin: -1px;overflow: hidden;padding: 0;position: absolute;width: 1px;}#sk-container-id-1 div.sk-estimator {font-family: monospace;background-color: #f0f8ff;border: 1px dotted black;border-radius: 0.25em;box-sizing: border-box;margin-bottom: 0.5em;}#sk-container-id-1 div.sk-estimator:hover {background-color: #d4ebff;}#sk-container-id-1 div.sk-parallel-item::after {content: \"\";width: 100%;border-bottom: 1px solid gray;flex-grow: 1;}#sk-container-id-1 div.sk-label:hover label.sk-toggleable__label {background-color: #d4ebff;}#sk-container-id-1 div.sk-serial::before {content: \"\";position: absolute;border-left: 1px solid gray;box-sizing: border-box;top: 0;bottom: 0;left: 50%;z-index: 0;}#sk-container-id-1 div.sk-serial {display: flex;flex-direction: column;align-items: center;background-color: white;padding-right: 0.2em;padding-left: 0.2em;position: relative;}#sk-container-id-1 div.sk-item {position: relative;z-index: 1;}#sk-container-id-1 div.sk-parallel {display: flex;align-items: stretch;justify-content: center;background-color: white;position: relative;}#sk-container-id-1 div.sk-item::before, #sk-container-id-1 div.sk-parallel-item::before {content: \"\";position: absolute;border-left: 1px solid gray;box-sizing: border-box;top: 0;bottom: 0;left: 50%;z-index: -1;}#sk-container-id-1 div.sk-parallel-item {display: flex;flex-direction: column;z-index: 1;position: relative;background-color: white;}#sk-container-id-1 div.sk-parallel-item:first-child::after {align-self: flex-end;width: 50%;}#sk-container-id-1 div.sk-parallel-item:last-child::after {align-self: flex-start;width: 50%;}#sk-container-id-1 div.sk-parallel-item:only-child::after {width: 0;}#sk-container-id-1 div.sk-dashed-wrapped {border: 1px dashed gray;margin: 0 0.4em 0.5em 0.4em;box-sizing: border-box;padding-bottom: 0.4em;background-color: white;}#sk-container-id-1 div.sk-label label {font-family: monospace;font-weight: bold;display: inline-block;line-height: 1.2em;}#sk-container-id-1 div.sk-label-container {text-align: center;}#sk-container-id-1 div.sk-container {/* jupyter's `normalize.less` sets `[hidden] { display: none; }` but bootstrap.min.css set `[hidden] { display: none !important; }` so we also need the `!important` here to be able to override the default hidden behavior on the sphinx rendered scikit-learn.org. See: https://github.com/scikit-learn/scikit-learn/issues/21755 */display: inline-block !important;position: relative;}#sk-container-id-1 div.sk-text-repr-fallback {display: none;}</style><div id=\"sk-container-id-1\" class=\"sk-top-container\"><div class=\"sk-text-repr-fallback\"><pre>LogisticRegression()</pre><b>In a Jupyter environment, please rerun this cell to show the HTML representation or trust the notebook. <br />On GitHub, the HTML representation is unable to render, please try loading this page with nbviewer.org.</b></div><div class=\"sk-container\" hidden><div class=\"sk-item\"><div class=\"sk-estimator sk-toggleable\"><input class=\"sk-toggleable__control sk-hidden--visually\" id=\"sk-estimator-id-1\" type=\"checkbox\" checked><label for=\"sk-estimator-id-1\" class=\"sk-toggleable__label sk-toggleable__label-arrow\">LogisticRegression</label><div class=\"sk-toggleable__content\"><pre>LogisticRegression()</pre></div></div></div></div></div>"
            ]
          },
          "metadata": {},
          "execution_count": 39
        }
      ]
    },
    {
      "cell_type": "code",
      "source": [
        "y_pred1=log.predict(X_test)"
      ],
      "metadata": {
        "id": "lTj25tV8cvZs"
      },
      "execution_count": 40,
      "outputs": []
    },
    {
      "cell_type": "code",
      "source": [
        "from sklearn.metrics import classification_report"
      ],
      "metadata": {
        "id": "a5jlGNiqzKTv"
      },
      "execution_count": 41,
      "outputs": []
    },
    {
      "cell_type": "code",
      "source": [
        "print(classification_report(y_test, y_pred1))"
      ],
      "metadata": {
        "colab": {
          "base_uri": "https://localhost:8080/"
        },
        "id": "VTCQRU1FzNXR",
        "outputId": "20cb96e0-6b4e-44ef-8f90-b4e8e6b76c21"
      },
      "execution_count": 42,
      "outputs": [
        {
          "output_type": "stream",
          "name": "stdout",
          "text": [
            "              precision    recall  f1-score   support\n",
            "\n",
            "           0       0.79      0.78      0.78      1633\n",
            "           1       0.77      0.78      0.77      1553\n",
            "\n",
            "    accuracy                           0.78      3186\n",
            "   macro avg       0.78      0.78      0.78      3186\n",
            "weighted avg       0.78      0.78      0.78      3186\n",
            "\n"
          ]
        }
      ]
    },
    {
      "cell_type": "code",
      "source": [
        "from sklearn.metrics import accuracy_score\n",
        "accuracy_score(y_test, y_pred1)"
      ],
      "metadata": {
        "colab": {
          "base_uri": "https://localhost:8080/"
        },
        "id": "560TFTcKzT38",
        "outputId": "3af41100-103f-414f-908f-77641bfaa33b"
      },
      "execution_count": 43,
      "outputs": [
        {
          "output_type": "execute_result",
          "data": {
            "text/plain": [
              "0.7780916509730069"
            ]
          },
          "metadata": {},
          "execution_count": 43
        }
      ]
    },
    {
      "cell_type": "markdown",
      "source": [
        "**14.SVC**"
      ],
      "metadata": {
        "id": "YozcJXDxnpju"
      }
    },
    {
      "cell_type": "code",
      "source": [
        "from sklearn import svm"
      ],
      "metadata": {
        "id": "IC5J6L26SyIA"
      },
      "execution_count": 44,
      "outputs": []
    },
    {
      "cell_type": "code",
      "source": [
        "svm=svm.SVC()"
      ],
      "metadata": {
        "id": "GMglavzGoJph"
      },
      "execution_count": 45,
      "outputs": []
    },
    {
      "cell_type": "code",
      "source": [
        "svm.fit(X_train,y_train)"
      ],
      "metadata": {
        "colab": {
          "base_uri": "https://localhost:8080/",
          "height": 74
        },
        "id": "3Tl-WmqVoJl-",
        "outputId": "71147283-dd41-4a62-f723-541c94b9594f"
      },
      "execution_count": 46,
      "outputs": [
        {
          "output_type": "execute_result",
          "data": {
            "text/plain": [
              "SVC()"
            ],
            "text/html": [
              "<style>#sk-container-id-2 {color: black;background-color: white;}#sk-container-id-2 pre{padding: 0;}#sk-container-id-2 div.sk-toggleable {background-color: white;}#sk-container-id-2 label.sk-toggleable__label {cursor: pointer;display: block;width: 100%;margin-bottom: 0;padding: 0.3em;box-sizing: border-box;text-align: center;}#sk-container-id-2 label.sk-toggleable__label-arrow:before {content: \"▸\";float: left;margin-right: 0.25em;color: #696969;}#sk-container-id-2 label.sk-toggleable__label-arrow:hover:before {color: black;}#sk-container-id-2 div.sk-estimator:hover label.sk-toggleable__label-arrow:before {color: black;}#sk-container-id-2 div.sk-toggleable__content {max-height: 0;max-width: 0;overflow: hidden;text-align: left;background-color: #f0f8ff;}#sk-container-id-2 div.sk-toggleable__content pre {margin: 0.2em;color: black;border-radius: 0.25em;background-color: #f0f8ff;}#sk-container-id-2 input.sk-toggleable__control:checked~div.sk-toggleable__content {max-height: 200px;max-width: 100%;overflow: auto;}#sk-container-id-2 input.sk-toggleable__control:checked~label.sk-toggleable__label-arrow:before {content: \"▾\";}#sk-container-id-2 div.sk-estimator input.sk-toggleable__control:checked~label.sk-toggleable__label {background-color: #d4ebff;}#sk-container-id-2 div.sk-label input.sk-toggleable__control:checked~label.sk-toggleable__label {background-color: #d4ebff;}#sk-container-id-2 input.sk-hidden--visually {border: 0;clip: rect(1px 1px 1px 1px);clip: rect(1px, 1px, 1px, 1px);height: 1px;margin: -1px;overflow: hidden;padding: 0;position: absolute;width: 1px;}#sk-container-id-2 div.sk-estimator {font-family: monospace;background-color: #f0f8ff;border: 1px dotted black;border-radius: 0.25em;box-sizing: border-box;margin-bottom: 0.5em;}#sk-container-id-2 div.sk-estimator:hover {background-color: #d4ebff;}#sk-container-id-2 div.sk-parallel-item::after {content: \"\";width: 100%;border-bottom: 1px solid gray;flex-grow: 1;}#sk-container-id-2 div.sk-label:hover label.sk-toggleable__label {background-color: #d4ebff;}#sk-container-id-2 div.sk-serial::before {content: \"\";position: absolute;border-left: 1px solid gray;box-sizing: border-box;top: 0;bottom: 0;left: 50%;z-index: 0;}#sk-container-id-2 div.sk-serial {display: flex;flex-direction: column;align-items: center;background-color: white;padding-right: 0.2em;padding-left: 0.2em;position: relative;}#sk-container-id-2 div.sk-item {position: relative;z-index: 1;}#sk-container-id-2 div.sk-parallel {display: flex;align-items: stretch;justify-content: center;background-color: white;position: relative;}#sk-container-id-2 div.sk-item::before, #sk-container-id-2 div.sk-parallel-item::before {content: \"\";position: absolute;border-left: 1px solid gray;box-sizing: border-box;top: 0;bottom: 0;left: 50%;z-index: -1;}#sk-container-id-2 div.sk-parallel-item {display: flex;flex-direction: column;z-index: 1;position: relative;background-color: white;}#sk-container-id-2 div.sk-parallel-item:first-child::after {align-self: flex-end;width: 50%;}#sk-container-id-2 div.sk-parallel-item:last-child::after {align-self: flex-start;width: 50%;}#sk-container-id-2 div.sk-parallel-item:only-child::after {width: 0;}#sk-container-id-2 div.sk-dashed-wrapped {border: 1px dashed gray;margin: 0 0.4em 0.5em 0.4em;box-sizing: border-box;padding-bottom: 0.4em;background-color: white;}#sk-container-id-2 div.sk-label label {font-family: monospace;font-weight: bold;display: inline-block;line-height: 1.2em;}#sk-container-id-2 div.sk-label-container {text-align: center;}#sk-container-id-2 div.sk-container {/* jupyter's `normalize.less` sets `[hidden] { display: none; }` but bootstrap.min.css set `[hidden] { display: none !important; }` so we also need the `!important` here to be able to override the default hidden behavior on the sphinx rendered scikit-learn.org. See: https://github.com/scikit-learn/scikit-learn/issues/21755 */display: inline-block !important;position: relative;}#sk-container-id-2 div.sk-text-repr-fallback {display: none;}</style><div id=\"sk-container-id-2\" class=\"sk-top-container\"><div class=\"sk-text-repr-fallback\"><pre>SVC()</pre><b>In a Jupyter environment, please rerun this cell to show the HTML representation or trust the notebook. <br />On GitHub, the HTML representation is unable to render, please try loading this page with nbviewer.org.</b></div><div class=\"sk-container\" hidden><div class=\"sk-item\"><div class=\"sk-estimator sk-toggleable\"><input class=\"sk-toggleable__control sk-hidden--visually\" id=\"sk-estimator-id-2\" type=\"checkbox\" checked><label for=\"sk-estimator-id-2\" class=\"sk-toggleable__label sk-toggleable__label-arrow\">SVC</label><div class=\"sk-toggleable__content\"><pre>SVC()</pre></div></div></div></div></div>"
            ]
          },
          "metadata": {},
          "execution_count": 46
        }
      ]
    },
    {
      "cell_type": "code",
      "source": [
        "y_pred2=svm.predict(X_test)"
      ],
      "metadata": {
        "id": "NJ_X2BEJoJjm"
      },
      "execution_count": 47,
      "outputs": []
    },
    {
      "cell_type": "code",
      "source": [
        "print(classification_report(y_test, y_pred2))"
      ],
      "metadata": {
        "colab": {
          "base_uri": "https://localhost:8080/"
        },
        "id": "wtLl54Mdzdoe",
        "outputId": "73a6a222-8f67-45df-9a02-8fbc635a04f5"
      },
      "execution_count": 48,
      "outputs": [
        {
          "output_type": "stream",
          "name": "stdout",
          "text": [
            "              precision    recall  f1-score   support\n",
            "\n",
            "           0       0.85      0.84      0.84      1633\n",
            "           1       0.83      0.84      0.84      1553\n",
            "\n",
            "    accuracy                           0.84      3186\n",
            "   macro avg       0.84      0.84      0.84      3186\n",
            "weighted avg       0.84      0.84      0.84      3186\n",
            "\n"
          ]
        }
      ]
    },
    {
      "cell_type": "code",
      "source": [
        "accuracy_score(y_test,y_pred2)"
      ],
      "metadata": {
        "colab": {
          "base_uri": "https://localhost:8080/"
        },
        "id": "_foXxD0MoJhQ",
        "outputId": "a1de274f-41cf-4d4a-f974-052ce2294bed"
      },
      "execution_count": 49,
      "outputs": [
        {
          "output_type": "execute_result",
          "data": {
            "text/plain": [
              "0.8408662900188324"
            ]
          },
          "metadata": {},
          "execution_count": 49
        }
      ]
    },
    {
      "cell_type": "markdown",
      "source": [
        "**15. KNN**"
      ],
      "metadata": {
        "id": "497K262mo-Nn"
      }
    },
    {
      "cell_type": "code",
      "source": [
        "from sklearn.neighbors import KNeighborsClassifier"
      ],
      "metadata": {
        "id": "A4QuPn57o4j-"
      },
      "execution_count": 50,
      "outputs": []
    },
    {
      "cell_type": "code",
      "source": [
        "knn=KNeighborsClassifier()\n",
        "knn.fit(X_train,y_train)"
      ],
      "metadata": {
        "colab": {
          "base_uri": "https://localhost:8080/",
          "height": 74
        },
        "id": "TccA4OO6pOpF",
        "outputId": "6950fa41-a96e-42bf-fa11-a59073b5286c"
      },
      "execution_count": 51,
      "outputs": [
        {
          "output_type": "execute_result",
          "data": {
            "text/plain": [
              "KNeighborsClassifier()"
            ],
            "text/html": [
              "<style>#sk-container-id-3 {color: black;background-color: white;}#sk-container-id-3 pre{padding: 0;}#sk-container-id-3 div.sk-toggleable {background-color: white;}#sk-container-id-3 label.sk-toggleable__label {cursor: pointer;display: block;width: 100%;margin-bottom: 0;padding: 0.3em;box-sizing: border-box;text-align: center;}#sk-container-id-3 label.sk-toggleable__label-arrow:before {content: \"▸\";float: left;margin-right: 0.25em;color: #696969;}#sk-container-id-3 label.sk-toggleable__label-arrow:hover:before {color: black;}#sk-container-id-3 div.sk-estimator:hover label.sk-toggleable__label-arrow:before {color: black;}#sk-container-id-3 div.sk-toggleable__content {max-height: 0;max-width: 0;overflow: hidden;text-align: left;background-color: #f0f8ff;}#sk-container-id-3 div.sk-toggleable__content pre {margin: 0.2em;color: black;border-radius: 0.25em;background-color: #f0f8ff;}#sk-container-id-3 input.sk-toggleable__control:checked~div.sk-toggleable__content {max-height: 200px;max-width: 100%;overflow: auto;}#sk-container-id-3 input.sk-toggleable__control:checked~label.sk-toggleable__label-arrow:before {content: \"▾\";}#sk-container-id-3 div.sk-estimator input.sk-toggleable__control:checked~label.sk-toggleable__label {background-color: #d4ebff;}#sk-container-id-3 div.sk-label input.sk-toggleable__control:checked~label.sk-toggleable__label {background-color: #d4ebff;}#sk-container-id-3 input.sk-hidden--visually {border: 0;clip: rect(1px 1px 1px 1px);clip: rect(1px, 1px, 1px, 1px);height: 1px;margin: -1px;overflow: hidden;padding: 0;position: absolute;width: 1px;}#sk-container-id-3 div.sk-estimator {font-family: monospace;background-color: #f0f8ff;border: 1px dotted black;border-radius: 0.25em;box-sizing: border-box;margin-bottom: 0.5em;}#sk-container-id-3 div.sk-estimator:hover {background-color: #d4ebff;}#sk-container-id-3 div.sk-parallel-item::after {content: \"\";width: 100%;border-bottom: 1px solid gray;flex-grow: 1;}#sk-container-id-3 div.sk-label:hover label.sk-toggleable__label {background-color: #d4ebff;}#sk-container-id-3 div.sk-serial::before {content: \"\";position: absolute;border-left: 1px solid gray;box-sizing: border-box;top: 0;bottom: 0;left: 50%;z-index: 0;}#sk-container-id-3 div.sk-serial {display: flex;flex-direction: column;align-items: center;background-color: white;padding-right: 0.2em;padding-left: 0.2em;position: relative;}#sk-container-id-3 div.sk-item {position: relative;z-index: 1;}#sk-container-id-3 div.sk-parallel {display: flex;align-items: stretch;justify-content: center;background-color: white;position: relative;}#sk-container-id-3 div.sk-item::before, #sk-container-id-3 div.sk-parallel-item::before {content: \"\";position: absolute;border-left: 1px solid gray;box-sizing: border-box;top: 0;bottom: 0;left: 50%;z-index: -1;}#sk-container-id-3 div.sk-parallel-item {display: flex;flex-direction: column;z-index: 1;position: relative;background-color: white;}#sk-container-id-3 div.sk-parallel-item:first-child::after {align-self: flex-end;width: 50%;}#sk-container-id-3 div.sk-parallel-item:last-child::after {align-self: flex-start;width: 50%;}#sk-container-id-3 div.sk-parallel-item:only-child::after {width: 0;}#sk-container-id-3 div.sk-dashed-wrapped {border: 1px dashed gray;margin: 0 0.4em 0.5em 0.4em;box-sizing: border-box;padding-bottom: 0.4em;background-color: white;}#sk-container-id-3 div.sk-label label {font-family: monospace;font-weight: bold;display: inline-block;line-height: 1.2em;}#sk-container-id-3 div.sk-label-container {text-align: center;}#sk-container-id-3 div.sk-container {/* jupyter's `normalize.less` sets `[hidden] { display: none; }` but bootstrap.min.css set `[hidden] { display: none !important; }` so we also need the `!important` here to be able to override the default hidden behavior on the sphinx rendered scikit-learn.org. See: https://github.com/scikit-learn/scikit-learn/issues/21755 */display: inline-block !important;position: relative;}#sk-container-id-3 div.sk-text-repr-fallback {display: none;}</style><div id=\"sk-container-id-3\" class=\"sk-top-container\"><div class=\"sk-text-repr-fallback\"><pre>KNeighborsClassifier()</pre><b>In a Jupyter environment, please rerun this cell to show the HTML representation or trust the notebook. <br />On GitHub, the HTML representation is unable to render, please try loading this page with nbviewer.org.</b></div><div class=\"sk-container\" hidden><div class=\"sk-item\"><div class=\"sk-estimator sk-toggleable\"><input class=\"sk-toggleable__control sk-hidden--visually\" id=\"sk-estimator-id-3\" type=\"checkbox\" checked><label for=\"sk-estimator-id-3\" class=\"sk-toggleable__label sk-toggleable__label-arrow\">KNeighborsClassifier</label><div class=\"sk-toggleable__content\"><pre>KNeighborsClassifier()</pre></div></div></div></div></div>"
            ]
          },
          "metadata": {},
          "execution_count": 51
        }
      ]
    },
    {
      "cell_type": "code",
      "source": [
        "y_pred3=knn.predict(X_test)"
      ],
      "metadata": {
        "id": "ojAPE23xpeiF"
      },
      "execution_count": 52,
      "outputs": []
    },
    {
      "cell_type": "code",
      "source": [
        "print(classification_report(y_test, y_pred3))"
      ],
      "metadata": {
        "colab": {
          "base_uri": "https://localhost:8080/"
        },
        "id": "wr47lgOWzmE9",
        "outputId": "e5e33399-744e-417a-b5df-fab718271185"
      },
      "execution_count": 53,
      "outputs": [
        {
          "output_type": "stream",
          "name": "stdout",
          "text": [
            "              precision    recall  f1-score   support\n",
            "\n",
            "           0       0.83      0.81      0.82      1633\n",
            "           1       0.80      0.83      0.82      1553\n",
            "\n",
            "    accuracy                           0.82      3186\n",
            "   macro avg       0.82      0.82      0.82      3186\n",
            "weighted avg       0.82      0.82      0.82      3186\n",
            "\n"
          ]
        }
      ]
    },
    {
      "cell_type": "code",
      "source": [
        "accuracy_score(y_test,y_pred3)"
      ],
      "metadata": {
        "colab": {
          "base_uri": "https://localhost:8080/"
        },
        "id": "BjwFuxxVpl-6",
        "outputId": "951bb457-37e4-4f1c-a05b-fa63f1040a93"
      },
      "execution_count": 54,
      "outputs": [
        {
          "output_type": "execute_result",
          "data": {
            "text/plain": [
              "0.8195229127432517"
            ]
          },
          "metadata": {},
          "execution_count": 54
        }
      ]
    },
    {
      "cell_type": "markdown",
      "source": [
        "**16.VISUALIZE THE BEST MODEL**"
      ],
      "metadata": {
        "id": "SFml_0L7p7Ke"
      }
    },
    {
      "cell_type": "code",
      "source": [
        "final_data = {\n",
        "    'Models': ['LR', 'SVC', 'KNN'],\n",
        "    'ACC': [accuracy_score(y_test, y_pred1), accuracy_score(y_test, y_pred2), accuracy_score(y_test, y_pred3)]\n",
        "}"
      ],
      "metadata": {
        "id": "3D8Q3j0up6R9"
      },
      "execution_count": 55,
      "outputs": []
    },
    {
      "cell_type": "code",
      "source": [
        "final_data"
      ],
      "metadata": {
        "colab": {
          "base_uri": "https://localhost:8080/"
        },
        "id": "gVFwPP4qr7vc",
        "outputId": "ced30fec-a018-4b04-8ce2-c3d1ca454f4c"
      },
      "execution_count": 56,
      "outputs": [
        {
          "output_type": "execute_result",
          "data": {
            "text/plain": [
              "{'Models': ['LR', 'SVC', 'KNN'],\n",
              " 'ACC': [0.7780916509730069, 0.8408662900188324, 0.8195229127432517]}"
            ]
          },
          "metadata": {},
          "execution_count": 56
        }
      ]
    },
    {
      "cell_type": "code",
      "source": [
        "import seaborn as sns"
      ],
      "metadata": {
        "id": "YtYW8RELsLbF"
      },
      "execution_count": 57,
      "outputs": []
    },
    {
      "cell_type": "code",
      "source": [
        "sns.barplot(x=final_data['Models'], y=final_data['ACC'])\n",
        "plt.xlabel('Models')\n",
        "plt.ylabel('Accuracy')\n",
        "plt.show()"
      ],
      "metadata": {
        "colab": {
          "base_uri": "https://localhost:8080/",
          "height": 449
        },
        "id": "3vTxArGqsQ0p",
        "outputId": "9a50f3d0-7cd1-4612-bd01-f9e8d99b49f7"
      },
      "execution_count": 58,
      "outputs": [
        {
          "output_type": "display_data",
          "data": {
            "text/plain": [
              "<Figure size 640x480 with 1 Axes>"
            ],
            "image/png": "[encoded data removed]"
          },
          "metadata": {}
        }
      ]
    }
  ]
}